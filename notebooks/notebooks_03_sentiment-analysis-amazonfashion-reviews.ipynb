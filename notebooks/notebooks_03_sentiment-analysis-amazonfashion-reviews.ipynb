{
 "cells": [
  {
   "cell_type": "markdown",
   "id": "49b0b734",
   "metadata": {
    "papermill": {
     "duration": 0.016602,
     "end_time": "2025-01-08T21:11:33.418401",
     "exception": false,
     "start_time": "2025-01-08T21:11:33.401799",
     "status": "completed"
    },
    "tags": []
   },
   "source": [
    "# **Sentiment Analysis**\n",
    "\n",
    "This project is to conduct sentiment analysis on Amazon Fashion reviews, to classify the reviews into 'positive', 'negative', 'neutral' category. \n",
    "\n",
    "In the first step Natural language processing is used, more specifically the VADER approach. Here the data is analysed and given numeric socres of positive, negative, neutral and a combimed weight of the three, called compound. \n",
    "Furthermore, the compound scores are used to label the individual reviews as, 'positive', 'negative', and 'neutral' \n",
    "\n",
    "In the second step a Machine learning model is developed based on the 'vader-lables'. This is achieved by utilising NLP process of TF-IDF (Text Frequency - Inverse Document Frequency), which converts the text from the reviews into numerical values, which are furhter used to train a SVM model. \n",
    "\n",
    "In the third step VADER scores and the ML score will be comepared to see the performance of the created model.\n",
    "\n",
    "Lastly we will draw conclusions about the model performance and see how it can be improved in the future.\n"
   ]
  },
  {
   "cell_type": "code",
   "execution_count": 1,
   "id": "95c8066e",
   "metadata": {
    "_cell_guid": "b1076dfc-b9ad-4769-8c92-a6c4dae69d19",
    "_uuid": "8f2839f25d086af736a60e9eeb907d3b93b6e0e5",
    "execution": {
     "iopub.execute_input": "2025-01-08T21:11:33.449304Z",
     "iopub.status.busy": "2025-01-08T21:11:33.448923Z",
     "iopub.status.idle": "2025-01-08T21:11:37.032401Z",
     "shell.execute_reply": "2025-01-08T21:11:37.030950Z"
    },
    "papermill": {
     "duration": 3.60283,
     "end_time": "2025-01-08T21:11:37.034866",
     "exception": false,
     "start_time": "2025-01-08T21:11:33.432036",
     "status": "completed"
    },
    "tags": []
   },
   "outputs": [
    {
     "name": "stdout",
     "output_type": "stream",
     "text": [
      "/kaggle/input/amazon-fashion-huggingfacedataset/Amazon_Fashion.jsonl\n"
     ]
    }
   ],
   "source": [
    "import numpy as np \n",
    "import pandas as pd \n",
    "\n",
    "import matplotlib.pyplot as plt\n",
    "import seaborn as sns\n",
    "\n",
    "from datetime import datetime\n",
    "import nltk\n",
    "\n",
    "\n",
    "\n",
    "import os\n",
    "for dirname, _, filenames in os.walk('/kaggle/input'):\n",
    "    for filename in filenames:\n",
    "        print(os.path.join(dirname, filename))\n",
    "\n"
   ]
  },
  {
   "cell_type": "markdown",
   "id": "dd3093b6",
   "metadata": {
    "papermill": {
     "duration": 0.013245,
     "end_time": "2025-01-08T21:11:37.062101",
     "exception": false,
     "start_time": "2025-01-08T21:11:37.048856",
     "status": "completed"
    },
    "tags": []
   },
   "source": []
  },
  {
   "cell_type": "code",
   "execution_count": 2,
   "id": "da67b13f",
   "metadata": {
    "execution": {
     "iopub.execute_input": "2025-01-08T21:11:37.090453Z",
     "iopub.status.busy": "2025-01-08T21:11:37.089932Z",
     "iopub.status.idle": "2025-01-08T21:12:29.983814Z",
     "shell.execute_reply": "2025-01-08T21:12:29.982514Z"
    },
    "papermill": {
     "duration": 52.909643,
     "end_time": "2025-01-08T21:12:29.986212",
     "exception": false,
     "start_time": "2025-01-08T21:11:37.076569",
     "status": "completed"
    },
    "tags": []
   },
   "outputs": [],
   "source": [
    "# Loading the dataset \n",
    "file_path = '/kaggle/input/amazon-fashion-huggingfacedataset/Amazon_Fashion.jsonl'\n",
    "\n",
    "data = pd.read_json(file_path, lines = True)"
   ]
  },
  {
   "cell_type": "code",
   "execution_count": 3,
   "id": "c3150afe",
   "metadata": {
    "execution": {
     "iopub.execute_input": "2025-01-08T21:12:30.015423Z",
     "iopub.status.busy": "2025-01-08T21:12:30.014987Z",
     "iopub.status.idle": "2025-01-08T21:12:30.042058Z",
     "shell.execute_reply": "2025-01-08T21:12:30.040782Z"
    },
    "papermill": {
     "duration": 0.045284,
     "end_time": "2025-01-08T21:12:30.044348",
     "exception": false,
     "start_time": "2025-01-08T21:12:29.999064",
     "status": "completed"
    },
    "tags": []
   },
   "outputs": [
    {
     "data": {
      "text/html": [
       "<div>\n",
       "<style scoped>\n",
       "    .dataframe tbody tr th:only-of-type {\n",
       "        vertical-align: middle;\n",
       "    }\n",
       "\n",
       "    .dataframe tbody tr th {\n",
       "        vertical-align: top;\n",
       "    }\n",
       "\n",
       "    .dataframe thead th {\n",
       "        text-align: right;\n",
       "    }\n",
       "</style>\n",
       "<table border=\"1\" class=\"dataframe\">\n",
       "  <thead>\n",
       "    <tr style=\"text-align: right;\">\n",
       "      <th></th>\n",
       "      <th>rating</th>\n",
       "      <th>title</th>\n",
       "      <th>text</th>\n",
       "      <th>images</th>\n",
       "      <th>asin</th>\n",
       "      <th>parent_asin</th>\n",
       "      <th>user_id</th>\n",
       "      <th>timestamp</th>\n",
       "      <th>helpful_vote</th>\n",
       "      <th>verified_purchase</th>\n",
       "    </tr>\n",
       "  </thead>\n",
       "  <tbody>\n",
       "    <tr>\n",
       "      <th>0</th>\n",
       "      <td>5</td>\n",
       "      <td>Pretty locket</td>\n",
       "      <td>I think this locket is really pretty. The insi...</td>\n",
       "      <td>[]</td>\n",
       "      <td>B00LOPVX74</td>\n",
       "      <td>B00LOPVX74</td>\n",
       "      <td>AGBFYI2DDIKXC5Y4FARTYDTQBMFQ</td>\n",
       "      <td>2020-01-09 00:06:34.489</td>\n",
       "      <td>3</td>\n",
       "      <td>True</td>\n",
       "    </tr>\n",
       "    <tr>\n",
       "      <th>1</th>\n",
       "      <td>5</td>\n",
       "      <td>A</td>\n",
       "      <td>Great</td>\n",
       "      <td>[]</td>\n",
       "      <td>B07B4JXK8D</td>\n",
       "      <td>B07B4JXK8D</td>\n",
       "      <td>AFQLNQNQYFWQZPJQZS6V3NZU4QBQ</td>\n",
       "      <td>2020-12-20 01:04:06.701</td>\n",
       "      <td>0</td>\n",
       "      <td>True</td>\n",
       "    </tr>\n",
       "    <tr>\n",
       "      <th>2</th>\n",
       "      <td>2</td>\n",
       "      <td>Two Stars</td>\n",
       "      <td>One of the stones fell out within the first 2 ...</td>\n",
       "      <td>[]</td>\n",
       "      <td>B007ZSEQ4Q</td>\n",
       "      <td>B007ZSEQ4Q</td>\n",
       "      <td>AHITBJSS7KYUBVZPX7M2WJCOIVKQ</td>\n",
       "      <td>2015-05-23 01:33:48.000</td>\n",
       "      <td>3</td>\n",
       "      <td>True</td>\n",
       "    </tr>\n",
       "    <tr>\n",
       "      <th>3</th>\n",
       "      <td>1</td>\n",
       "      <td>Won’t buy again</td>\n",
       "      <td>Crappy socks. Money wasted. Bought to wear wit...</td>\n",
       "      <td>[]</td>\n",
       "      <td>B07F2BTFS9</td>\n",
       "      <td>B07F2BTFS9</td>\n",
       "      <td>AFVNEEPDEIH5SPUN5BWC6NKL3WNQ</td>\n",
       "      <td>2018-12-31 20:57:27.095</td>\n",
       "      <td>2</td>\n",
       "      <td>True</td>\n",
       "    </tr>\n",
       "    <tr>\n",
       "      <th>4</th>\n",
       "      <td>5</td>\n",
       "      <td>I LOVE these glasses</td>\n",
       "      <td>I LOVE these glasses!  They fit perfectly over...</td>\n",
       "      <td>[]</td>\n",
       "      <td>B00PKRFU4O</td>\n",
       "      <td>B00XESJTDE</td>\n",
       "      <td>AHSPLDNW5OOUK2PLH7GXLACFBZNQ</td>\n",
       "      <td>2015-08-13 14:29:26.000</td>\n",
       "      <td>0</td>\n",
       "      <td>True</td>\n",
       "    </tr>\n",
       "  </tbody>\n",
       "</table>\n",
       "</div>"
      ],
      "text/plain": [
       "   rating                 title  \\\n",
       "0       5         Pretty locket   \n",
       "1       5                     A   \n",
       "2       2             Two Stars   \n",
       "3       1       Won’t buy again   \n",
       "4       5  I LOVE these glasses   \n",
       "\n",
       "                                                text images        asin  \\\n",
       "0  I think this locket is really pretty. The insi...     []  B00LOPVX74   \n",
       "1                                              Great     []  B07B4JXK8D   \n",
       "2  One of the stones fell out within the first 2 ...     []  B007ZSEQ4Q   \n",
       "3  Crappy socks. Money wasted. Bought to wear wit...     []  B07F2BTFS9   \n",
       "4  I LOVE these glasses!  They fit perfectly over...     []  B00PKRFU4O   \n",
       "\n",
       "  parent_asin                       user_id               timestamp  \\\n",
       "0  B00LOPVX74  AGBFYI2DDIKXC5Y4FARTYDTQBMFQ 2020-01-09 00:06:34.489   \n",
       "1  B07B4JXK8D  AFQLNQNQYFWQZPJQZS6V3NZU4QBQ 2020-12-20 01:04:06.701   \n",
       "2  B007ZSEQ4Q  AHITBJSS7KYUBVZPX7M2WJCOIVKQ 2015-05-23 01:33:48.000   \n",
       "3  B07F2BTFS9  AFVNEEPDEIH5SPUN5BWC6NKL3WNQ 2018-12-31 20:57:27.095   \n",
       "4  B00XESJTDE  AHSPLDNW5OOUK2PLH7GXLACFBZNQ 2015-08-13 14:29:26.000   \n",
       "\n",
       "   helpful_vote  verified_purchase  \n",
       "0             3               True  \n",
       "1             0               True  \n",
       "2             3               True  \n",
       "3             2               True  \n",
       "4             0               True  "
      ]
     },
     "execution_count": 3,
     "metadata": {},
     "output_type": "execute_result"
    }
   ],
   "source": [
    "# Data Exploration \n",
    "\n",
    "data.head()"
   ]
  },
  {
   "cell_type": "code",
   "execution_count": 4,
   "id": "e6fcd80e",
   "metadata": {
    "execution": {
     "iopub.execute_input": "2025-01-08T21:12:30.072787Z",
     "iopub.status.busy": "2025-01-08T21:12:30.072361Z",
     "iopub.status.idle": "2025-01-08T21:12:30.100398Z",
     "shell.execute_reply": "2025-01-08T21:12:30.099086Z"
    },
    "papermill": {
     "duration": 0.044532,
     "end_time": "2025-01-08T21:12:30.102355",
     "exception": false,
     "start_time": "2025-01-08T21:12:30.057823",
     "status": "completed"
    },
    "tags": []
   },
   "outputs": [
    {
     "name": "stdout",
     "output_type": "stream",
     "text": [
      "<class 'pandas.core.frame.DataFrame'>\n",
      "RangeIndex: 2500939 entries, 0 to 2500938\n",
      "Data columns (total 10 columns):\n",
      " #   Column             Dtype         \n",
      "---  ------             -----         \n",
      " 0   rating             int64         \n",
      " 1   title              object        \n",
      " 2   text               object        \n",
      " 3   images             object        \n",
      " 4   asin               object        \n",
      " 5   parent_asin        object        \n",
      " 6   user_id            object        \n",
      " 7   timestamp          datetime64[ns]\n",
      " 8   helpful_vote       int64         \n",
      " 9   verified_purchase  bool          \n",
      "dtypes: bool(1), datetime64[ns](1), int64(2), object(6)\n",
      "memory usage: 174.1+ MB\n"
     ]
    }
   ],
   "source": [
    "data.info()"
   ]
  },
  {
   "cell_type": "code",
   "execution_count": 5,
   "id": "e91bd01d",
   "metadata": {
    "execution": {
     "iopub.execute_input": "2025-01-08T21:12:30.133825Z",
     "iopub.status.busy": "2025-01-08T21:12:30.133403Z",
     "iopub.status.idle": "2025-01-08T21:12:30.140317Z",
     "shell.execute_reply": "2025-01-08T21:12:30.139207Z"
    },
    "papermill": {
     "duration": 0.025208,
     "end_time": "2025-01-08T21:12:30.142174",
     "exception": false,
     "start_time": "2025-01-08T21:12:30.116966",
     "status": "completed"
    },
    "tags": []
   },
   "outputs": [
    {
     "data": {
      "text/plain": [
       "Index(['rating', 'title', 'text', 'images', 'asin', 'parent_asin', 'user_id',\n",
       "       'timestamp', 'helpful_vote', 'verified_purchase'],\n",
       "      dtype='object')"
      ]
     },
     "execution_count": 5,
     "metadata": {},
     "output_type": "execute_result"
    }
   ],
   "source": [
    "data.columns"
   ]
  },
  {
   "cell_type": "code",
   "execution_count": 6,
   "id": "c970bfe8",
   "metadata": {
    "execution": {
     "iopub.execute_input": "2025-01-08T21:12:30.172004Z",
     "iopub.status.busy": "2025-01-08T21:12:30.171589Z",
     "iopub.status.idle": "2025-01-08T21:12:31.962251Z",
     "shell.execute_reply": "2025-01-08T21:12:31.960866Z"
    },
    "papermill": {
     "duration": 1.807292,
     "end_time": "2025-01-08T21:12:31.964236",
     "exception": false,
     "start_time": "2025-01-08T21:12:30.156944",
     "status": "completed"
    },
    "tags": []
   },
   "outputs": [
    {
     "data": {
      "text/html": [
       "<div>\n",
       "<style scoped>\n",
       "    .dataframe tbody tr th:only-of-type {\n",
       "        vertical-align: middle;\n",
       "    }\n",
       "\n",
       "    .dataframe tbody tr th {\n",
       "        vertical-align: top;\n",
       "    }\n",
       "\n",
       "    .dataframe thead th {\n",
       "        text-align: right;\n",
       "    }\n",
       "</style>\n",
       "<table border=\"1\" class=\"dataframe\">\n",
       "  <thead>\n",
       "    <tr style=\"text-align: right;\">\n",
       "      <th></th>\n",
       "      <th>rating</th>\n",
       "      <th>title</th>\n",
       "      <th>text</th>\n",
       "      <th>images</th>\n",
       "      <th>asin</th>\n",
       "      <th>parent_asin</th>\n",
       "      <th>user_id</th>\n",
       "      <th>timestamp</th>\n",
       "      <th>helpful_vote</th>\n",
       "      <th>verified_purchase</th>\n",
       "      <th>date</th>\n",
       "      <th>time</th>\n",
       "    </tr>\n",
       "  </thead>\n",
       "  <tbody>\n",
       "    <tr>\n",
       "      <th>0</th>\n",
       "      <td>5</td>\n",
       "      <td>Pretty locket</td>\n",
       "      <td>I think this locket is really pretty. The insi...</td>\n",
       "      <td>[]</td>\n",
       "      <td>B00LOPVX74</td>\n",
       "      <td>B00LOPVX74</td>\n",
       "      <td>AGBFYI2DDIKXC5Y4FARTYDTQBMFQ</td>\n",
       "      <td>2020-01-09 00:06:34.489</td>\n",
       "      <td>3</td>\n",
       "      <td>True</td>\n",
       "      <td>2020-01-09</td>\n",
       "      <td>00:06:34.489000</td>\n",
       "    </tr>\n",
       "    <tr>\n",
       "      <th>1</th>\n",
       "      <td>5</td>\n",
       "      <td>A</td>\n",
       "      <td>Great</td>\n",
       "      <td>[]</td>\n",
       "      <td>B07B4JXK8D</td>\n",
       "      <td>B07B4JXK8D</td>\n",
       "      <td>AFQLNQNQYFWQZPJQZS6V3NZU4QBQ</td>\n",
       "      <td>2020-12-20 01:04:06.701</td>\n",
       "      <td>0</td>\n",
       "      <td>True</td>\n",
       "      <td>2020-12-20</td>\n",
       "      <td>01:04:06.701000</td>\n",
       "    </tr>\n",
       "    <tr>\n",
       "      <th>2</th>\n",
       "      <td>2</td>\n",
       "      <td>Two Stars</td>\n",
       "      <td>One of the stones fell out within the first 2 ...</td>\n",
       "      <td>[]</td>\n",
       "      <td>B007ZSEQ4Q</td>\n",
       "      <td>B007ZSEQ4Q</td>\n",
       "      <td>AHITBJSS7KYUBVZPX7M2WJCOIVKQ</td>\n",
       "      <td>2015-05-23 01:33:48.000</td>\n",
       "      <td>3</td>\n",
       "      <td>True</td>\n",
       "      <td>2015-05-23</td>\n",
       "      <td>01:33:48</td>\n",
       "    </tr>\n",
       "    <tr>\n",
       "      <th>3</th>\n",
       "      <td>1</td>\n",
       "      <td>Won’t buy again</td>\n",
       "      <td>Crappy socks. Money wasted. Bought to wear wit...</td>\n",
       "      <td>[]</td>\n",
       "      <td>B07F2BTFS9</td>\n",
       "      <td>B07F2BTFS9</td>\n",
       "      <td>AFVNEEPDEIH5SPUN5BWC6NKL3WNQ</td>\n",
       "      <td>2018-12-31 20:57:27.095</td>\n",
       "      <td>2</td>\n",
       "      <td>True</td>\n",
       "      <td>2018-12-31</td>\n",
       "      <td>20:57:27.095000</td>\n",
       "    </tr>\n",
       "    <tr>\n",
       "      <th>4</th>\n",
       "      <td>5</td>\n",
       "      <td>I LOVE these glasses</td>\n",
       "      <td>I LOVE these glasses!  They fit perfectly over...</td>\n",
       "      <td>[]</td>\n",
       "      <td>B00PKRFU4O</td>\n",
       "      <td>B00XESJTDE</td>\n",
       "      <td>AHSPLDNW5OOUK2PLH7GXLACFBZNQ</td>\n",
       "      <td>2015-08-13 14:29:26.000</td>\n",
       "      <td>0</td>\n",
       "      <td>True</td>\n",
       "      <td>2015-08-13</td>\n",
       "      <td>14:29:26</td>\n",
       "    </tr>\n",
       "  </tbody>\n",
       "</table>\n",
       "</div>"
      ],
      "text/plain": [
       "   rating                 title  \\\n",
       "0       5         Pretty locket   \n",
       "1       5                     A   \n",
       "2       2             Two Stars   \n",
       "3       1       Won’t buy again   \n",
       "4       5  I LOVE these glasses   \n",
       "\n",
       "                                                text images        asin  \\\n",
       "0  I think this locket is really pretty. The insi...     []  B00LOPVX74   \n",
       "1                                              Great     []  B07B4JXK8D   \n",
       "2  One of the stones fell out within the first 2 ...     []  B007ZSEQ4Q   \n",
       "3  Crappy socks. Money wasted. Bought to wear wit...     []  B07F2BTFS9   \n",
       "4  I LOVE these glasses!  They fit perfectly over...     []  B00PKRFU4O   \n",
       "\n",
       "  parent_asin                       user_id               timestamp  \\\n",
       "0  B00LOPVX74  AGBFYI2DDIKXC5Y4FARTYDTQBMFQ 2020-01-09 00:06:34.489   \n",
       "1  B07B4JXK8D  AFQLNQNQYFWQZPJQZS6V3NZU4QBQ 2020-12-20 01:04:06.701   \n",
       "2  B007ZSEQ4Q  AHITBJSS7KYUBVZPX7M2WJCOIVKQ 2015-05-23 01:33:48.000   \n",
       "3  B07F2BTFS9  AFVNEEPDEIH5SPUN5BWC6NKL3WNQ 2018-12-31 20:57:27.095   \n",
       "4  B00XESJTDE  AHSPLDNW5OOUK2PLH7GXLACFBZNQ 2015-08-13 14:29:26.000   \n",
       "\n",
       "   helpful_vote  verified_purchase        date             time  \n",
       "0             3               True  2020-01-09  00:06:34.489000  \n",
       "1             0               True  2020-12-20  01:04:06.701000  \n",
       "2             3               True  2015-05-23         01:33:48  \n",
       "3             2               True  2018-12-31  20:57:27.095000  \n",
       "4             0               True  2015-08-13         14:29:26  "
      ]
     },
     "execution_count": 6,
     "metadata": {},
     "output_type": "execute_result"
    }
   ],
   "source": [
    "# Converting datetime \n",
    "\n",
    "data['timestamp'] = pd.to_datetime(data['timestamp'])\n",
    "\n",
    "data['date'] = data['timestamp'].dt.date\n",
    "data['time'] = data['timestamp'].dt.time\n",
    "\n",
    "data.head()"
   ]
  },
  {
   "cell_type": "code",
   "execution_count": 7,
   "id": "74a4c9db",
   "metadata": {
    "execution": {
     "iopub.execute_input": "2025-01-08T21:12:31.992075Z",
     "iopub.status.busy": "2025-01-08T21:12:31.991709Z",
     "iopub.status.idle": "2025-01-08T21:12:32.365690Z",
     "shell.execute_reply": "2025-01-08T21:12:32.364324Z"
    },
    "papermill": {
     "duration": 0.390207,
     "end_time": "2025-01-08T21:12:32.367547",
     "exception": false,
     "start_time": "2025-01-08T21:12:31.977340",
     "status": "completed"
    },
    "tags": []
   },
   "outputs": [],
   "source": [
    "# Filtering columns that are necessary for the sentiment analysis. \n",
    "\n",
    "selected_columns = ['rating', 'title', 'text', 'asin', 'parent_asin', 'user_id', 'date','time']\n",
    "filt_data = data[selected_columns]"
   ]
  },
  {
   "cell_type": "code",
   "execution_count": 8,
   "id": "4fe8d8a3",
   "metadata": {
    "execution": {
     "iopub.execute_input": "2025-01-08T21:12:32.394326Z",
     "iopub.status.busy": "2025-01-08T21:12:32.393997Z",
     "iopub.status.idle": "2025-01-08T21:12:32.406057Z",
     "shell.execute_reply": "2025-01-08T21:12:32.404977Z"
    },
    "papermill": {
     "duration": 0.027205,
     "end_time": "2025-01-08T21:12:32.407751",
     "exception": false,
     "start_time": "2025-01-08T21:12:32.380546",
     "status": "completed"
    },
    "tags": []
   },
   "outputs": [
    {
     "data": {
      "text/html": [
       "<div>\n",
       "<style scoped>\n",
       "    .dataframe tbody tr th:only-of-type {\n",
       "        vertical-align: middle;\n",
       "    }\n",
       "\n",
       "    .dataframe tbody tr th {\n",
       "        vertical-align: top;\n",
       "    }\n",
       "\n",
       "    .dataframe thead th {\n",
       "        text-align: right;\n",
       "    }\n",
       "</style>\n",
       "<table border=\"1\" class=\"dataframe\">\n",
       "  <thead>\n",
       "    <tr style=\"text-align: right;\">\n",
       "      <th></th>\n",
       "      <th>rating</th>\n",
       "      <th>title</th>\n",
       "      <th>text</th>\n",
       "      <th>asin</th>\n",
       "      <th>parent_asin</th>\n",
       "      <th>user_id</th>\n",
       "      <th>date</th>\n",
       "      <th>time</th>\n",
       "    </tr>\n",
       "  </thead>\n",
       "  <tbody>\n",
       "    <tr>\n",
       "      <th>0</th>\n",
       "      <td>5</td>\n",
       "      <td>Pretty locket</td>\n",
       "      <td>I think this locket is really pretty. The insi...</td>\n",
       "      <td>B00LOPVX74</td>\n",
       "      <td>B00LOPVX74</td>\n",
       "      <td>AGBFYI2DDIKXC5Y4FARTYDTQBMFQ</td>\n",
       "      <td>2020-01-09</td>\n",
       "      <td>00:06:34.489000</td>\n",
       "    </tr>\n",
       "    <tr>\n",
       "      <th>1</th>\n",
       "      <td>5</td>\n",
       "      <td>A</td>\n",
       "      <td>Great</td>\n",
       "      <td>B07B4JXK8D</td>\n",
       "      <td>B07B4JXK8D</td>\n",
       "      <td>AFQLNQNQYFWQZPJQZS6V3NZU4QBQ</td>\n",
       "      <td>2020-12-20</td>\n",
       "      <td>01:04:06.701000</td>\n",
       "    </tr>\n",
       "    <tr>\n",
       "      <th>2</th>\n",
       "      <td>2</td>\n",
       "      <td>Two Stars</td>\n",
       "      <td>One of the stones fell out within the first 2 ...</td>\n",
       "      <td>B007ZSEQ4Q</td>\n",
       "      <td>B007ZSEQ4Q</td>\n",
       "      <td>AHITBJSS7KYUBVZPX7M2WJCOIVKQ</td>\n",
       "      <td>2015-05-23</td>\n",
       "      <td>01:33:48</td>\n",
       "    </tr>\n",
       "    <tr>\n",
       "      <th>3</th>\n",
       "      <td>1</td>\n",
       "      <td>Won’t buy again</td>\n",
       "      <td>Crappy socks. Money wasted. Bought to wear wit...</td>\n",
       "      <td>B07F2BTFS9</td>\n",
       "      <td>B07F2BTFS9</td>\n",
       "      <td>AFVNEEPDEIH5SPUN5BWC6NKL3WNQ</td>\n",
       "      <td>2018-12-31</td>\n",
       "      <td>20:57:27.095000</td>\n",
       "    </tr>\n",
       "    <tr>\n",
       "      <th>4</th>\n",
       "      <td>5</td>\n",
       "      <td>I LOVE these glasses</td>\n",
       "      <td>I LOVE these glasses!  They fit perfectly over...</td>\n",
       "      <td>B00PKRFU4O</td>\n",
       "      <td>B00XESJTDE</td>\n",
       "      <td>AHSPLDNW5OOUK2PLH7GXLACFBZNQ</td>\n",
       "      <td>2015-08-13</td>\n",
       "      <td>14:29:26</td>\n",
       "    </tr>\n",
       "  </tbody>\n",
       "</table>\n",
       "</div>"
      ],
      "text/plain": [
       "   rating                 title  \\\n",
       "0       5         Pretty locket   \n",
       "1       5                     A   \n",
       "2       2             Two Stars   \n",
       "3       1       Won’t buy again   \n",
       "4       5  I LOVE these glasses   \n",
       "\n",
       "                                                text        asin parent_asin  \\\n",
       "0  I think this locket is really pretty. The insi...  B00LOPVX74  B00LOPVX74   \n",
       "1                                              Great  B07B4JXK8D  B07B4JXK8D   \n",
       "2  One of the stones fell out within the first 2 ...  B007ZSEQ4Q  B007ZSEQ4Q   \n",
       "3  Crappy socks. Money wasted. Bought to wear wit...  B07F2BTFS9  B07F2BTFS9   \n",
       "4  I LOVE these glasses!  They fit perfectly over...  B00PKRFU4O  B00XESJTDE   \n",
       "\n",
       "                        user_id        date             time  \n",
       "0  AGBFYI2DDIKXC5Y4FARTYDTQBMFQ  2020-01-09  00:06:34.489000  \n",
       "1  AFQLNQNQYFWQZPJQZS6V3NZU4QBQ  2020-12-20  01:04:06.701000  \n",
       "2  AHITBJSS7KYUBVZPX7M2WJCOIVKQ  2015-05-23         01:33:48  \n",
       "3  AFVNEEPDEIH5SPUN5BWC6NKL3WNQ  2018-12-31  20:57:27.095000  \n",
       "4  AHSPLDNW5OOUK2PLH7GXLACFBZNQ  2015-08-13         14:29:26  "
      ]
     },
     "execution_count": 8,
     "metadata": {},
     "output_type": "execute_result"
    }
   ],
   "source": [
    "filt_data.head()"
   ]
  },
  {
   "cell_type": "code",
   "execution_count": 9,
   "id": "544d77f1",
   "metadata": {
    "execution": {
     "iopub.execute_input": "2025-01-08T21:12:32.437588Z",
     "iopub.status.busy": "2025-01-08T21:12:32.437255Z",
     "iopub.status.idle": "2025-01-08T21:12:32.460087Z",
     "shell.execute_reply": "2025-01-08T21:12:32.458797Z"
    },
    "papermill": {
     "duration": 0.040212,
     "end_time": "2025-01-08T21:12:32.462327",
     "exception": false,
     "start_time": "2025-01-08T21:12:32.422115",
     "status": "completed"
    },
    "tags": []
   },
   "outputs": [
    {
     "name": "stdout",
     "output_type": "stream",
     "text": [
      "rating\n",
      "5    1426268\n",
      "4     352327\n",
      "1     303411\n",
      "3     245471\n",
      "2     173462\n",
      "Name: count, dtype: int64\n"
     ]
    }
   ],
   "source": [
    "# Exploring the data\n",
    "\n",
    "print(filt_data['rating'].value_counts())"
   ]
  },
  {
   "cell_type": "code",
   "execution_count": 10,
   "id": "d024062e",
   "metadata": {
    "execution": {
     "iopub.execute_input": "2025-01-08T21:12:32.492017Z",
     "iopub.status.busy": "2025-01-08T21:12:32.491657Z",
     "iopub.status.idle": "2025-01-08T21:12:32.829823Z",
     "shell.execute_reply": "2025-01-08T21:12:32.828502Z"
    },
    "papermill": {
     "duration": 0.355686,
     "end_time": "2025-01-08T21:12:32.831584",
     "exception": false,
     "start_time": "2025-01-08T21:12:32.475898",
     "status": "completed"
    },
    "tags": []
   },
   "outputs": [
    {
     "data": {
      "image/png": "[encoded data removed]",
      "text/plain": [
       "<Figure size 1000x500 with 1 Axes>"
      ]
     },
     "metadata": {},
     "output_type": "display_data"
    }
   ],
   "source": [
    "# Visualising this data\n",
    "\n",
    "plt.figure(figsize = (10,5))\n",
    "sns.barplot(x = filt_data['rating'].value_counts().index, y = filt_data['rating'].value_counts().values)\n",
    "plt.xlabel(\"Rating\")\n",
    "plt.ylabel(\"Count\")\n",
    "plt.title(\"Review count by Stars\")\n",
    "plt.show()"
   ]
  },
  {
   "cell_type": "markdown",
   "id": "5e52513d",
   "metadata": {
    "papermill": {
     "duration": 0.013711,
     "end_time": "2025-01-08T21:12:32.859458",
     "exception": false,
     "start_time": "2025-01-08T21:12:32.845747",
     "status": "completed"
    },
    "tags": []
   },
   "source": [
    "**VADER Analysis** \n",
    "\n",
    "VADER stands for Valence Aware Dictionary and sEntiment Reasoner, it uses Bag of word approach, where the text to be analysed is broken down to its original components."
   ]
  },
  {
   "cell_type": "code",
   "execution_count": 11,
   "id": "1fc9a0cd",
   "metadata": {
    "execution": {
     "iopub.execute_input": "2025-01-08T21:12:32.888986Z",
     "iopub.status.busy": "2025-01-08T21:12:32.888514Z",
     "iopub.status.idle": "2025-01-08T21:12:34.579819Z",
     "shell.execute_reply": "2025-01-08T21:12:34.578394Z"
    },
    "papermill": {
     "duration": 1.708015,
     "end_time": "2025-01-08T21:12:34.581646",
     "exception": false,
     "start_time": "2025-01-08T21:12:32.873631",
     "status": "completed"
    },
    "tags": []
   },
   "outputs": [
    {
     "name": "stdout",
     "output_type": "stream",
     "text": [
      "rating         0\n",
      "title          0\n",
      "text           0\n",
      "asin           0\n",
      "parent_asin    0\n",
      "user_id        0\n",
      "date           0\n",
      "time           0\n",
      "dtype: int64\n"
     ]
    }
   ],
   "source": [
    "# Checking for null values\n",
    "\n",
    "print(filt_data.isnull().sum())"
   ]
  },
  {
   "cell_type": "code",
   "execution_count": 12,
   "id": "3770fe0e",
   "metadata": {
    "execution": {
     "iopub.execute_input": "2025-01-08T21:12:34.612401Z",
     "iopub.status.busy": "2025-01-08T21:12:34.612017Z",
     "iopub.status.idle": "2025-01-08T21:12:34.645880Z",
     "shell.execute_reply": "2025-01-08T21:12:34.644687Z"
    },
    "papermill": {
     "duration": 0.05208,
     "end_time": "2025-01-08T21:12:34.647845",
     "exception": false,
     "start_time": "2025-01-08T21:12:34.595765",
     "status": "completed"
    },
    "tags": []
   },
   "outputs": [
    {
     "name": "stderr",
     "output_type": "stream",
     "text": [
      "/usr/local/lib/python3.10/dist-packages/nltk/twitter/__init__.py:20: UserWarning: The twython library has not been installed. Some functionality from the twitter package will not be available.\n",
      "  warnings.warn(\"The twython library has not been installed. \"\n"
     ]
    }
   ],
   "source": [
    "from tqdm import tqdm\n",
    "from nltk.sentiment import SentimentIntensityAnalyzer"
   ]
  },
  {
   "cell_type": "code",
   "execution_count": 13,
   "id": "ba72f560",
   "metadata": {
    "execution": {
     "iopub.execute_input": "2025-01-08T21:12:34.678391Z",
     "iopub.status.busy": "2025-01-08T21:12:34.678054Z",
     "iopub.status.idle": "2025-01-08T21:12:34.700408Z",
     "shell.execute_reply": "2025-01-08T21:12:34.699222Z"
    },
    "papermill": {
     "duration": 0.039999,
     "end_time": "2025-01-08T21:12:34.702953",
     "exception": false,
     "start_time": "2025-01-08T21:12:34.662954",
     "status": "completed"
    },
    "tags": []
   },
   "outputs": [
    {
     "name": "stdout",
     "output_type": "stream",
     "text": [
      "Absolutely Adorable and perfect for church! Thank you so much\n"
     ]
    }
   ],
   "source": [
    "sscore = SentimentIntensityAnalyzer()\n",
    "\n",
    "# Using polarity_scores to get the sentiment scores\n",
    "# Testing it on an example review \n",
    "\n",
    "example = filt_data['text'][44]\n",
    "print(example)"
   ]
  },
  {
   "cell_type": "code",
   "execution_count": 14,
   "id": "771c6671",
   "metadata": {
    "execution": {
     "iopub.execute_input": "2025-01-08T21:12:34.734250Z",
     "iopub.status.busy": "2025-01-08T21:12:34.733906Z",
     "iopub.status.idle": "2025-01-08T21:12:34.740208Z",
     "shell.execute_reply": "2025-01-08T21:12:34.739198Z"
    },
    "papermill": {
     "duration": 0.023759,
     "end_time": "2025-01-08T21:12:34.741942",
     "exception": false,
     "start_time": "2025-01-08T21:12:34.718183",
     "status": "completed"
    },
    "tags": []
   },
   "outputs": [
    {
     "data": {
      "text/plain": [
       "{'neg': 0.0, 'neu': 0.406, 'pos': 0.594, 'compound': 0.882}"
      ]
     },
     "execution_count": 14,
     "metadata": {},
     "output_type": "execute_result"
    }
   ],
   "source": [
    "sscore.polarity_scores(example)"
   ]
  },
  {
   "cell_type": "markdown",
   "id": "1105cb87",
   "metadata": {
    "papermill": {
     "duration": 0.015045,
     "end_time": "2025-01-08T21:12:34.773811",
     "exception": false,
     "start_time": "2025-01-08T21:12:34.758766",
     "status": "completed"
    },
    "tags": []
   },
   "source": [
    "The sentiment of the example review is mostly positive"
   ]
  },
  {
   "cell_type": "code",
   "execution_count": 15,
   "id": "b51d36d2",
   "metadata": {
    "execution": {
     "iopub.execute_input": "2025-01-08T21:12:34.805253Z",
     "iopub.status.busy": "2025-01-08T21:12:34.804894Z",
     "iopub.status.idle": "2025-01-08T21:12:35.002734Z",
     "shell.execute_reply": "2025-01-08T21:12:35.000572Z"
    },
    "papermill": {
     "duration": 0.216381,
     "end_time": "2025-01-08T21:12:35.005330",
     "exception": false,
     "start_time": "2025-01-08T21:12:34.788949",
     "status": "completed"
    },
    "tags": []
   },
   "outputs": [
    {
     "name": "stdout",
     "output_type": "stream",
     "text": [
      "                                                text  rating\n",
      "3  Crappy socks. Money wasted. Bought to wear wit...       1\n"
     ]
    }
   ],
   "source": [
    "# Trying it out on a review which is accompanied with a low rating\n",
    "\n",
    "example2 = filt_data[filt_data['rating'] == 1][['text','rating']]\n",
    "tester = example2.head(1)\n",
    "print(tester)\n",
    "# extracting just the text\n",
    "tester_text = tester['text'].values[0]"
   ]
  },
  {
   "cell_type": "code",
   "execution_count": 16,
   "id": "cc8a5b12",
   "metadata": {
    "execution": {
     "iopub.execute_input": "2025-01-08T21:12:35.043076Z",
     "iopub.status.busy": "2025-01-08T21:12:35.042379Z",
     "iopub.status.idle": "2025-01-08T21:12:35.051493Z",
     "shell.execute_reply": "2025-01-08T21:12:35.049505Z"
    },
    "papermill": {
     "duration": 0.031021,
     "end_time": "2025-01-08T21:12:35.054529",
     "exception": false,
     "start_time": "2025-01-08T21:12:35.023508",
     "status": "completed"
    },
    "tags": []
   },
   "outputs": [
    {
     "data": {
      "text/plain": [
       "{'neg': 0.325, 'neu': 0.574, 'pos': 0.1, 'compound': -0.6908}"
      ]
     },
     "execution_count": 16,
     "metadata": {},
     "output_type": "execute_result"
    }
   ],
   "source": [
    "sscore.polarity_scores(tester_text)"
   ]
  },
  {
   "cell_type": "markdown",
   "id": "eb94bb0a",
   "metadata": {
    "papermill": {
     "duration": 0.013481,
     "end_time": "2025-01-08T21:12:35.083893",
     "exception": false,
     "start_time": "2025-01-08T21:12:35.070412",
     "status": "completed"
    },
    "tags": []
   },
   "source": [
    "The sentiment (compund) score of -0.6908, indicates that the text is of an nagtive sentiment"
   ]
  },
  {
   "cell_type": "code",
   "execution_count": 17,
   "id": "2e534f51",
   "metadata": {
    "execution": {
     "iopub.execute_input": "2025-01-08T21:12:35.114975Z",
     "iopub.status.busy": "2025-01-08T21:12:35.114486Z",
     "iopub.status.idle": "2025-01-08T21:12:35.119280Z",
     "shell.execute_reply": "2025-01-08T21:12:35.118324Z"
    },
    "papermill": {
     "duration": 0.023039,
     "end_time": "2025-01-08T21:12:35.121443",
     "exception": false,
     "start_time": "2025-01-08T21:12:35.098404",
     "status": "completed"
    },
    "tags": []
   },
   "outputs": [],
   "source": [
    "tqdm.pandas() #To show the progress bar "
   ]
  },
  {
   "cell_type": "code",
   "execution_count": 18,
   "id": "31ab8672",
   "metadata": {
    "execution": {
     "iopub.execute_input": "2025-01-08T21:12:35.152817Z",
     "iopub.status.busy": "2025-01-08T21:12:35.152387Z",
     "iopub.status.idle": "2025-01-08T21:27:21.769108Z",
     "shell.execute_reply": "2025-01-08T21:27:21.766695Z"
    },
    "papermill": {
     "duration": 886.635021,
     "end_time": "2025-01-08T21:27:21.772230",
     "exception": false,
     "start_time": "2025-01-08T21:12:35.137209",
     "status": "completed"
    },
    "tags": []
   },
   "outputs": [
    {
     "name": "stderr",
     "output_type": "stream",
     "text": [
      "Processing Sentiment: 100%|██████████| 2500939/2500939 [14:46<00:00, 2820.82it/s]\n"
     ]
    }
   ],
   "source": [
    "# Applying sentiment analysis to the entire dataset\n",
    "\n",
    "sentiment_scores_vader = [sscore.polarity_scores(text) for text in tqdm(filt_data['text'], desc = \"Processing Sentiment\")]\n"
   ]
  },
  {
   "cell_type": "code",
   "execution_count": 19,
   "id": "854981d4",
   "metadata": {
    "execution": {
     "iopub.execute_input": "2025-01-08T21:27:22.783064Z",
     "iopub.status.busy": "2025-01-08T21:27:22.782570Z",
     "iopub.status.idle": "2025-01-08T21:27:28.560187Z",
     "shell.execute_reply": "2025-01-08T21:27:28.558696Z"
    },
    "papermill": {
     "duration": 6.271023,
     "end_time": "2025-01-08T21:27:28.563240",
     "exception": false,
     "start_time": "2025-01-08T21:27:22.292217",
     "status": "completed"
    },
    "tags": []
   },
   "outputs": [],
   "source": [
    "vader_df = pd.DataFrame(sentiment_scores_vader)\n",
    "filt_data = pd.concat([filt_data,vader_df], axis = 1)"
   ]
  },
  {
   "cell_type": "code",
   "execution_count": 20,
   "id": "2e1297a6",
   "metadata": {
    "execution": {
     "iopub.execute_input": "2025-01-08T21:27:29.646091Z",
     "iopub.status.busy": "2025-01-08T21:27:29.645699Z",
     "iopub.status.idle": "2025-01-08T21:27:29.838094Z",
     "shell.execute_reply": "2025-01-08T21:27:29.836709Z"
    },
    "papermill": {
     "duration": 0.700234,
     "end_time": "2025-01-08T21:27:29.840262",
     "exception": false,
     "start_time": "2025-01-08T21:27:29.140028",
     "status": "completed"
    },
    "tags": []
   },
   "outputs": [
    {
     "name": "stdout",
     "output_type": "stream",
     "text": [
      "                                                text  rating    neg    neu  \\\n",
      "0  I think this locket is really pretty. The insi...       5  0.039  0.750   \n",
      "1                                              Great       5  0.000  0.000   \n",
      "2  One of the stones fell out within the first 2 ...       2  0.000  1.000   \n",
      "3  Crappy socks. Money wasted. Bought to wear wit...       1  0.325  0.574   \n",
      "4  I LOVE these glasses!  They fit perfectly over...       5  0.000  0.684   \n",
      "\n",
      "     pos  compound  \n",
      "0  0.211    0.8532  \n",
      "1  1.000    0.6249  \n",
      "2  0.000    0.0000  \n",
      "3  0.100   -0.6908  \n",
      "4  0.316    0.9675  \n"
     ]
    }
   ],
   "source": [
    "print(filt_data [['text','rating','neg','neu','pos','compound']].head())"
   ]
  },
  {
   "cell_type": "code",
   "execution_count": 21,
   "id": "84cab93e",
   "metadata": {
    "execution": {
     "iopub.execute_input": "2025-01-08T21:27:30.910835Z",
     "iopub.status.busy": "2025-01-08T21:27:30.910303Z",
     "iopub.status.idle": "2025-01-08T21:27:31.355045Z",
     "shell.execute_reply": "2025-01-08T21:27:31.353653Z"
    },
    "papermill": {
     "duration": 1.031088,
     "end_time": "2025-01-08T21:27:31.357440",
     "exception": false,
     "start_time": "2025-01-08T21:27:30.326352",
     "status": "completed"
    },
    "tags": []
   },
   "outputs": [],
   "source": [
    "# Before visuliasing the sentiment distribution,\n",
    "# we add a new column \"sentiment_label\" based on the compund scores from VADER analysis\n",
    "\n",
    "def classify_sentiment (scores):\n",
    "    conditions = [\n",
    "        scores >= 0.05, #Positive\n",
    "        scores <= -0.05 #Negative\n",
    "    ]\n",
    "    choices = [\"positive\",\"negative\"]\n",
    "    return np.select(conditions, choices, default = \"neutral\")\n",
    "# Applying the classification function to the dataset\n",
    "\n",
    "filt_data['vader_sentiment'] = classify_sentiment(filt_data['compound'].values)\n"
   ]
  },
  {
   "cell_type": "code",
   "execution_count": 22,
   "id": "4d3ef5e8",
   "metadata": {
    "execution": {
     "iopub.execute_input": "2025-01-08T21:27:32.410755Z",
     "iopub.status.busy": "2025-01-08T21:27:32.410324Z",
     "iopub.status.idle": "2025-01-08T21:27:32.428255Z",
     "shell.execute_reply": "2025-01-08T21:27:32.426259Z"
    },
    "papermill": {
     "duration": 0.53951,
     "end_time": "2025-01-08T21:27:32.430967",
     "exception": false,
     "start_time": "2025-01-08T21:27:31.891457",
     "status": "completed"
    },
    "tags": []
   },
   "outputs": [
    {
     "data": {
      "text/html": [
       "<div>\n",
       "<style scoped>\n",
       "    .dataframe tbody tr th:only-of-type {\n",
       "        vertical-align: middle;\n",
       "    }\n",
       "\n",
       "    .dataframe tbody tr th {\n",
       "        vertical-align: top;\n",
       "    }\n",
       "\n",
       "    .dataframe thead th {\n",
       "        text-align: right;\n",
       "    }\n",
       "</style>\n",
       "<table border=\"1\" class=\"dataframe\">\n",
       "  <thead>\n",
       "    <tr style=\"text-align: right;\">\n",
       "      <th></th>\n",
       "      <th>rating</th>\n",
       "      <th>title</th>\n",
       "      <th>text</th>\n",
       "      <th>asin</th>\n",
       "      <th>parent_asin</th>\n",
       "      <th>user_id</th>\n",
       "      <th>date</th>\n",
       "      <th>time</th>\n",
       "      <th>neg</th>\n",
       "      <th>neu</th>\n",
       "      <th>pos</th>\n",
       "      <th>compound</th>\n",
       "      <th>vader_sentiment</th>\n",
       "    </tr>\n",
       "  </thead>\n",
       "  <tbody>\n",
       "    <tr>\n",
       "      <th>0</th>\n",
       "      <td>5</td>\n",
       "      <td>Pretty locket</td>\n",
       "      <td>I think this locket is really pretty. The insi...</td>\n",
       "      <td>B00LOPVX74</td>\n",
       "      <td>B00LOPVX74</td>\n",
       "      <td>AGBFYI2DDIKXC5Y4FARTYDTQBMFQ</td>\n",
       "      <td>2020-01-09</td>\n",
       "      <td>00:06:34.489000</td>\n",
       "      <td>0.039</td>\n",
       "      <td>0.750</td>\n",
       "      <td>0.211</td>\n",
       "      <td>0.8532</td>\n",
       "      <td>positive</td>\n",
       "    </tr>\n",
       "    <tr>\n",
       "      <th>1</th>\n",
       "      <td>5</td>\n",
       "      <td>A</td>\n",
       "      <td>Great</td>\n",
       "      <td>B07B4JXK8D</td>\n",
       "      <td>B07B4JXK8D</td>\n",
       "      <td>AFQLNQNQYFWQZPJQZS6V3NZU4QBQ</td>\n",
       "      <td>2020-12-20</td>\n",
       "      <td>01:04:06.701000</td>\n",
       "      <td>0.000</td>\n",
       "      <td>0.000</td>\n",
       "      <td>1.000</td>\n",
       "      <td>0.6249</td>\n",
       "      <td>positive</td>\n",
       "    </tr>\n",
       "    <tr>\n",
       "      <th>2</th>\n",
       "      <td>2</td>\n",
       "      <td>Two Stars</td>\n",
       "      <td>One of the stones fell out within the first 2 ...</td>\n",
       "      <td>B007ZSEQ4Q</td>\n",
       "      <td>B007ZSEQ4Q</td>\n",
       "      <td>AHITBJSS7KYUBVZPX7M2WJCOIVKQ</td>\n",
       "      <td>2015-05-23</td>\n",
       "      <td>01:33:48</td>\n",
       "      <td>0.000</td>\n",
       "      <td>1.000</td>\n",
       "      <td>0.000</td>\n",
       "      <td>0.0000</td>\n",
       "      <td>neutral</td>\n",
       "    </tr>\n",
       "    <tr>\n",
       "      <th>3</th>\n",
       "      <td>1</td>\n",
       "      <td>Won’t buy again</td>\n",
       "      <td>Crappy socks. Money wasted. Bought to wear wit...</td>\n",
       "      <td>B07F2BTFS9</td>\n",
       "      <td>B07F2BTFS9</td>\n",
       "      <td>AFVNEEPDEIH5SPUN5BWC6NKL3WNQ</td>\n",
       "      <td>2018-12-31</td>\n",
       "      <td>20:57:27.095000</td>\n",
       "      <td>0.325</td>\n",
       "      <td>0.574</td>\n",
       "      <td>0.100</td>\n",
       "      <td>-0.6908</td>\n",
       "      <td>negative</td>\n",
       "    </tr>\n",
       "    <tr>\n",
       "      <th>4</th>\n",
       "      <td>5</td>\n",
       "      <td>I LOVE these glasses</td>\n",
       "      <td>I LOVE these glasses!  They fit perfectly over...</td>\n",
       "      <td>B00PKRFU4O</td>\n",
       "      <td>B00XESJTDE</td>\n",
       "      <td>AHSPLDNW5OOUK2PLH7GXLACFBZNQ</td>\n",
       "      <td>2015-08-13</td>\n",
       "      <td>14:29:26</td>\n",
       "      <td>0.000</td>\n",
       "      <td>0.684</td>\n",
       "      <td>0.316</td>\n",
       "      <td>0.9675</td>\n",
       "      <td>positive</td>\n",
       "    </tr>\n",
       "  </tbody>\n",
       "</table>\n",
       "</div>"
      ],
      "text/plain": [
       "   rating                 title  \\\n",
       "0       5         Pretty locket   \n",
       "1       5                     A   \n",
       "2       2             Two Stars   \n",
       "3       1       Won’t buy again   \n",
       "4       5  I LOVE these glasses   \n",
       "\n",
       "                                                text        asin parent_asin  \\\n",
       "0  I think this locket is really pretty. The insi...  B00LOPVX74  B00LOPVX74   \n",
       "1                                              Great  B07B4JXK8D  B07B4JXK8D   \n",
       "2  One of the stones fell out within the first 2 ...  B007ZSEQ4Q  B007ZSEQ4Q   \n",
       "3  Crappy socks. Money wasted. Bought to wear wit...  B07F2BTFS9  B07F2BTFS9   \n",
       "4  I LOVE these glasses!  They fit perfectly over...  B00PKRFU4O  B00XESJTDE   \n",
       "\n",
       "                        user_id        date             time    neg    neu  \\\n",
       "0  AGBFYI2DDIKXC5Y4FARTYDTQBMFQ  2020-01-09  00:06:34.489000  0.039  0.750   \n",
       "1  AFQLNQNQYFWQZPJQZS6V3NZU4QBQ  2020-12-20  01:04:06.701000  0.000  0.000   \n",
       "2  AHITBJSS7KYUBVZPX7M2WJCOIVKQ  2015-05-23         01:33:48  0.000  1.000   \n",
       "3  AFVNEEPDEIH5SPUN5BWC6NKL3WNQ  2018-12-31  20:57:27.095000  0.325  0.574   \n",
       "4  AHSPLDNW5OOUK2PLH7GXLACFBZNQ  2015-08-13         14:29:26  0.000  0.684   \n",
       "\n",
       "     pos  compound vader_sentiment  \n",
       "0  0.211    0.8532        positive  \n",
       "1  1.000    0.6249        positive  \n",
       "2  0.000    0.0000         neutral  \n",
       "3  0.100   -0.6908        negative  \n",
       "4  0.316    0.9675        positive  "
      ]
     },
     "execution_count": 22,
     "metadata": {},
     "output_type": "execute_result"
    }
   ],
   "source": [
    "filt_data.head()"
   ]
  },
  {
   "cell_type": "code",
   "execution_count": 23,
   "id": "0e4d3286",
   "metadata": {
    "execution": {
     "iopub.execute_input": "2025-01-08T21:27:33.504557Z",
     "iopub.status.busy": "2025-01-08T21:27:33.504162Z",
     "iopub.status.idle": "2025-01-08T21:27:35.625821Z",
     "shell.execute_reply": "2025-01-08T21:27:35.623981Z"
    },
    "papermill": {
     "duration": 2.702264,
     "end_time": "2025-01-08T21:27:35.627717",
     "exception": false,
     "start_time": "2025-01-08T21:27:32.925453",
     "status": "completed"
    },
    "tags": []
   },
   "outputs": [
    {
     "data": {
      "image/png": "[encoded data removed]",
      "text/plain": [
       "<Figure size 1000x600 with 1 Axes>"
      ]
     },
     "metadata": {},
     "output_type": "display_data"
    }
   ],
   "source": [
    "# Visualising the sentiment distribution \n",
    "\n",
    "plt.figure(figsize = (10,6))\n",
    "sns.countplot(x = filt_data['vader_sentiment'], palette = 'viridis')\n",
    "\n",
    "plt.xlabel(\"Sentiment\")\n",
    "plt.ylabel(\"Count\")\n",
    "plt.title(\"Sentiment Analysis - VADER\")\n",
    "plt.show()"
   ]
  },
  {
   "cell_type": "code",
   "execution_count": 24,
   "id": "0b2b3f23",
   "metadata": {
    "execution": {
     "iopub.execute_input": "2025-01-08T21:27:36.616762Z",
     "iopub.status.busy": "2025-01-08T21:27:36.616233Z",
     "iopub.status.idle": "2025-01-08T21:28:17.396385Z",
     "shell.execute_reply": "2025-01-08T21:28:17.395178Z"
    },
    "papermill": {
     "duration": 41.821836,
     "end_time": "2025-01-08T21:28:17.941985",
     "exception": false,
     "start_time": "2025-01-08T21:27:36.120149",
     "status": "completed"
    },
    "tags": []
   },
   "outputs": [
    {
     "data": {
      "image/png": "[encoded data removed]",
      "text/plain": [
       "<Figure size 700x500 with 1 Axes>"
      ]
     },
     "metadata": {},
     "output_type": "display_data"
    }
   ],
   "source": [
    "plt.figure(figsize = (7,5))\n",
    "sns.barplot(data = filt_data, x = 'rating', y = 'compound')\n",
    "plt.title(\"Compound score by Amazon ratings\")\n",
    "plt.show()"
   ]
  },
  {
   "cell_type": "code",
   "execution_count": 25,
   "id": "484d09e7",
   "metadata": {
    "execution": {
     "iopub.execute_input": "2025-01-08T21:28:18.906450Z",
     "iopub.status.busy": "2025-01-08T21:28:18.906099Z",
     "iopub.status.idle": "2025-01-08T21:30:17.378648Z",
     "shell.execute_reply": "2025-01-08T21:30:17.377451Z"
    },
    "papermill": {
     "duration": 119.524543,
     "end_time": "2025-01-08T21:30:17.948107",
     "exception": false,
     "start_time": "2025-01-08T21:28:18.423564",
     "status": "completed"
    },
    "tags": []
   },
   "outputs": [
    {
     "data": {
      "image/png": "[encoded data removed]",
      "text/plain": [
       "<Figure size 1200x300 with 3 Axes>"
      ]
     },
     "metadata": {},
     "output_type": "display_data"
    }
   ],
   "source": [
    "fig, axs = plt.subplots(1, 3, figsize=(12, 3))\n",
    "sns.barplot(data= filt_data, x='rating', y='pos', ax=axs[0])\n",
    "sns.barplot(data= filt_data, x='rating', y='neu', ax=axs[1])\n",
    "sns.barplot(data= filt_data, x='rating', y='neg', ax=axs[2])\n",
    "axs[0].set_title('Positive')\n",
    "axs[1].set_title('Neutral')\n",
    "axs[2].set_title('Negative')\n",
    "plt.tight_layout()\n",
    "plt.show()"
   ]
  },
  {
   "cell_type": "markdown",
   "id": "5a43bd59",
   "metadata": {
    "papermill": {
     "duration": 0.658422,
     "end_time": "2025-01-08T21:30:19.118761",
     "exception": false,
     "start_time": "2025-01-08T21:30:18.460339",
     "status": "completed"
    },
    "tags": []
   },
   "source": [
    "Now with Vader analysis done we create and train an ML model to compare the sentiment recognition performance of VADER approcah with that of a process which uses TF-IDF + ML. \n",
    "\n",
    "TF-IDF stands for Term Frequency-Inverse Document Frequency, the methond using NLP converts text to numerical values. "
   ]
  },
  {
   "cell_type": "code",
   "execution_count": 26,
   "id": "e35d231a",
   "metadata": {
    "execution": {
     "iopub.execute_input": "2025-01-08T21:30:20.234858Z",
     "iopub.status.busy": "2025-01-08T21:30:20.234305Z",
     "iopub.status.idle": "2025-01-08T21:30:20.241122Z",
     "shell.execute_reply": "2025-01-08T21:30:20.239275Z"
    },
    "papermill": {
     "duration": 0.598119,
     "end_time": "2025-01-08T21:30:20.243613",
     "exception": false,
     "start_time": "2025-01-08T21:30:19.645494",
     "status": "completed"
    },
    "tags": []
   },
   "outputs": [],
   "source": [
    "from sklearn.feature_extraction.text import TfidfVectorizer  # To convert text to numerical values\n",
    "from sklearn.model_selection import train_test_split # To split the data for ML-model trainig \n",
    "\n",
    "\n",
    "from sklearn.svm import SVC  # ML-model \n",
    "from sklearn.metrics import classification_report, accuracy_score # To evaluate the model performance"
   ]
  },
  {
   "cell_type": "code",
   "execution_count": 27,
   "id": "7d3ca13b",
   "metadata": {
    "execution": {
     "iopub.execute_input": "2025-01-08T21:30:21.346266Z",
     "iopub.status.busy": "2025-01-08T21:30:21.345879Z",
     "iopub.status.idle": "2025-01-08T21:30:24.161186Z",
     "shell.execute_reply": "2025-01-08T21:30:24.159484Z"
    },
    "papermill": {
     "duration": 3.409184,
     "end_time": "2025-01-08T21:30:24.163413",
     "exception": false,
     "start_time": "2025-01-08T21:30:20.754229",
     "status": "completed"
    },
    "tags": []
   },
   "outputs": [
    {
     "data": {
      "text/html": [
       "<div>\n",
       "<style scoped>\n",
       "    .dataframe tbody tr th:only-of-type {\n",
       "        vertical-align: middle;\n",
       "    }\n",
       "\n",
       "    .dataframe tbody tr th {\n",
       "        vertical-align: top;\n",
       "    }\n",
       "\n",
       "    .dataframe thead th {\n",
       "        text-align: right;\n",
       "    }\n",
       "</style>\n",
       "<table border=\"1\" class=\"dataframe\">\n",
       "  <thead>\n",
       "    <tr style=\"text-align: right;\">\n",
       "      <th></th>\n",
       "      <th>rating</th>\n",
       "      <th>title</th>\n",
       "      <th>text</th>\n",
       "      <th>asin</th>\n",
       "      <th>parent_asin</th>\n",
       "      <th>user_id</th>\n",
       "      <th>date</th>\n",
       "      <th>time</th>\n",
       "      <th>neg</th>\n",
       "      <th>neu</th>\n",
       "      <th>pos</th>\n",
       "      <th>compound</th>\n",
       "      <th>vader_sentiment</th>\n",
       "    </tr>\n",
       "  </thead>\n",
       "  <tbody>\n",
       "    <tr>\n",
       "      <th>0</th>\n",
       "      <td>5</td>\n",
       "      <td>Pretty locket</td>\n",
       "      <td>I think this locket is really pretty. The insi...</td>\n",
       "      <td>B00LOPVX74</td>\n",
       "      <td>B00LOPVX74</td>\n",
       "      <td>AGBFYI2DDIKXC5Y4FARTYDTQBMFQ</td>\n",
       "      <td>2020-01-09</td>\n",
       "      <td>00:06:34.489000</td>\n",
       "      <td>0.039</td>\n",
       "      <td>0.750</td>\n",
       "      <td>0.211</td>\n",
       "      <td>0.8532</td>\n",
       "      <td>positive</td>\n",
       "    </tr>\n",
       "    <tr>\n",
       "      <th>1</th>\n",
       "      <td>5</td>\n",
       "      <td>A</td>\n",
       "      <td>Great</td>\n",
       "      <td>B07B4JXK8D</td>\n",
       "      <td>B07B4JXK8D</td>\n",
       "      <td>AFQLNQNQYFWQZPJQZS6V3NZU4QBQ</td>\n",
       "      <td>2020-12-20</td>\n",
       "      <td>01:04:06.701000</td>\n",
       "      <td>0.000</td>\n",
       "      <td>0.000</td>\n",
       "      <td>1.000</td>\n",
       "      <td>0.6249</td>\n",
       "      <td>positive</td>\n",
       "    </tr>\n",
       "    <tr>\n",
       "      <th>2</th>\n",
       "      <td>2</td>\n",
       "      <td>Two Stars</td>\n",
       "      <td>One of the stones fell out within the first 2 ...</td>\n",
       "      <td>B007ZSEQ4Q</td>\n",
       "      <td>B007ZSEQ4Q</td>\n",
       "      <td>AHITBJSS7KYUBVZPX7M2WJCOIVKQ</td>\n",
       "      <td>2015-05-23</td>\n",
       "      <td>01:33:48</td>\n",
       "      <td>0.000</td>\n",
       "      <td>1.000</td>\n",
       "      <td>0.000</td>\n",
       "      <td>0.0000</td>\n",
       "      <td>neutral</td>\n",
       "    </tr>\n",
       "    <tr>\n",
       "      <th>3</th>\n",
       "      <td>1</td>\n",
       "      <td>Won’t buy again</td>\n",
       "      <td>Crappy socks. Money wasted. Bought to wear wit...</td>\n",
       "      <td>B07F2BTFS9</td>\n",
       "      <td>B07F2BTFS9</td>\n",
       "      <td>AFVNEEPDEIH5SPUN5BWC6NKL3WNQ</td>\n",
       "      <td>2018-12-31</td>\n",
       "      <td>20:57:27.095000</td>\n",
       "      <td>0.325</td>\n",
       "      <td>0.574</td>\n",
       "      <td>0.100</td>\n",
       "      <td>-0.6908</td>\n",
       "      <td>negative</td>\n",
       "    </tr>\n",
       "    <tr>\n",
       "      <th>4</th>\n",
       "      <td>5</td>\n",
       "      <td>I LOVE these glasses</td>\n",
       "      <td>I LOVE these glasses!  They fit perfectly over...</td>\n",
       "      <td>B00PKRFU4O</td>\n",
       "      <td>B00XESJTDE</td>\n",
       "      <td>AHSPLDNW5OOUK2PLH7GXLACFBZNQ</td>\n",
       "      <td>2015-08-13</td>\n",
       "      <td>14:29:26</td>\n",
       "      <td>0.000</td>\n",
       "      <td>0.684</td>\n",
       "      <td>0.316</td>\n",
       "      <td>0.9675</td>\n",
       "      <td>positive</td>\n",
       "    </tr>\n",
       "  </tbody>\n",
       "</table>\n",
       "</div>"
      ],
      "text/plain": [
       "   rating                 title  \\\n",
       "0       5         Pretty locket   \n",
       "1       5                     A   \n",
       "2       2             Two Stars   \n",
       "3       1       Won’t buy again   \n",
       "4       5  I LOVE these glasses   \n",
       "\n",
       "                                                text        asin parent_asin  \\\n",
       "0  I think this locket is really pretty. The insi...  B00LOPVX74  B00LOPVX74   \n",
       "1                                              Great  B07B4JXK8D  B07B4JXK8D   \n",
       "2  One of the stones fell out within the first 2 ...  B007ZSEQ4Q  B007ZSEQ4Q   \n",
       "3  Crappy socks. Money wasted. Bought to wear wit...  B07F2BTFS9  B07F2BTFS9   \n",
       "4  I LOVE these glasses!  They fit perfectly over...  B00PKRFU4O  B00XESJTDE   \n",
       "\n",
       "                        user_id        date             time    neg    neu  \\\n",
       "0  AGBFYI2DDIKXC5Y4FARTYDTQBMFQ  2020-01-09  00:06:34.489000  0.039  0.750   \n",
       "1  AFQLNQNQYFWQZPJQZS6V3NZU4QBQ  2020-12-20  01:04:06.701000  0.000  0.000   \n",
       "2  AHITBJSS7KYUBVZPX7M2WJCOIVKQ  2015-05-23         01:33:48  0.000  1.000   \n",
       "3  AFVNEEPDEIH5SPUN5BWC6NKL3WNQ  2018-12-31  20:57:27.095000  0.325  0.574   \n",
       "4  AHSPLDNW5OOUK2PLH7GXLACFBZNQ  2015-08-13         14:29:26  0.000  0.684   \n",
       "\n",
       "     pos  compound vader_sentiment  \n",
       "0  0.211    0.8532        positive  \n",
       "1  1.000    0.6249        positive  \n",
       "2  0.000    0.0000         neutral  \n",
       "3  0.100   -0.6908        negative  \n",
       "4  0.316    0.9675        positive  "
      ]
     },
     "execution_count": 27,
     "metadata": {},
     "output_type": "execute_result"
    }
   ],
   "source": [
    "ml_data = filt_data.copy() # Creating an independent copy of the dataset for better usability \n",
    "\n",
    "ml_data.head()"
   ]
  },
  {
   "cell_type": "code",
   "execution_count": 28,
   "id": "10f39473",
   "metadata": {
    "execution": {
     "iopub.execute_input": "2025-01-08T21:30:25.231128Z",
     "iopub.status.busy": "2025-01-08T21:30:25.230725Z",
     "iopub.status.idle": "2025-01-08T21:30:25.239720Z",
     "shell.execute_reply": "2025-01-08T21:30:25.237524Z"
    },
    "papermill": {
     "duration": 0.587113,
     "end_time": "2025-01-08T21:30:25.241871",
     "exception": false,
     "start_time": "2025-01-08T21:30:24.654758",
     "status": "completed"
    },
    "tags": []
   },
   "outputs": [
    {
     "data": {
      "text/plain": [
       "Index(['rating', 'title', 'text', 'asin', 'parent_asin', 'user_id', 'date',\n",
       "       'time', 'neg', 'neu', 'pos', 'compound', 'vader_sentiment'],\n",
       "      dtype='object')"
      ]
     },
     "execution_count": 28,
     "metadata": {},
     "output_type": "execute_result"
    }
   ],
   "source": [
    "ml_data.columns"
   ]
  },
  {
   "cell_type": "code",
   "execution_count": 29,
   "id": "f333b2c2",
   "metadata": {
    "execution": {
     "iopub.execute_input": "2025-01-08T21:30:26.251568Z",
     "iopub.status.busy": "2025-01-08T21:30:26.251175Z",
     "iopub.status.idle": "2025-01-08T21:30:26.526928Z",
     "shell.execute_reply": "2025-01-08T21:30:26.525494Z"
    },
    "papermill": {
     "duration": 0.783406,
     "end_time": "2025-01-08T21:30:26.529207",
     "exception": false,
     "start_time": "2025-01-08T21:30:25.745801",
     "status": "completed"
    },
    "tags": []
   },
   "outputs": [
    {
     "name": "stdout",
     "output_type": "stream",
     "text": [
      "vader_sentiment\n",
      "positive    1960680\n",
      "negative     272611\n",
      "neutral      267648\n",
      "Name: count, dtype: int64\n"
     ]
    }
   ],
   "source": [
    "print(ml_data[\"vader_sentiment\"].value_counts())"
   ]
  },
  {
   "cell_type": "code",
   "execution_count": 30,
   "id": "a974afaa",
   "metadata": {
    "execution": {
     "iopub.execute_input": "2025-01-08T21:30:27.615070Z",
     "iopub.status.busy": "2025-01-08T21:30:27.614699Z",
     "iopub.status.idle": "2025-01-08T21:30:27.654308Z",
     "shell.execute_reply": "2025-01-08T21:30:27.653096Z"
    },
    "papermill": {
     "duration": 0.554733,
     "end_time": "2025-01-08T21:30:27.656938",
     "exception": false,
     "start_time": "2025-01-08T21:30:27.102205",
     "status": "completed"
    },
    "tags": []
   },
   "outputs": [
    {
     "data": {
      "text/plain": [
       "Index(['rating', 'title', 'text', 'asin', 'parent_asin', 'user_id', 'date',\n",
       "       'time', 'neg', 'neu', 'pos', 'compound', 'vader_sentiment',\n",
       "       'sentiment'],\n",
       "      dtype='object')"
      ]
     },
     "execution_count": 30,
     "metadata": {},
     "output_type": "execute_result"
    }
   ],
   "source": [
    "ml_data[\"sentiment\"] = ml_data[\"vader_sentiment\"]\n",
    "\n",
    "ml_data.columns"
   ]
  },
  {
   "cell_type": "code",
   "execution_count": 31,
   "id": "db456a13",
   "metadata": {
    "execution": {
     "iopub.execute_input": "2025-01-08T21:30:28.691059Z",
     "iopub.status.busy": "2025-01-08T21:30:28.690566Z",
     "iopub.status.idle": "2025-01-08T21:31:28.833861Z",
     "shell.execute_reply": "2025-01-08T21:31:28.832791Z"
    },
    "papermill": {
     "duration": 60.660141,
     "end_time": "2025-01-08T21:31:28.836017",
     "exception": false,
     "start_time": "2025-01-08T21:30:28.175876",
     "status": "completed"
    },
    "tags": []
   },
   "outputs": [],
   "source": [
    "vectorizer = TfidfVectorizer(max_features = 20000, stop_words = \"english\", min_df = 5)\n",
    "\n",
    "X = vectorizer.fit_transform(ml_data[\"text\"]) # Features, data that model is trained on\n",
    "y = ml_data[\"sentiment\"] # Tranget, i.e. sentiment lables: positive, negative, neutral"
   ]
  },
  {
   "cell_type": "code",
   "execution_count": 32,
   "id": "d9c2d47b",
   "metadata": {
    "execution": {
     "iopub.execute_input": "2025-01-08T21:31:29.966943Z",
     "iopub.status.busy": "2025-01-08T21:31:29.966467Z",
     "iopub.status.idle": "2025-01-08T21:31:30.188149Z",
     "shell.execute_reply": "2025-01-08T21:31:30.186637Z"
    },
    "papermill": {
     "duration": 0.78418,
     "end_time": "2025-01-08T21:31:30.190245",
     "exception": false,
     "start_time": "2025-01-08T21:31:29.406065",
     "status": "completed"
    },
    "tags": []
   },
   "outputs": [
    {
     "name": "stdout",
     "output_type": "stream",
     "text": [
      "sentiment\n",
      "positive    1960680\n",
      "negative     272611\n",
      "neutral      267648\n",
      "Name: count, dtype: int64\n"
     ]
    }
   ],
   "source": [
    "sentiment_counts = ml_data['sentiment'].value_counts()\n",
    "print(sentiment_counts)"
   ]
  },
  {
   "cell_type": "markdown",
   "id": "6ed09567",
   "metadata": {
    "papermill": {
     "duration": 0.487448,
     "end_time": "2025-01-08T21:31:31.242154",
     "exception": false,
     "start_time": "2025-01-08T21:31:30.754706",
     "status": "completed"
    },
    "tags": []
   },
   "source": [
    "**Undersampling positive reviews to prevent biases**\n",
    "\n",
    "We have a clear skew in data with 1.9M positive labels, and 27K and 26K neutral labels respectively. \n",
    "Thus to keep the training data balanced we undersample the positive reviews to match the size of the other two, simultaneously reducing the datasize, benifiting by reducing computational time\n"
   ]
  },
  {
   "cell_type": "code",
   "execution_count": 33,
   "id": "7c250b10",
   "metadata": {
    "execution": {
     "iopub.execute_input": "2025-01-08T21:31:32.276340Z",
     "iopub.status.busy": "2025-01-08T21:31:32.275940Z",
     "iopub.status.idle": "2025-01-08T21:31:32.846797Z",
     "shell.execute_reply": "2025-01-08T21:31:32.845417Z"
    },
    "papermill": {
     "duration": 1.119502,
     "end_time": "2025-01-08T21:31:32.849227",
     "exception": false,
     "start_time": "2025-01-08T21:31:31.729725",
     "status": "completed"
    },
    "tags": []
   },
   "outputs": [],
   "source": [
    "from imblearn.under_sampling import RandomUnderSampler "
   ]
  },
  {
   "cell_type": "code",
   "execution_count": 34,
   "id": "fb0b4f2a",
   "metadata": {
    "execution": {
     "iopub.execute_input": "2025-01-08T21:31:33.851114Z",
     "iopub.status.busy": "2025-01-08T21:31:33.850357Z",
     "iopub.status.idle": "2025-01-08T21:31:52.958248Z",
     "shell.execute_reply": "2025-01-08T21:31:52.956574Z"
    },
    "papermill": {
     "duration": 19.612702,
     "end_time": "2025-01-08T21:31:52.960434",
     "exception": false,
     "start_time": "2025-01-08T21:31:33.347732",
     "status": "completed"
    },
    "tags": []
   },
   "outputs": [],
   "source": [
    "# Defining the undersampling strategy\n",
    "undersampler = RandomUnderSampler(sampling_strategy = {'positive': 270130, 'negative': 272611,'neutral': 267648}, random_state = 1)\n",
    "\n",
    "# Applying the undersampling to the dataset\n",
    "X_resampled, y_resampled = undersampler.fit_resample(X,y)"
   ]
  },
  {
   "cell_type": "code",
   "execution_count": 35,
   "id": "1ad52590",
   "metadata": {
    "execution": {
     "iopub.execute_input": "2025-01-08T21:31:54.053222Z",
     "iopub.status.busy": "2025-01-08T21:31:54.052844Z",
     "iopub.status.idle": "2025-01-08T21:31:54.260294Z",
     "shell.execute_reply": "2025-01-08T21:31:54.258948Z"
    },
    "papermill": {
     "duration": 0.724458,
     "end_time": "2025-01-08T21:31:54.263577",
     "exception": false,
     "start_time": "2025-01-08T21:31:53.539119",
     "status": "completed"
    },
    "tags": []
   },
   "outputs": [
    {
     "name": "stdout",
     "output_type": "stream",
     "text": [
      "sentiment\n",
      "negative    272611\n",
      "positive    270130\n",
      "neutral     267648\n",
      "Name: count, dtype: int64\n"
     ]
    }
   ],
   "source": [
    "# Rechecking the distribution\n",
    "\n",
    "y_resampled_series = pd.Series(y_resampled)\n",
    "print(y_resampled_series.value_counts())"
   ]
  },
  {
   "cell_type": "code",
   "execution_count": 36,
   "id": "72618c4d",
   "metadata": {
    "execution": {
     "iopub.execute_input": "2025-01-08T21:31:55.359047Z",
     "iopub.status.busy": "2025-01-08T21:31:55.358660Z",
     "iopub.status.idle": "2025-01-08T21:31:55.753819Z",
     "shell.execute_reply": "2025-01-08T21:31:55.752701Z"
    },
    "papermill": {
     "duration": 0.969624,
     "end_time": "2025-01-08T21:31:55.755830",
     "exception": false,
     "start_time": "2025-01-08T21:31:54.786206",
     "status": "completed"
    },
    "tags": []
   },
   "outputs": [],
   "source": [
    "# Splitting the balanced datsset \n",
    "\n",
    "X_train, X_test, y_train, y_test = train_test_split(X_resampled, y_resampled, test_size = 0.2, random_state = 1)"
   ]
  },
  {
   "cell_type": "code",
   "execution_count": 37,
   "id": "6b945274",
   "metadata": {
    "execution": {
     "iopub.execute_input": "2025-01-08T21:31:56.796252Z",
     "iopub.status.busy": "2025-01-08T21:31:56.795888Z",
     "iopub.status.idle": "2025-01-08T21:32:15.064078Z",
     "shell.execute_reply": "2025-01-08T21:32:15.062974Z"
    },
    "papermill": {
     "duration": 18.836684,
     "end_time": "2025-01-08T21:32:15.066004",
     "exception": false,
     "start_time": "2025-01-08T21:31:56.229320",
     "status": "completed"
    },
    "tags": []
   },
   "outputs": [
    {
     "name": "stderr",
     "output_type": "stream",
     "text": [
      "Training Progress::   7%|▋         | 1/15 [00:01<00:17,  1.24s/it]"
     ]
    },
    {
     "name": "stdout",
     "output_type": "stream",
     "text": [
      "Epoch 1: Accuracy = 0.8275\n"
     ]
    },
    {
     "name": "stderr",
     "output_type": "stream",
     "text": [
      "Training Progress::  13%|█▎        | 2/15 [00:02<00:16,  1.25s/it]"
     ]
    },
    {
     "name": "stdout",
     "output_type": "stream",
     "text": [
      "Epoch 2: Accuracy = 0.8332\n"
     ]
    },
    {
     "name": "stderr",
     "output_type": "stream",
     "text": [
      "Training Progress::  20%|██        | 3/15 [00:03<00:15,  1.26s/it]"
     ]
    },
    {
     "name": "stdout",
     "output_type": "stream",
     "text": [
      "Epoch 3: Accuracy = 0.8352\n"
     ]
    },
    {
     "name": "stderr",
     "output_type": "stream",
     "text": [
      "Training Progress::  27%|██▋       | 4/15 [00:04<00:13,  1.23s/it]"
     ]
    },
    {
     "name": "stdout",
     "output_type": "stream",
     "text": [
      "Epoch 4: Accuracy = 0.8360\n"
     ]
    },
    {
     "name": "stderr",
     "output_type": "stream",
     "text": [
      "Training Progress::  33%|███▎      | 5/15 [00:06<00:12,  1.23s/it]"
     ]
    },
    {
     "name": "stdout",
     "output_type": "stream",
     "text": [
      "Epoch 5: Accuracy = 0.8362\n"
     ]
    },
    {
     "name": "stderr",
     "output_type": "stream",
     "text": [
      "Training Progress::  40%|████      | 6/15 [00:07<00:10,  1.21s/it]"
     ]
    },
    {
     "name": "stdout",
     "output_type": "stream",
     "text": [
      "Epoch 6: Accuracy = 0.8363\n"
     ]
    },
    {
     "name": "stderr",
     "output_type": "stream",
     "text": [
      "Training Progress::  47%|████▋     | 7/15 [00:08<00:09,  1.20s/it]"
     ]
    },
    {
     "name": "stdout",
     "output_type": "stream",
     "text": [
      "Epoch 7: Accuracy = 0.8364\n"
     ]
    },
    {
     "name": "stderr",
     "output_type": "stream",
     "text": [
      "Training Progress::  53%|█████▎    | 8/15 [00:09<00:08,  1.23s/it]"
     ]
    },
    {
     "name": "stdout",
     "output_type": "stream",
     "text": [
      "Epoch 8: Accuracy = 0.8364\n"
     ]
    },
    {
     "name": "stderr",
     "output_type": "stream",
     "text": [
      "Training Progress::  60%|██████    | 9/15 [00:11<00:07,  1.23s/it]"
     ]
    },
    {
     "name": "stdout",
     "output_type": "stream",
     "text": [
      "Epoch 9: Accuracy = 0.8364\n"
     ]
    },
    {
     "name": "stderr",
     "output_type": "stream",
     "text": [
      "Training Progress::  67%|██████▋   | 10/15 [00:12<00:06,  1.24s/it]"
     ]
    },
    {
     "name": "stdout",
     "output_type": "stream",
     "text": [
      "Epoch 10: Accuracy = 0.8365\n"
     ]
    },
    {
     "name": "stderr",
     "output_type": "stream",
     "text": [
      "Training Progress::  73%|███████▎  | 11/15 [00:13<00:04,  1.22s/it]"
     ]
    },
    {
     "name": "stdout",
     "output_type": "stream",
     "text": [
      "Epoch 11: Accuracy = 0.8365\n"
     ]
    },
    {
     "name": "stderr",
     "output_type": "stream",
     "text": [
      "Training Progress::  80%|████████  | 12/15 [00:14<00:03,  1.19s/it]"
     ]
    },
    {
     "name": "stdout",
     "output_type": "stream",
     "text": [
      "Epoch 12: Accuracy = 0.8365\n"
     ]
    },
    {
     "name": "stderr",
     "output_type": "stream",
     "text": [
      "Training Progress::  87%|████████▋ | 13/15 [00:15<00:02,  1.18s/it]"
     ]
    },
    {
     "name": "stdout",
     "output_type": "stream",
     "text": [
      "Epoch 13: Accuracy = 0.8365\n"
     ]
    },
    {
     "name": "stderr",
     "output_type": "stream",
     "text": [
      "Training Progress::  93%|█████████▎| 14/15 [00:17<00:01,  1.21s/it]"
     ]
    },
    {
     "name": "stdout",
     "output_type": "stream",
     "text": [
      "Epoch 14: Accuracy = 0.8365\n"
     ]
    },
    {
     "name": "stderr",
     "output_type": "stream",
     "text": [
      "Training Progress:: 100%|██████████| 15/15 [00:18<00:00,  1.22s/it]"
     ]
    },
    {
     "name": "stdout",
     "output_type": "stream",
     "text": [
      "Epoch 15: Accuracy = 0.8364\n"
     ]
    },
    {
     "name": "stderr",
     "output_type": "stream",
     "text": [
      "\n"
     ]
    }
   ],
   "source": [
    "from sklearn.linear_model import SGDClassifier\n",
    "\n",
    "svm_model = SGDClassifier(\n",
    "    loss = 'hinge',\n",
    "    max_iter = 200,\n",
    "    tol = None,\n",
    "    random_state = 1,\n",
    "    warm_start = True,\n",
    "    n_jobs = -1,\n",
    "    learning_rate = 'adaptive', # to adjust step size for better convergence\n",
    "    eta0= 0.01 #intial learning rate\n",
    ")\n",
    "epochs = 15\n",
    "accuracy_scores = []\n",
    "\n",
    "for epoch in tqdm(range(epochs), desc = \"Training Progress:\"):\n",
    "    svm_model.partial_fit(X_train, y_train, classes = ['positive','negative','neutral'])\n",
    "    y_pred = svm_model.predict(X_test)  # Predict on validation set\n",
    "    acc = accuracy_score(y_test, y_pred)  # Compute accuracy\n",
    "    accuracy_scores.append(acc)  # Store accuracy\n",
    "    tqdm.write(f\"Epoch {epoch+1}: Accuracy = {acc:.4f}\")"
   ]
  },
  {
   "cell_type": "code",
   "execution_count": 38,
   "id": "5561c094",
   "metadata": {
    "execution": {
     "iopub.execute_input": "2025-01-08T21:32:16.067447Z",
     "iopub.status.busy": "2025-01-08T21:32:16.067045Z",
     "iopub.status.idle": "2025-01-08T21:32:16.348268Z",
     "shell.execute_reply": "2025-01-08T21:32:16.347156Z"
    },
    "papermill": {
     "duration": 0.779631,
     "end_time": "2025-01-08T21:32:16.349961",
     "exception": false,
     "start_time": "2025-01-08T21:32:15.570330",
     "status": "completed"
    },
    "tags": []
   },
   "outputs": [
    {
     "data": {
      "image/png": "[encoded data removed]",
      "text/plain": [
       "<Figure size 800x500 with 1 Axes>"
      ]
     },
     "metadata": {},
     "output_type": "display_data"
    }
   ],
   "source": [
    "# Accuracy vs epochs\n",
    "plt.figure(figsize=(8,5))\n",
    "plt.plot(range(1, epochs+1), accuracy_scores, marker='o', linestyle='-')\n",
    "plt.xlabel(\"Epochs\")\n",
    "plt.ylabel(\"Accuracy\")\n",
    "plt.title(\"Model Accuracy Over Epochs\")\n",
    "plt.grid()\n",
    "plt.show()\n"
   ]
  },
  {
   "cell_type": "code",
   "execution_count": 39,
   "id": "6e54e05d",
   "metadata": {
    "execution": {
     "iopub.execute_input": "2025-01-08T21:32:17.452931Z",
     "iopub.status.busy": "2025-01-08T21:32:17.452507Z",
     "iopub.status.idle": "2025-01-08T21:32:17.457948Z",
     "shell.execute_reply": "2025-01-08T21:32:17.456506Z"
    },
    "papermill": {
     "duration": 0.524257,
     "end_time": "2025-01-08T21:32:17.459700",
     "exception": false,
     "start_time": "2025-01-08T21:32:16.935443",
     "status": "completed"
    },
    "tags": []
   },
   "outputs": [
    {
     "name": "stdout",
     "output_type": "stream",
     "text": [
      "\n",
      "Final Model Accuracy: 0.8364\n"
     ]
    }
   ],
   "source": [
    "print(f\"\\nFinal Model Accuracy: {accuracy_scores[-1]:.4f}\")"
   ]
  },
  {
   "cell_type": "code",
   "execution_count": 40,
   "id": "3958d43f",
   "metadata": {
    "execution": {
     "iopub.execute_input": "2025-01-08T21:32:18.560735Z",
     "iopub.status.busy": "2025-01-08T21:32:18.560317Z",
     "iopub.status.idle": "2025-01-08T21:32:18.584091Z",
     "shell.execute_reply": "2025-01-08T21:32:18.583021Z"
    },
    "papermill": {
     "duration": 0.624602,
     "end_time": "2025-01-08T21:32:18.586436",
     "exception": false,
     "start_time": "2025-01-08T21:32:17.961834",
     "status": "completed"
    },
    "tags": []
   },
   "outputs": [],
   "source": [
    "# predict on the test data \n",
    "y_pred = svm_model.predict(X_test)"
   ]
  },
  {
   "cell_type": "code",
   "execution_count": 41,
   "id": "7eebc6dd",
   "metadata": {
    "execution": {
     "iopub.execute_input": "2025-01-08T21:32:19.582386Z",
     "iopub.status.busy": "2025-01-08T21:32:19.581978Z",
     "iopub.status.idle": "2025-01-08T21:32:30.024110Z",
     "shell.execute_reply": "2025-01-08T21:32:30.022896Z"
    },
    "papermill": {
     "duration": 10.940787,
     "end_time": "2025-01-08T21:32:30.026103",
     "exception": false,
     "start_time": "2025-01-08T21:32:19.085316",
     "status": "completed"
    },
    "tags": []
   },
   "outputs": [
    {
     "name": "stdout",
     "output_type": "stream",
     "text": [
      "\n",
      "Classification Report:\n",
      "\n",
      "              precision    recall  f1-score   support\n",
      "\n",
      "    negative       0.85      0.75      0.80     54544\n",
      "     neutral       0.80      0.91      0.85     53430\n",
      "    positive       0.86      0.85      0.86     54104\n",
      "\n",
      "    accuracy                           0.84    162078\n",
      "   macro avg       0.84      0.84      0.84    162078\n",
      "weighted avg       0.84      0.84      0.84    162078\n",
      "\n"
     ]
    }
   ],
   "source": [
    "# CLassification report \n",
    "print(\"\\nClassification Report:\\n\")\n",
    "print(classification_report(y_test, y_pred))"
   ]
  },
  {
   "cell_type": "raw",
   "id": "5cdd0ae9",
   "metadata": {
    "papermill": {
     "duration": 0.504412,
     "end_time": "2025-01-08T21:32:31.111867",
     "exception": false,
     "start_time": "2025-01-08T21:32:30.607455",
     "status": "completed"
    },
    "tags": []
   },
   "source": [
    "The classification report shows high precision accross all three labels. for negative labeled values the recall is low 0.75, indicating that some negaitve values were misclassified- this could be explained due the smaller dataset for negative sentiments, which checks out as out of the three sentiment reviews reviews with negative sentiment were the lowest. Furthermore, for neutral label values, we see a high recall value of 0.91, indicating that most neutral sentiments were detected correctly. For positive sentiment we see a balanced precision, recall and F-1 scores displaying a strong classification.\n",
    "\n",
    "The accuracy score of 0.84 shows that 84% of the model's predictions were correct. "
   ]
  },
  {
   "cell_type": "code",
   "execution_count": 42,
   "id": "54bfcd20",
   "metadata": {
    "execution": {
     "iopub.execute_input": "2025-01-08T21:32:32.177728Z",
     "iopub.status.busy": "2025-01-08T21:32:32.176921Z",
     "iopub.status.idle": "2025-01-08T21:32:33.276515Z",
     "shell.execute_reply": "2025-01-08T21:32:33.275215Z"
    },
    "papermill": {
     "duration": 1.676086,
     "end_time": "2025-01-08T21:32:33.279333",
     "exception": false,
     "start_time": "2025-01-08T21:32:31.603247",
     "status": "completed"
    },
    "tags": []
   },
   "outputs": [
    {
     "data": {
      "image/png": "[encoded data removed]",
      "text/plain": [
       "<Figure size 600x500 with 2 Axes>"
      ]
     },
     "metadata": {},
     "output_type": "display_data"
    }
   ],
   "source": [
    "# Confusion matrix \n",
    "from sklearn.metrics import confusion_matrix\n",
    "cm = confusion_matrix(y_test, y_pred, labels=['positive', 'negative', 'neutral'])\n",
    "\n",
    "plt.figure(figsize = (6,5))\n",
    "sns.heatmap(cm, annot = True, fmt = \"d\", cmap = \"Blues\", xticklabels = [\"positive\",\"negative\",\"neutral\"], yticklabels = [\"positive\",\"negative\",\"neutral\"] )\n",
    "plt.xlabel('Predicted')\n",
    "plt.ylabel('Actual')\n",
    "plt.title('Confusion Matrix')\n",
    "plt.show()"
   ]
  },
  {
   "cell_type": "markdown",
   "id": "ca3efaca",
   "metadata": {
    "papermill": {
     "duration": 0.580325,
     "end_time": "2025-01-08T21:32:34.381147",
     "exception": false,
     "start_time": "2025-01-08T21:32:33.800822",
     "status": "completed"
    },
    "tags": []
   },
   "source": [
    "# **Conclusions from the confusion matirx heatmap**\n",
    "\n",
    "* The model correctly predicted 46007 positive sentiments, and 4442 and 3655 were misclassifed as negative and neutral respectively, indicating that the model confuses some positive sentiments for negative. \n",
    "* Furhtermore, 41082 were correctly classified as negative while 5303, and 8159 were misclassified as positive and neutral respectively. Additionally, the model confuses some negatives as neutral or positive, indicating that the model struggels with negtive reviews. This is directly correlated with the lower count for negaitve reviews. \n",
    "* Additonally the model performed the best in classifying neutral sentiments with 48474 being correctly classified and 2150 being classified as positive and 2800 as negative.\n",
    "\n",
    "The model has room for improvements, it can be done with increasing the datsset for negative reviews, which can be achieved by using oversampling techniques like SMOTE, where data can be synthesised. Further improvements can be made by reducing the misclassification between negative and neutral reviews. This can be achieved by using word embeddings like **Word2Vec**, insead of using **TF-IDF**. "
   ]
  },
  {
   "cell_type": "code",
   "execution_count": 43,
   "id": "5e8089ab",
   "metadata": {
    "execution": {
     "iopub.execute_input": "2025-01-08T21:32:35.414880Z",
     "iopub.status.busy": "2025-01-08T21:32:35.414084Z",
     "iopub.status.idle": "2025-01-08T21:32:46.592932Z",
     "shell.execute_reply": "2025-01-08T21:32:46.591533Z"
    },
    "papermill": {
     "duration": 11.692045,
     "end_time": "2025-01-08T21:32:46.595459",
     "exception": false,
     "start_time": "2025-01-08T21:32:34.903414",
     "status": "completed"
    },
    "tags": []
   },
   "outputs": [
    {
     "name": "stdout",
     "output_type": "stream",
     "text": [
      "Accuracy: 0.8364059280099705\n",
      "Classification Report:\n",
      "               precision    recall  f1-score   support\n",
      "\n",
      "    negative       0.85      0.75      0.80     54544\n",
      "     neutral       0.80      0.91      0.85     53430\n",
      "    positive       0.86      0.85      0.86     54104\n",
      "\n",
      "    accuracy                           0.84    162078\n",
      "   macro avg       0.84      0.84      0.84    162078\n",
      "weighted avg       0.84      0.84      0.84    162078\n",
      "\n"
     ]
    }
   ],
   "source": [
    "# Evaluating the model\n",
    "print(\"Accuracy:\", accuracy_score(y_test, y_pred))\n",
    "print(\"Classification Report:\\n\", classification_report(y_test, y_pred))"
   ]
  },
  {
   "cell_type": "code",
   "execution_count": 44,
   "id": "cfbd1cc4",
   "metadata": {
    "execution": {
     "iopub.execute_input": "2025-01-08T21:32:47.695679Z",
     "iopub.status.busy": "2025-01-08T21:32:47.695272Z",
     "iopub.status.idle": "2025-01-08T21:41:05.842524Z",
     "shell.execute_reply": "2025-01-08T21:41:05.840381Z"
    },
    "papermill": {
     "duration": 498.652025,
     "end_time": "2025-01-08T21:41:05.844257",
     "exception": false,
     "start_time": "2025-01-08T21:32:47.192232",
     "status": "completed"
    },
    "tags": []
   },
   "outputs": [
    {
     "name": "stderr",
     "output_type": "stream",
     "text": [
      "Training Progress::   2%|▏         | 1/50 [00:10<08:20, 10.21s/it]"
     ]
    },
    {
     "name": "stdout",
     "output_type": "stream",
     "text": [
      "Epoch 1: Accuracy = 0.8831\n"
     ]
    },
    {
     "name": "stderr",
     "output_type": "stream",
     "text": [
      "Training Progress::   4%|▍         | 2/50 [00:20<08:07, 10.15s/it]"
     ]
    },
    {
     "name": "stdout",
     "output_type": "stream",
     "text": [
      "Epoch 2: Accuracy = 0.8851\n"
     ]
    },
    {
     "name": "stderr",
     "output_type": "stream",
     "text": [
      "Training Progress::   6%|▌         | 3/50 [00:30<07:57, 10.16s/it]"
     ]
    },
    {
     "name": "stdout",
     "output_type": "stream",
     "text": [
      "Epoch 3: Accuracy = 0.8852\n"
     ]
    },
    {
     "name": "stderr",
     "output_type": "stream",
     "text": [
      "Training Progress::   8%|▊         | 4/50 [00:40<07:47, 10.15s/it]"
     ]
    },
    {
     "name": "stdout",
     "output_type": "stream",
     "text": [
      "Epoch 4: Accuracy = 0.8852\n"
     ]
    },
    {
     "name": "stderr",
     "output_type": "stream",
     "text": [
      "Training Progress::  10%|█         | 5/50 [00:50<07:34, 10.10s/it]"
     ]
    },
    {
     "name": "stdout",
     "output_type": "stream",
     "text": [
      "Epoch 5: Accuracy = 0.8852\n"
     ]
    },
    {
     "name": "stderr",
     "output_type": "stream",
     "text": [
      "Training Progress::  12%|█▏        | 6/50 [01:00<07:26, 10.16s/it]"
     ]
    },
    {
     "name": "stdout",
     "output_type": "stream",
     "text": [
      "Epoch 6: Accuracy = 0.8852\n"
     ]
    },
    {
     "name": "stderr",
     "output_type": "stream",
     "text": [
      "Training Progress::  14%|█▍        | 7/50 [01:11<07:15, 10.14s/it]"
     ]
    },
    {
     "name": "stdout",
     "output_type": "stream",
     "text": [
      "Epoch 7: Accuracy = 0.8852\n"
     ]
    },
    {
     "name": "stderr",
     "output_type": "stream",
     "text": [
      "Training Progress::  16%|█▌        | 8/50 [01:21<07:07, 10.17s/it]"
     ]
    },
    {
     "name": "stdout",
     "output_type": "stream",
     "text": [
      "Epoch 8: Accuracy = 0.8852\n"
     ]
    },
    {
     "name": "stderr",
     "output_type": "stream",
     "text": [
      "Training Progress::  18%|█▊        | 9/50 [01:31<06:58, 10.20s/it]"
     ]
    },
    {
     "name": "stdout",
     "output_type": "stream",
     "text": [
      "Epoch 9: Accuracy = 0.8852\n"
     ]
    },
    {
     "name": "stderr",
     "output_type": "stream",
     "text": [
      "Training Progress::  20%|██        | 10/50 [01:41<06:45, 10.13s/it]"
     ]
    },
    {
     "name": "stdout",
     "output_type": "stream",
     "text": [
      "Epoch 10: Accuracy = 0.8852\n"
     ]
    },
    {
     "name": "stderr",
     "output_type": "stream",
     "text": [
      "Training Progress::  22%|██▏       | 11/50 [01:51<06:35, 10.14s/it]"
     ]
    },
    {
     "name": "stdout",
     "output_type": "stream",
     "text": [
      "Epoch 11: Accuracy = 0.8852\n"
     ]
    },
    {
     "name": "stderr",
     "output_type": "stream",
     "text": [
      "Training Progress::  24%|██▍       | 12/50 [02:02<06:28, 10.22s/it]"
     ]
    },
    {
     "name": "stdout",
     "output_type": "stream",
     "text": [
      "Epoch 12: Accuracy = 0.8852\n"
     ]
    },
    {
     "name": "stderr",
     "output_type": "stream",
     "text": [
      "Training Progress::  26%|██▌       | 13/50 [02:12<06:20, 10.29s/it]"
     ]
    },
    {
     "name": "stdout",
     "output_type": "stream",
     "text": [
      "Epoch 13: Accuracy = 0.8852\n"
     ]
    },
    {
     "name": "stderr",
     "output_type": "stream",
     "text": [
      "Training Progress::  28%|██▊       | 14/50 [02:23<06:14, 10.39s/it]"
     ]
    },
    {
     "name": "stdout",
     "output_type": "stream",
     "text": [
      "Epoch 14: Accuracy = 0.8852\n"
     ]
    },
    {
     "name": "stderr",
     "output_type": "stream",
     "text": [
      "Training Progress::  30%|███       | 15/50 [02:33<06:04, 10.40s/it]"
     ]
    },
    {
     "name": "stdout",
     "output_type": "stream",
     "text": [
      "Epoch 15: Accuracy = 0.8852\n"
     ]
    },
    {
     "name": "stderr",
     "output_type": "stream",
     "text": [
      "Training Progress::  32%|███▏      | 16/50 [02:43<05:49, 10.28s/it]"
     ]
    },
    {
     "name": "stdout",
     "output_type": "stream",
     "text": [
      "Epoch 16: Accuracy = 0.8852\n"
     ]
    },
    {
     "name": "stderr",
     "output_type": "stream",
     "text": [
      "Training Progress::  34%|███▍      | 17/50 [02:53<05:35, 10.17s/it]"
     ]
    },
    {
     "name": "stdout",
     "output_type": "stream",
     "text": [
      "Epoch 17: Accuracy = 0.8852\n"
     ]
    },
    {
     "name": "stderr",
     "output_type": "stream",
     "text": [
      "Training Progress::  36%|███▌      | 18/50 [03:03<05:23, 10.10s/it]"
     ]
    },
    {
     "name": "stdout",
     "output_type": "stream",
     "text": [
      "Epoch 18: Accuracy = 0.8852\n"
     ]
    },
    {
     "name": "stderr",
     "output_type": "stream",
     "text": [
      "Training Progress::  38%|███▊      | 19/50 [03:13<05:12, 10.08s/it]"
     ]
    },
    {
     "name": "stdout",
     "output_type": "stream",
     "text": [
      "Epoch 19: Accuracy = 0.8852\n"
     ]
    },
    {
     "name": "stderr",
     "output_type": "stream",
     "text": [
      "Training Progress::  40%|████      | 20/50 [03:23<05:01, 10.04s/it]"
     ]
    },
    {
     "name": "stdout",
     "output_type": "stream",
     "text": [
      "Epoch 20: Accuracy = 0.8852\n"
     ]
    },
    {
     "name": "stderr",
     "output_type": "stream",
     "text": [
      "Training Progress::  42%|████▏     | 21/50 [03:33<04:49,  9.97s/it]"
     ]
    },
    {
     "name": "stdout",
     "output_type": "stream",
     "text": [
      "Epoch 21: Accuracy = 0.8852\n"
     ]
    },
    {
     "name": "stderr",
     "output_type": "stream",
     "text": [
      "Training Progress::  44%|████▍     | 22/50 [03:43<04:39,  9.99s/it]"
     ]
    },
    {
     "name": "stdout",
     "output_type": "stream",
     "text": [
      "Epoch 22: Accuracy = 0.8852\n"
     ]
    },
    {
     "name": "stderr",
     "output_type": "stream",
     "text": [
      "Training Progress::  46%|████▌     | 23/50 [03:53<04:29,  9.98s/it]"
     ]
    },
    {
     "name": "stdout",
     "output_type": "stream",
     "text": [
      "Epoch 23: Accuracy = 0.8852\n"
     ]
    },
    {
     "name": "stderr",
     "output_type": "stream",
     "text": [
      "Training Progress::  48%|████▊     | 24/50 [04:03<04:19,  9.99s/it]"
     ]
    },
    {
     "name": "stdout",
     "output_type": "stream",
     "text": [
      "Epoch 24: Accuracy = 0.8852\n"
     ]
    },
    {
     "name": "stderr",
     "output_type": "stream",
     "text": [
      "Training Progress::  50%|█████     | 25/50 [04:13<04:11, 10.05s/it]"
     ]
    },
    {
     "name": "stdout",
     "output_type": "stream",
     "text": [
      "Epoch 25: Accuracy = 0.8852\n"
     ]
    },
    {
     "name": "stderr",
     "output_type": "stream",
     "text": [
      "Training Progress::  52%|█████▏    | 26/50 [04:23<04:00, 10.02s/it]"
     ]
    },
    {
     "name": "stdout",
     "output_type": "stream",
     "text": [
      "Epoch 26: Accuracy = 0.8852\n"
     ]
    },
    {
     "name": "stderr",
     "output_type": "stream",
     "text": [
      "Training Progress::  54%|█████▍    | 27/50 [04:33<03:50, 10.00s/it]"
     ]
    },
    {
     "name": "stdout",
     "output_type": "stream",
     "text": [
      "Epoch 27: Accuracy = 0.8852\n"
     ]
    },
    {
     "name": "stderr",
     "output_type": "stream",
     "text": [
      "Training Progress::  56%|█████▌    | 28/50 [04:42<03:37,  9.90s/it]"
     ]
    },
    {
     "name": "stdout",
     "output_type": "stream",
     "text": [
      "Epoch 28: Accuracy = 0.8852\n"
     ]
    },
    {
     "name": "stderr",
     "output_type": "stream",
     "text": [
      "Training Progress::  58%|█████▊    | 29/50 [04:52<03:27,  9.88s/it]"
     ]
    },
    {
     "name": "stdout",
     "output_type": "stream",
     "text": [
      "Epoch 29: Accuracy = 0.8852\n"
     ]
    },
    {
     "name": "stderr",
     "output_type": "stream",
     "text": [
      "Training Progress::  60%|██████    | 30/50 [05:02<03:18,  9.94s/it]"
     ]
    },
    {
     "name": "stdout",
     "output_type": "stream",
     "text": [
      "Epoch 30: Accuracy = 0.8852\n"
     ]
    },
    {
     "name": "stderr",
     "output_type": "stream",
     "text": [
      "Training Progress::  62%|██████▏   | 31/50 [05:12<03:07,  9.87s/it]"
     ]
    },
    {
     "name": "stdout",
     "output_type": "stream",
     "text": [
      "Epoch 31: Accuracy = 0.8852\n"
     ]
    },
    {
     "name": "stderr",
     "output_type": "stream",
     "text": [
      "Training Progress::  64%|██████▍   | 32/50 [05:22<02:57,  9.85s/it]"
     ]
    },
    {
     "name": "stdout",
     "output_type": "stream",
     "text": [
      "Epoch 32: Accuracy = 0.8852\n"
     ]
    },
    {
     "name": "stderr",
     "output_type": "stream",
     "text": [
      "Training Progress::  66%|██████▌   | 33/50 [05:32<02:47,  9.83s/it]"
     ]
    },
    {
     "name": "stdout",
     "output_type": "stream",
     "text": [
      "Epoch 33: Accuracy = 0.8852\n"
     ]
    },
    {
     "name": "stderr",
     "output_type": "stream",
     "text": [
      "Training Progress::  68%|██████▊   | 34/50 [05:41<02:37,  9.83s/it]"
     ]
    },
    {
     "name": "stdout",
     "output_type": "stream",
     "text": [
      "Epoch 34: Accuracy = 0.8852\n"
     ]
    },
    {
     "name": "stderr",
     "output_type": "stream",
     "text": [
      "Training Progress::  70%|███████   | 35/50 [05:51<02:27,  9.86s/it]"
     ]
    },
    {
     "name": "stdout",
     "output_type": "stream",
     "text": [
      "Epoch 35: Accuracy = 0.8852\n"
     ]
    },
    {
     "name": "stderr",
     "output_type": "stream",
     "text": [
      "Training Progress::  72%|███████▏  | 36/50 [06:02<02:19,  9.97s/it]"
     ]
    },
    {
     "name": "stdout",
     "output_type": "stream",
     "text": [
      "Epoch 36: Accuracy = 0.8852\n"
     ]
    },
    {
     "name": "stderr",
     "output_type": "stream",
     "text": [
      "Training Progress::  74%|███████▍  | 37/50 [06:12<02:10, 10.07s/it]"
     ]
    },
    {
     "name": "stdout",
     "output_type": "stream",
     "text": [
      "Epoch 37: Accuracy = 0.8852\n"
     ]
    },
    {
     "name": "stderr",
     "output_type": "stream",
     "text": [
      "Training Progress::  76%|███████▌  | 38/50 [06:22<01:59,  9.96s/it]"
     ]
    },
    {
     "name": "stdout",
     "output_type": "stream",
     "text": [
      "Epoch 38: Accuracy = 0.8852\n"
     ]
    },
    {
     "name": "stderr",
     "output_type": "stream",
     "text": [
      "Training Progress::  78%|███████▊  | 39/50 [06:31<01:48,  9.90s/it]"
     ]
    },
    {
     "name": "stdout",
     "output_type": "stream",
     "text": [
      "Epoch 39: Accuracy = 0.8852\n"
     ]
    },
    {
     "name": "stderr",
     "output_type": "stream",
     "text": [
      "Training Progress::  80%|████████  | 40/50 [06:41<01:38,  9.87s/it]"
     ]
    },
    {
     "name": "stdout",
     "output_type": "stream",
     "text": [
      "Epoch 40: Accuracy = 0.8852\n"
     ]
    },
    {
     "name": "stderr",
     "output_type": "stream",
     "text": [
      "Training Progress::  82%|████████▏ | 41/50 [06:51<01:28,  9.79s/it]"
     ]
    },
    {
     "name": "stdout",
     "output_type": "stream",
     "text": [
      "Epoch 41: Accuracy = 0.8852\n"
     ]
    },
    {
     "name": "stderr",
     "output_type": "stream",
     "text": [
      "Training Progress::  84%|████████▍ | 42/50 [07:00<01:17,  9.74s/it]"
     ]
    },
    {
     "name": "stdout",
     "output_type": "stream",
     "text": [
      "Epoch 42: Accuracy = 0.8852\n"
     ]
    },
    {
     "name": "stderr",
     "output_type": "stream",
     "text": [
      "Training Progress::  86%|████████▌ | 43/50 [07:10<01:08,  9.75s/it]"
     ]
    },
    {
     "name": "stdout",
     "output_type": "stream",
     "text": [
      "Epoch 43: Accuracy = 0.8852\n"
     ]
    },
    {
     "name": "stderr",
     "output_type": "stream",
     "text": [
      "Training Progress::  88%|████████▊ | 44/50 [07:20<00:58,  9.73s/it]"
     ]
    },
    {
     "name": "stdout",
     "output_type": "stream",
     "text": [
      "Epoch 44: Accuracy = 0.8852\n"
     ]
    },
    {
     "name": "stderr",
     "output_type": "stream",
     "text": [
      "Training Progress::  90%|█████████ | 45/50 [07:29<00:48,  9.67s/it]"
     ]
    },
    {
     "name": "stdout",
     "output_type": "stream",
     "text": [
      "Epoch 45: Accuracy = 0.8852\n"
     ]
    },
    {
     "name": "stderr",
     "output_type": "stream",
     "text": [
      "Training Progress::  92%|█████████▏| 46/50 [07:39<00:38,  9.68s/it]"
     ]
    },
    {
     "name": "stdout",
     "output_type": "stream",
     "text": [
      "Epoch 46: Accuracy = 0.8852\n"
     ]
    },
    {
     "name": "stderr",
     "output_type": "stream",
     "text": [
      "Training Progress::  94%|█████████▍| 47/50 [07:49<00:28,  9.66s/it]"
     ]
    },
    {
     "name": "stdout",
     "output_type": "stream",
     "text": [
      "Epoch 47: Accuracy = 0.8852\n"
     ]
    },
    {
     "name": "stderr",
     "output_type": "stream",
     "text": [
      "Training Progress::  96%|█████████▌| 48/50 [07:58<00:19,  9.62s/it]"
     ]
    },
    {
     "name": "stdout",
     "output_type": "stream",
     "text": [
      "Epoch 48: Accuracy = 0.8852\n"
     ]
    },
    {
     "name": "stderr",
     "output_type": "stream",
     "text": [
      "Training Progress::  98%|█████████▊| 49/50 [08:08<00:09,  9.61s/it]"
     ]
    },
    {
     "name": "stdout",
     "output_type": "stream",
     "text": [
      "Epoch 49: Accuracy = 0.8852\n"
     ]
    },
    {
     "name": "stderr",
     "output_type": "stream",
     "text": [
      "Training Progress:: 100%|██████████| 50/50 [08:18<00:00,  9.96s/it]"
     ]
    },
    {
     "name": "stdout",
     "output_type": "stream",
     "text": [
      "Epoch 50: Accuracy = 0.8852\n"
     ]
    },
    {
     "name": "stderr",
     "output_type": "stream",
     "text": [
      "\n"
     ]
    }
   ],
   "source": [
    "#Running the model on the full dataset\n",
    "\n",
    "full_model  = SGDClassifier (\n",
    "    loss = 'hinge',\n",
    "    max_iter = 1,\n",
    "    tol = None,\n",
    "    random_state = 1,\n",
    "    warm_start = True, \n",
    "    n_jobs = -1,\n",
    "    learning_rate = 'adaptive',\n",
    "    eta0 = 0.01\n",
    ")\n",
    "\n",
    "epochs = 50\n",
    "accuracy_scrs = []\n",
    "\n",
    "# We are using partial_fit, because SGDClassifier.fit() does not support progress tracking.\n",
    "for epoch in tqdm(range(epochs), desc=\"Training Progress:\"):\n",
    "    full_model.partial_fit(X, y, classes=np.unique(y)) # Extracting the unique values, instead of hardcoded labels, as we did with traing data. \n",
    "    y_full_pred = full_model.predict(X)\n",
    "    acc_full = accuracy_score(y, y_full_pred)\n",
    "    accuracy_scrs.append(acc_full)\n",
    "    tqdm.write(f\"Epoch {epoch+1}: Accuracy = {acc_full:.4f}\")"
   ]
  },
  {
   "cell_type": "code",
   "execution_count": 45,
   "id": "992cf7e1",
   "metadata": {
    "execution": {
     "iopub.execute_input": "2025-01-08T21:41:06.936192Z",
     "iopub.status.busy": "2025-01-08T21:41:06.935811Z",
     "iopub.status.idle": "2025-01-08T21:41:07.218857Z",
     "shell.execute_reply": "2025-01-08T21:41:07.217673Z"
    },
    "papermill": {
     "duration": 0.779131,
     "end_time": "2025-01-08T21:41:07.220722",
     "exception": false,
     "start_time": "2025-01-08T21:41:06.441591",
     "status": "completed"
    },
    "tags": []
   },
   "outputs": [
    {
     "data": {
      "image/png": "[encoded data removed]",
      "text/plain": [
       "<Figure size 1000x700 with 1 Axes>"
      ]
     },
     "metadata": {},
     "output_type": "display_data"
    }
   ],
   "source": [
    "# Visualising the accuracy over time\n",
    "plt.figure(figsize = (10,7))\n",
    "plt.plot(range(1, epochs+1), accuracy_scrs, marker='o', linestyle='-')\n",
    "plt.xlabel(\"Epochs\")\n",
    "plt.ylabel(\"Accuracy\")\n",
    "plt.title(\"Model Accuracy Over Epochs\")\n",
    "plt.grid()\n",
    "plt.show()"
   ]
  },
  {
   "cell_type": "code",
   "execution_count": 46,
   "id": "248b89e1",
   "metadata": {
    "execution": {
     "iopub.execute_input": "2025-01-08T21:41:08.312978Z",
     "iopub.status.busy": "2025-01-08T21:41:08.312532Z",
     "iopub.status.idle": "2025-01-08T21:43:06.313777Z",
     "shell.execute_reply": "2025-01-08T21:43:06.312428Z"
    },
    "papermill": {
     "duration": 119.098402,
     "end_time": "2025-01-08T21:43:06.823860",
     "exception": false,
     "start_time": "2025-01-08T21:41:07.725458",
     "status": "completed"
    },
    "tags": []
   },
   "outputs": [
    {
     "name": "stdout",
     "output_type": "stream",
     "text": [
      "Classification report for Full Dataset Model:\n",
      "\n",
      "              precision    recall  f1-score   support\n",
      "\n",
      "    negative       0.87      0.40      0.54    272611\n",
      "     neutral       0.84      0.63      0.72    267648\n",
      "    positive       0.89      0.99      0.94   1960680\n",
      "\n",
      "    accuracy                           0.89   2500939\n",
      "   macro avg       0.87      0.67      0.73   2500939\n",
      "weighted avg       0.88      0.89      0.87   2500939\n",
      "\n"
     ]
    }
   ],
   "source": [
    "# Generating the clasification report\n",
    "report = classification_report(y, y_full_pred, target_names=['negative', 'neutral', 'positive'])\n",
    "print(\"Classification report for Full Dataset Model:\\n\")\n",
    "print(report)"
   ]
  },
  {
   "cell_type": "code",
   "execution_count": 47,
   "id": "8d8f870b",
   "metadata": {
    "execution": {
     "iopub.execute_input": "2025-01-08T21:43:07.895222Z",
     "iopub.status.busy": "2025-01-08T21:43:07.894862Z",
     "iopub.status.idle": "2025-01-08T21:43:21.833131Z",
     "shell.execute_reply": "2025-01-08T21:43:21.831993Z"
    },
    "papermill": {
     "duration": 14.507431,
     "end_time": "2025-01-08T21:43:21.835406",
     "exception": false,
     "start_time": "2025-01-08T21:43:07.327975",
     "status": "completed"
    },
    "tags": []
   },
   "outputs": [
    {
     "data": {
      "image/png": "[encoded data removed]",
      "text/plain": [
       "<Figure size 600x500 with 2 Axes>"
      ]
     },
     "metadata": {},
     "output_type": "display_data"
    }
   ],
   "source": [
    "cm_full = confusion_matrix(y, y_full_pred)\n",
    "\n",
    "# Plot Confusion Matrix Heatmap\n",
    "plt.figure(figsize=(6,5))\n",
    "sns.heatmap(cm_full, annot=True, fmt=\"d\", cmap=\"Blues\", xticklabels=['negative', 'neutral', 'positive'], yticklabels=['negative', 'neutral', 'positive'])\n",
    "plt.xlabel('Predicted (Model)')\n",
    "plt.ylabel('Actual (Ground Truth)')\n",
    "plt.title('Confusion Matrix: Full Dataset Model')\n",
    "plt.show()"
   ]
  },
  {
   "cell_type": "markdown",
   "id": "c0c7529a",
   "metadata": {
    "papermill": {
     "duration": 0.505437,
     "end_time": "2025-01-08T21:43:22.863449",
     "exception": false,
     "start_time": "2025-01-08T21:43:22.358012",
     "status": "completed"
    },
    "tags": []
   },
   "source": [
    "**As expected the model is shows a heavy bias towards positive reviews due to the massive difference in the number of positive reviews when compared to the negative and neutral** \n",
    "Thus justifying the decision of undersmapling the positive review data for the test data. "
   ]
  },
  {
   "cell_type": "markdown",
   "id": "0c3cd42c",
   "metadata": {
    "papermill": {
     "duration": 0.586051,
     "end_time": "2025-01-08T21:43:23.953009",
     "exception": false,
     "start_time": "2025-01-08T21:43:23.366958",
     "status": "completed"
    },
    "tags": []
   },
   "source": [
    "# Comapring the model predictions with VADER"
   ]
  },
  {
   "cell_type": "code",
   "execution_count": 48,
   "id": "f5f0369d",
   "metadata": {
    "execution": {
     "iopub.execute_input": "2025-01-08T21:43:25.042030Z",
     "iopub.status.busy": "2025-01-08T21:43:25.041643Z",
     "iopub.status.idle": "2025-01-08T21:43:25.060577Z",
     "shell.execute_reply": "2025-01-08T21:43:25.059450Z"
    },
    "papermill": {
     "duration": 0.598818,
     "end_time": "2025-01-08T21:43:25.062337",
     "exception": false,
     "start_time": "2025-01-08T21:43:24.463519",
     "status": "completed"
    },
    "tags": []
   },
   "outputs": [
    {
     "data": {
      "text/html": [
       "<div>\n",
       "<style scoped>\n",
       "    .dataframe tbody tr th:only-of-type {\n",
       "        vertical-align: middle;\n",
       "    }\n",
       "\n",
       "    .dataframe tbody tr th {\n",
       "        vertical-align: top;\n",
       "    }\n",
       "\n",
       "    .dataframe thead th {\n",
       "        text-align: right;\n",
       "    }\n",
       "</style>\n",
       "<table border=\"1\" class=\"dataframe\">\n",
       "  <thead>\n",
       "    <tr style=\"text-align: right;\">\n",
       "      <th></th>\n",
       "      <th>rating</th>\n",
       "      <th>title</th>\n",
       "      <th>text</th>\n",
       "      <th>asin</th>\n",
       "      <th>parent_asin</th>\n",
       "      <th>user_id</th>\n",
       "      <th>date</th>\n",
       "      <th>time</th>\n",
       "      <th>neg</th>\n",
       "      <th>neu</th>\n",
       "      <th>pos</th>\n",
       "      <th>compound</th>\n",
       "      <th>vader_sentiment</th>\n",
       "      <th>sentiment</th>\n",
       "    </tr>\n",
       "  </thead>\n",
       "  <tbody>\n",
       "    <tr>\n",
       "      <th>0</th>\n",
       "      <td>5</td>\n",
       "      <td>Pretty locket</td>\n",
       "      <td>I think this locket is really pretty. The insi...</td>\n",
       "      <td>B00LOPVX74</td>\n",
       "      <td>B00LOPVX74</td>\n",
       "      <td>AGBFYI2DDIKXC5Y4FARTYDTQBMFQ</td>\n",
       "      <td>2020-01-09</td>\n",
       "      <td>00:06:34.489000</td>\n",
       "      <td>0.039</td>\n",
       "      <td>0.750</td>\n",
       "      <td>0.211</td>\n",
       "      <td>0.8532</td>\n",
       "      <td>positive</td>\n",
       "      <td>positive</td>\n",
       "    </tr>\n",
       "    <tr>\n",
       "      <th>1</th>\n",
       "      <td>5</td>\n",
       "      <td>A</td>\n",
       "      <td>Great</td>\n",
       "      <td>B07B4JXK8D</td>\n",
       "      <td>B07B4JXK8D</td>\n",
       "      <td>AFQLNQNQYFWQZPJQZS6V3NZU4QBQ</td>\n",
       "      <td>2020-12-20</td>\n",
       "      <td>01:04:06.701000</td>\n",
       "      <td>0.000</td>\n",
       "      <td>0.000</td>\n",
       "      <td>1.000</td>\n",
       "      <td>0.6249</td>\n",
       "      <td>positive</td>\n",
       "      <td>positive</td>\n",
       "    </tr>\n",
       "    <tr>\n",
       "      <th>2</th>\n",
       "      <td>2</td>\n",
       "      <td>Two Stars</td>\n",
       "      <td>One of the stones fell out within the first 2 ...</td>\n",
       "      <td>B007ZSEQ4Q</td>\n",
       "      <td>B007ZSEQ4Q</td>\n",
       "      <td>AHITBJSS7KYUBVZPX7M2WJCOIVKQ</td>\n",
       "      <td>2015-05-23</td>\n",
       "      <td>01:33:48</td>\n",
       "      <td>0.000</td>\n",
       "      <td>1.000</td>\n",
       "      <td>0.000</td>\n",
       "      <td>0.0000</td>\n",
       "      <td>neutral</td>\n",
       "      <td>neutral</td>\n",
       "    </tr>\n",
       "    <tr>\n",
       "      <th>3</th>\n",
       "      <td>1</td>\n",
       "      <td>Won’t buy again</td>\n",
       "      <td>Crappy socks. Money wasted. Bought to wear wit...</td>\n",
       "      <td>B07F2BTFS9</td>\n",
       "      <td>B07F2BTFS9</td>\n",
       "      <td>AFVNEEPDEIH5SPUN5BWC6NKL3WNQ</td>\n",
       "      <td>2018-12-31</td>\n",
       "      <td>20:57:27.095000</td>\n",
       "      <td>0.325</td>\n",
       "      <td>0.574</td>\n",
       "      <td>0.100</td>\n",
       "      <td>-0.6908</td>\n",
       "      <td>negative</td>\n",
       "      <td>negative</td>\n",
       "    </tr>\n",
       "    <tr>\n",
       "      <th>4</th>\n",
       "      <td>5</td>\n",
       "      <td>I LOVE these glasses</td>\n",
       "      <td>I LOVE these glasses!  They fit perfectly over...</td>\n",
       "      <td>B00PKRFU4O</td>\n",
       "      <td>B00XESJTDE</td>\n",
       "      <td>AHSPLDNW5OOUK2PLH7GXLACFBZNQ</td>\n",
       "      <td>2015-08-13</td>\n",
       "      <td>14:29:26</td>\n",
       "      <td>0.000</td>\n",
       "      <td>0.684</td>\n",
       "      <td>0.316</td>\n",
       "      <td>0.9675</td>\n",
       "      <td>positive</td>\n",
       "      <td>positive</td>\n",
       "    </tr>\n",
       "  </tbody>\n",
       "</table>\n",
       "</div>"
      ],
      "text/plain": [
       "   rating                 title  \\\n",
       "0       5         Pretty locket   \n",
       "1       5                     A   \n",
       "2       2             Two Stars   \n",
       "3       1       Won’t buy again   \n",
       "4       5  I LOVE these glasses   \n",
       "\n",
       "                                                text        asin parent_asin  \\\n",
       "0  I think this locket is really pretty. The insi...  B00LOPVX74  B00LOPVX74   \n",
       "1                                              Great  B07B4JXK8D  B07B4JXK8D   \n",
       "2  One of the stones fell out within the first 2 ...  B007ZSEQ4Q  B007ZSEQ4Q   \n",
       "3  Crappy socks. Money wasted. Bought to wear wit...  B07F2BTFS9  B07F2BTFS9   \n",
       "4  I LOVE these glasses!  They fit perfectly over...  B00PKRFU4O  B00XESJTDE   \n",
       "\n",
       "                        user_id        date             time    neg    neu  \\\n",
       "0  AGBFYI2DDIKXC5Y4FARTYDTQBMFQ  2020-01-09  00:06:34.489000  0.039  0.750   \n",
       "1  AFQLNQNQYFWQZPJQZS6V3NZU4QBQ  2020-12-20  01:04:06.701000  0.000  0.000   \n",
       "2  AHITBJSS7KYUBVZPX7M2WJCOIVKQ  2015-05-23         01:33:48  0.000  1.000   \n",
       "3  AFVNEEPDEIH5SPUN5BWC6NKL3WNQ  2018-12-31  20:57:27.095000  0.325  0.574   \n",
       "4  AHSPLDNW5OOUK2PLH7GXLACFBZNQ  2015-08-13         14:29:26  0.000  0.684   \n",
       "\n",
       "     pos  compound vader_sentiment sentiment  \n",
       "0  0.211    0.8532        positive  positive  \n",
       "1  1.000    0.6249        positive  positive  \n",
       "2  0.000    0.0000         neutral   neutral  \n",
       "3  0.100   -0.6908        negative  negative  \n",
       "4  0.316    0.9675        positive  positive  "
      ]
     },
     "execution_count": 48,
     "metadata": {},
     "output_type": "execute_result"
    }
   ],
   "source": [
    "ml_data.head()"
   ]
  },
  {
   "cell_type": "code",
   "execution_count": 49,
   "id": "2cb470b6",
   "metadata": {
    "execution": {
     "iopub.execute_input": "2025-01-08T21:43:26.086416Z",
     "iopub.status.busy": "2025-01-08T21:43:26.086058Z",
     "iopub.status.idle": "2025-01-08T21:43:26.093756Z",
     "shell.execute_reply": "2025-01-08T21:43:26.092329Z"
    },
    "papermill": {
     "duration": 0.512682,
     "end_time": "2025-01-08T21:43:26.095550",
     "exception": false,
     "start_time": "2025-01-08T21:43:25.582868",
     "status": "completed"
    },
    "tags": []
   },
   "outputs": [
    {
     "data": {
      "text/plain": [
       "Index(['rating', 'title', 'text', 'asin', 'parent_asin', 'user_id', 'date',\n",
       "       'time', 'neg', 'neu', 'pos', 'compound', 'vader_sentiment',\n",
       "       'sentiment'],\n",
       "      dtype='object')"
      ]
     },
     "execution_count": 49,
     "metadata": {},
     "output_type": "execute_result"
    }
   ],
   "source": [
    "ml_data.columns"
   ]
  },
  {
   "cell_type": "code",
   "execution_count": 50,
   "id": "5aaae8c3",
   "metadata": {
    "execution": {
     "iopub.execute_input": "2025-01-08T21:43:27.199319Z",
     "iopub.status.busy": "2025-01-08T21:43:27.198959Z",
     "iopub.status.idle": "2025-01-08T21:43:27.207611Z",
     "shell.execute_reply": "2025-01-08T21:43:27.205375Z"
    },
    "papermill": {
     "duration": 0.531925,
     "end_time": "2025-01-08T21:43:27.210092",
     "exception": false,
     "start_time": "2025-01-08T21:43:26.678167",
     "status": "completed"
    },
    "tags": []
   },
   "outputs": [
    {
     "name": "stdout",
     "output_type": "stream",
     "text": [
      "Shape of ml_data: (2500939, 14)\n",
      "Shape of y_test: (162078,)\n",
      "Shape of y_pred: (162078,)\n"
     ]
    }
   ],
   "source": [
    "# Making sure the data shapes are matching \n",
    "print(\"Shape of ml_data:\",ml_data.shape)\n",
    "print(\"Shape of y_test:\", y_test.shape)\n",
    "print(\"Shape of y_pred:\", y_pred.shape)"
   ]
  },
  {
   "cell_type": "code",
   "execution_count": 51,
   "id": "25dca456",
   "metadata": {
    "execution": {
     "iopub.execute_input": "2025-01-08T21:43:28.297908Z",
     "iopub.status.busy": "2025-01-08T21:43:28.297499Z",
     "iopub.status.idle": "2025-01-08T21:43:28.385800Z",
     "shell.execute_reply": "2025-01-08T21:43:28.384496Z"
    },
    "papermill": {
     "duration": 0.667923,
     "end_time": "2025-01-08T21:43:28.387750",
     "exception": false,
     "start_time": "2025-01-08T21:43:27.719827",
     "status": "completed"
    },
    "tags": []
   },
   "outputs": [
    {
     "name": "stdout",
     "output_type": "stream",
     "text": [
      "       VADER_Sentiment ML_Model_Sentiment\n",
      "578166        positive            neutral\n",
      "773552        negative           positive\n",
      "236115        positive           negative\n",
      "592982        positive            neutral\n",
      "11299         positive           negative\n"
     ]
    }
   ],
   "source": [
    "# Creating a separate dataframe to use for comparing the model values with that of VADER analysis. \n",
    "\n",
    "comparison_df = pd.DataFrame({\n",
    "    \"VADER_Sentiment\": ml_data.loc[y_test.index, \"vader_sentiment\"],  # Categorical labels from VADER\n",
    "    \"ML_Model_Sentiment\": y_pred  # Categorical predictions from ML model\n",
    "})\n",
    "\n",
    "# Display first few rows\n",
    "print(comparison_df.head())\n",
    "\n"
   ]
  },
  {
   "cell_type": "code",
   "execution_count": 52,
   "id": "984eb9e8",
   "metadata": {
    "execution": {
     "iopub.execute_input": "2025-01-08T21:43:29.413183Z",
     "iopub.status.busy": "2025-01-08T21:43:29.412831Z",
     "iopub.status.idle": "2025-01-08T21:43:29.461840Z",
     "shell.execute_reply": "2025-01-08T21:43:29.460752Z"
    },
    "papermill": {
     "duration": 0.574363,
     "end_time": "2025-01-08T21:43:29.463490",
     "exception": false,
     "start_time": "2025-01-08T21:43:28.889127",
     "status": "completed"
    },
    "tags": []
   },
   "outputs": [
    {
     "name": "stdout",
     "output_type": "stream",
     "text": [
      "Agreement Between VADER and ML Model: 32.93%\n"
     ]
    }
   ],
   "source": [
    "# Calculating the percentage of matching sentiment predictions\n",
    "agreement = (comparison_df[\"VADER_Sentiment\"] == comparison_df[\"ML_Model_Sentiment\"]).mean()\n",
    "print(f\"Agreement Between VADER and ML Model: {agreement:.2%}\")"
   ]
  },
  {
   "cell_type": "code",
   "execution_count": 53,
   "id": "55566c75",
   "metadata": {
    "execution": {
     "iopub.execute_input": "2025-01-08T21:43:30.582654Z",
     "iopub.status.busy": "2025-01-08T21:43:30.582268Z",
     "iopub.status.idle": "2025-01-08T21:43:30.707954Z",
     "shell.execute_reply": "2025-01-08T21:43:30.706104Z"
    },
    "papermill": {
     "duration": 0.622554,
     "end_time": "2025-01-08T21:43:30.710026",
     "exception": false,
     "start_time": "2025-01-08T21:43:30.087472",
     "status": "completed"
    },
    "tags": []
   },
   "outputs": [
    {
     "name": "stdout",
     "output_type": "stream",
     "text": [
      "       VADER_Sentiment ML_Model_Sentiment  VADER_Encoded  ML_Model_Encoded\n",
      "578166        positive            neutral              2                 1\n",
      "773552        negative           positive              0                 2\n",
      "236115        positive           negative              2                 0\n",
      "592982        positive            neutral              2                 1\n",
      "11299         positive           negative              2                 0\n",
      "\n",
      "Encoding Mapping: {'negative': 0, 'neutral': 1, 'positive': 2}\n"
     ]
    }
   ],
   "source": [
    "from sklearn.preprocessing import LabelEncoder\n",
    "\n",
    "# Initializing label encoder\n",
    "label_encoder = LabelEncoder()\n",
    "\n",
    "# Encode VADER Sentiment Labels\n",
    "comparison_df[\"VADER_Encoded\"] = label_encoder.fit_transform(comparison_df[\"VADER_Sentiment\"])\n",
    "\n",
    "# Encode ML Model Sentiment Labels (Using same encoder to maintain consistency)\n",
    "comparison_df[\"ML_Model_Encoded\"] = label_encoder.transform(comparison_df[\"ML_Model_Sentiment\"])\n",
    "\n",
    "# Display the first few rows\n",
    "print(comparison_df.head())\n",
    "print(\"\\nEncoding Mapping:\", dict(zip(label_encoder.classes_, label_encoder.transform(label_encoder.classes_))))"
   ]
  },
  {
   "cell_type": "code",
   "execution_count": 54,
   "id": "70970ba7",
   "metadata": {
    "execution": {
     "iopub.execute_input": "2025-01-08T21:43:31.815078Z",
     "iopub.status.busy": "2025-01-08T21:43:31.814529Z",
     "iopub.status.idle": "2025-01-08T21:43:32.093351Z",
     "shell.execute_reply": "2025-01-08T21:43:32.091762Z"
    },
    "papermill": {
     "duration": 0.87032,
     "end_time": "2025-01-08T21:43:32.095937",
     "exception": false,
     "start_time": "2025-01-08T21:43:31.225617",
     "status": "completed"
    },
    "tags": []
   },
   "outputs": [
    {
     "name": "stdout",
     "output_type": "stream",
     "text": [
      "Classification Report: VADER vs. ML Model\n",
      "              precision    recall  f1-score   support\n",
      "\n",
      "    negative       0.10      0.30      0.15     16126\n",
      "     neutral       0.10      0.37      0.15     15650\n",
      "    positive       0.80      0.33      0.47    130302\n",
      "\n",
      "    accuracy                           0.33    162078\n",
      "   macro avg       0.33      0.33      0.26    162078\n",
      "weighted avg       0.66      0.33      0.40    162078\n",
      "\n"
     ]
    }
   ],
   "source": [
    "print(\"Classification Report: VADER vs. ML Model\")\n",
    "print(classification_report(comparison_df[\"VADER_Encoded\"], comparison_df[\"ML_Model_Encoded\"], target_names=label_encoder.classes_))"
   ]
  },
  {
   "cell_type": "code",
   "execution_count": 55,
   "id": "c0761edf",
   "metadata": {
    "execution": {
     "iopub.execute_input": "2025-01-08T21:43:33.188146Z",
     "iopub.status.busy": "2025-01-08T21:43:33.187642Z",
     "iopub.status.idle": "2025-01-08T21:43:33.541653Z",
     "shell.execute_reply": "2025-01-08T21:43:33.540508Z"
    },
    "papermill": {
     "duration": 0.940932,
     "end_time": "2025-01-08T21:43:33.543404",
     "exception": false,
     "start_time": "2025-01-08T21:43:32.602472",
     "status": "completed"
    },
    "tags": []
   },
   "outputs": [
    {
     "data": {
      "image/png": "[encoded data removed]",
      "text/plain": [
       "<Figure size 600x500 with 2 Axes>"
      ]
     },
     "metadata": {},
     "output_type": "display_data"
    }
   ],
   "source": [
    "conf_matrix = confusion_matrix(comparison_df[\"VADER_Encoded\"], comparison_df[\"ML_Model_Encoded\"])\n",
    "\n",
    "# Plot confusion matrix\n",
    "plt.figure(figsize=(6,5))\n",
    "sns.heatmap(conf_matrix, annot=True, fmt=\"d\", cmap=\"Blues\", xticklabels=label_encoder.classes_, yticklabels=label_encoder.classes_)\n",
    "plt.xlabel(\"ML Model Predicted Sentiment\")\n",
    "plt.ylabel(\"VADER Sentiment\")\n",
    "plt.title(\"Confusion Matrix: VADER vs. ML Model\")\n",
    "plt.show()\n"
   ]
  },
  {
   "cell_type": "code",
   "execution_count": 56,
   "id": "113e3929",
   "metadata": {
    "execution": {
     "iopub.execute_input": "2025-01-08T21:43:34.660657Z",
     "iopub.status.busy": "2025-01-08T21:43:34.660252Z",
     "iopub.status.idle": "2025-01-08T21:43:55.403356Z",
     "shell.execute_reply": "2025-01-08T21:43:55.401593Z"
    },
    "papermill": {
     "duration": 21.344416,
     "end_time": "2025-01-08T21:43:55.405279",
     "exception": false,
     "start_time": "2025-01-08T21:43:34.060863",
     "status": "completed"
    },
    "tags": []
   },
   "outputs": [
    {
     "name": "stderr",
     "output_type": "stream",
     "text": [
      "/usr/local/lib/python3.10/dist-packages/seaborn/_oldcore.py:1119: FutureWarning: use_inf_as_na option is deprecated and will be removed in a future version. Convert inf values to NaN before operating instead.\n",
      "  with pd.option_context('mode.use_inf_as_na', True):\n",
      "/usr/local/lib/python3.10/dist-packages/seaborn/_oldcore.py:1119: FutureWarning: use_inf_as_na option is deprecated and will be removed in a future version. Convert inf values to NaN before operating instead.\n",
      "  with pd.option_context('mode.use_inf_as_na', True):\n"
     ]
    },
    {
     "data": {
      "image/png": "[encoded data removed]",
      "text/plain": [
       "<Figure size 658.236x500 with 6 Axes>"
      ]
     },
     "metadata": {},
     "output_type": "display_data"
    }
   ],
   "source": [
    "sns.pairplot(comparison_df, vars=[\"VADER_Encoded\", \"ML_Model_Encoded\"], hue=\"ML_Model_Sentiment\")\n",
    "plt.show()"
   ]
  },
  {
   "cell_type": "markdown",
   "id": "dada3082",
   "metadata": {
    "papermill": {
     "duration": 0.508766,
     "end_time": "2025-01-08T21:43:56.515630",
     "exception": false,
     "start_time": "2025-01-08T21:43:56.006864",
     "status": "completed"
    },
    "tags": []
   },
   "source": [
    "# **Things I learned from my first Meachine Learning model training and sentiment anlysis**\n",
    "\n",
    "**Observations from the Classification report**\n",
    "* While the Initial direction of using VADER bag if word approach was correct. It provided me with numerical data for positive, negative, neutral and and overall compound score for each review. \n",
    "* As seen above the ML model when compared to VADER based analysis performs significantly worse, with its very poor precision for negative and neutral sentiments (0.10), the model incorrectly classifies a large number of negative or neutral sentiments as positive. The poor performance is furhter indicated by low recall for all sentiments - less than 40%, a large number of true negaitves are classified as positives. \n",
    "* Furhtermore, the model favors predicting positive reviews as seen with the help of high precision sentiment (0.80), however the low recall of 0.33 indicates that it does not classify many of them correctly.\n",
    "* The Macro Avg F1-Score of 0.26, indicates the performance is unbalanced.\n",
    "\n",
    "**Observations from the confusion matrix**\n",
    "\n",
    "* The model misclassifes 38,986 negaitve and 48,583 neutral sentiments as positive, aligning with the high precision value and low recall value.\n",
    "* The models poor performance in diffrentiating negative and neutral sentiments indicates a dataset imbalance or feature reprentation issue, this is also in line with 1.9M reviews being positive and about 27k and 26K reviews being negaitve and neutral. This skew in data was attemped to address by undersampling the positive data for the training of the ML model. The issue could have be the method applied of TF-IDF, perhaps Word2Vec, BERT, or GloVe would have perfomed better.\n",
    "\n",
    "**Overall Conclusions**\n",
    "\n",
    "* The model is heavly biased towards predicting \"positive\" sentiments and fails to correctly classify \"negative\" and \"neutral\" reviews.\n",
    "* The biggest issue is the low recall of negative and neutral sentiments which is leading to misclassification.\n",
    "  "
   ]
  },
  {
   "cell_type": "markdown",
   "id": "d7609ad4",
   "metadata": {
    "papermill": {
     "duration": 0.505547,
     "end_time": "2025-01-08T21:43:57.518994",
     "exception": false,
     "start_time": "2025-01-08T21:43:57.013447",
     "status": "completed"
    },
    "tags": []
   },
   "source": [
    "# **How can the performance of the model be improved?**\n",
    "\n",
    "* Firstly the imbalnce in the dataset should be addressed, either by underfittingt the positive reviews or overfitting the negative and neutral reviews.\n",
    "* Instead of TF-IDF, methods like Word2Vec, BERT or GloVE would demostrate better understanding of the text, allowing to capture deeper meaning instead of just word frequency.\n",
    "* I could try models like RandomForest or Neural Networks instead of using SVM.\n",
    "\n",
    "**To improve VADER sentiment labeling, as VADER assigns a continous compound score, I could adjust the decision threshold to prevent over-classification of positive reviews.**\n",
    "\n",
    "# **In a nutshell**\n",
    "**ML underperformance reasons**\n",
    "* Imbalanced Dataset- large number of positive reviews\n",
    "* TF-IDF does not capture meaninig well leading to poor feature representaion.\n",
    "* Inefficient thresholding\n",
    "\n",
    "**How to improve it?**\n",
    "* Balance the dataset.\n",
    "* Using deep text embeddings like **BERT**, **Word2Vec**.\n",
    "* Trying better models like **Random Forest** or **Neural Network**\n",
    "* Optimise decision threshold for classification.\n",
    "\n",
    "\n",
    "# **Citation**\n",
    "@article{hou2024bridging,\n",
    "  title={Bridging Language and Items for Retrieval and Recommendation},\n",
    "  author={Hou, Yupeng and Li, Jiacheng and He, Zhankui and Yan, An and Chen, Xiusi and McAuley, Julian},\n",
    "  journal={arXiv preprint arXiv:2403.03952},\n",
    "  year={2024}\n",
    "}"
   ]
  },
  {
   "cell_type": "code",
   "execution_count": null,
   "id": "a4446b2c",
   "metadata": {
    "papermill": {
     "duration": 0.507917,
     "end_time": "2025-01-08T21:43:58.596005",
     "exception": false,
     "start_time": "2025-01-08T21:43:58.088088",
     "status": "completed"
    },
    "tags": []
   },
   "outputs": [],
   "source": []
  },
  {
   "cell_type": "code",
   "execution_count": null,
   "id": "018534a4",
   "metadata": {
    "papermill": {
     "duration": 0.518807,
     "end_time": "2025-01-08T21:43:59.697250",
     "exception": false,
     "start_time": "2025-01-08T21:43:59.178443",
     "status": "completed"
    },
    "tags": []
   },
   "outputs": [],
   "source": []
  }
 ],
 "metadata": {
  "kaggle": {
   "accelerator": "none",
   "dataSources": [
    {
     "datasetId": 6423553,
     "sourceId": 10370407,
     "sourceType": "datasetVersion"
    }
   ],
   "isGpuEnabled": false,
   "isInternetEnabled": true,
   "language": "python",
   "sourceType": "notebook"
  },
  "kernelspec": {
   "display_name": "Python 3",
   "language": "python",
   "name": "python3"
  },
  "language_info": {
   "codemirror_mode": {
    "name": "ipython",
    "version": 3
   },
   "file_extension": ".py",
   "mimetype": "text/x-python",
   "name": "python",
   "nbconvert_exporter": "python",
   "pygments_lexer": "ipython3",
   "version": "3.10.12"
  },
  "papermill": {
   "default_parameters": {},
   "duration": 1952.666641,
   "end_time": "2025-01-08T21:44:03.481832",
   "environment_variables": {},
   "exception": null,
   "input_path": "__notebook__.ipynb",
   "output_path": "__notebook__.ipynb",
   "parameters": {},
   "start_time": "2025-01-08T21:11:30.815191",
   "version": "2.6.0"
  }
 },
 "nbformat": 4,
 "nbformat_minor": 5
}
