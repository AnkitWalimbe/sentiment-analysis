{
 "cells": [
  {
   "cell_type": "markdown",
   "id": "49b0b734",
   "metadata": {
    "papermill": {
     "duration": 0.016602,
     "end_time": "2025-01-08T21:11:33.418401",
     "exception": false,
     "start_time": "2025-01-08T21:11:33.401799",
     "status": "completed"
    },
    "tags": []
   },
   "source": [
    "# **Sentiment Analysis**\n",
    "\n",
    "This project is to conduct sentiment analysis on Amazon Fashion reviews, to classify the reviews into 'positive', 'negative', 'neutral' category. \n",
    "\n",
    "In the first step Natural language processing is used, more specifically the VADER approach. Here the data is analysed and given numeric socres of positive, negative, neutral and a combimed weight of the three, called compound. \n",
    "Furthermore, the compound scores are used to label the individual reviews as, 'positive', 'negative', and 'neutral' \n",
    "\n",
    "In the second step a Machine learning model is developed based on the 'vader-lables'. This is achieved by utilising NLP process of TF-IDF (Text Frequency - Inverse Document Frequency), which converts the text from the reviews into numerical values, which are furhter used to train a SVM model. \n",
    "\n",
    "In the third step VADER scores and the ML score will be comepared to see the performance of the created model.\n",
    "\n",
    "Lastly we will draw conclusions about the model performance and see how it can be improved in the future.\n"
   ]
  },
  {
   "cell_type": "code",
   "execution_count": 48,
   "id": "95c8066e",
   "metadata": {
    "_cell_guid": "b1076dfc-b9ad-4769-8c92-a6c4dae69d19",
    "_uuid": "8f2839f25d086af736a60e9eeb907d3b93b6e0e5",
    "execution": {
     "iopub.execute_input": "2025-01-08T21:11:33.449304Z",
     "iopub.status.busy": "2025-01-08T21:11:33.448923Z",
     "iopub.status.idle": "2025-01-08T21:11:37.032401Z",
     "shell.execute_reply": "2025-01-08T21:11:37.030950Z"
    },
    "papermill": {
     "duration": 3.60283,
     "end_time": "2025-01-08T21:11:37.034866",
     "exception": false,
     "start_time": "2025-01-08T21:11:33.432036",
     "status": "completed"
    },
    "tags": []
   },
   "outputs": [],
   "source": [
    "import numpy as np \n",
    "import pandas as pd \n",
    "import matplotlib.pyplot as plt\n",
    "import seaborn as sns\n",
    "from datetime import datetime\n",
    "import nltk\n"
   ]
  },
  {
   "cell_type": "code",
   "execution_count": 49,
   "id": "352e6e0a",
   "metadata": {},
   "outputs": [
    {
     "name": "stderr",
     "output_type": "stream",
     "text": [
      "[nltk_data] Downloading package vader_lexicon to\n",
      "[nltk_data]     /Users/ankitwalimbe/nltk_data...\n",
      "[nltk_data]   Package vader_lexicon is already up-to-date!\n"
     ]
    },
    {
     "data": {
      "text/plain": [
       "True"
      ]
     },
     "execution_count": 49,
     "metadata": {},
     "output_type": "execute_result"
    }
   ],
   "source": [
    "from pathlib import Path\n",
    "\n",
    "# Folders relative to the notebook (which lives in /notebooks)\n",
    "OUTPUT_DIR = Path(\"../outputs/figures\"); OUTPUT_DIR.mkdir(parents=True, exist_ok=True)\n",
    "REPORTS_DIR = Path(\"../reports\"); REPORTS_DIR.mkdir(parents=True, exist_ok=True)\n",
    "\n",
    "# One-time resource (safe to run every time)\n",
    "import nltk; nltk.download(\"vader_lexicon\")\n"
   ]
  },
  {
   "cell_type": "code",
   "execution_count": 50,
   "id": "da67b13f",
   "metadata": {
    "execution": {
     "iopub.execute_input": "2025-01-08T21:11:37.090453Z",
     "iopub.status.busy": "2025-01-08T21:11:37.089932Z",
     "iopub.status.idle": "2025-01-08T21:12:29.983814Z",
     "shell.execute_reply": "2025-01-08T21:12:29.982514Z"
    },
    "papermill": {
     "duration": 52.909643,
     "end_time": "2025-01-08T21:12:29.986212",
     "exception": false,
     "start_time": "2025-01-08T21:11:37.076569",
     "status": "completed"
    },
    "tags": []
   },
   "outputs": [],
   "source": [
    "\n",
    "DATA_PATH = Path(\"../data/raw/Amazon_Fashion.jsonl\")\n",
    "data = pd.read_json(DATA_PATH, lines=True)\n"
   ]
  },
  {
   "cell_type": "code",
   "execution_count": 51,
   "id": "c3150afe",
   "metadata": {
    "execution": {
     "iopub.execute_input": "2025-01-08T21:12:30.015423Z",
     "iopub.status.busy": "2025-01-08T21:12:30.014987Z",
     "iopub.status.idle": "2025-01-08T21:12:30.042058Z",
     "shell.execute_reply": "2025-01-08T21:12:30.040782Z"
    },
    "papermill": {
     "duration": 0.045284,
     "end_time": "2025-01-08T21:12:30.044348",
     "exception": false,
     "start_time": "2025-01-08T21:12:29.999064",
     "status": "completed"
    },
    "tags": []
   },
   "outputs": [
    {
     "data": {
      "text/html": [
       "<div>\n",
       "<style scoped>\n",
       "    .dataframe tbody tr th:only-of-type {\n",
       "        vertical-align: middle;\n",
       "    }\n",
       "\n",
       "    .dataframe tbody tr th {\n",
       "        vertical-align: top;\n",
       "    }\n",
       "\n",
       "    .dataframe thead th {\n",
       "        text-align: right;\n",
       "    }\n",
       "</style>\n",
       "<table border=\"1\" class=\"dataframe\">\n",
       "  <thead>\n",
       "    <tr style=\"text-align: right;\">\n",
       "      <th></th>\n",
       "      <th>rating</th>\n",
       "      <th>title</th>\n",
       "      <th>text</th>\n",
       "      <th>images</th>\n",
       "      <th>asin</th>\n",
       "      <th>parent_asin</th>\n",
       "      <th>user_id</th>\n",
       "      <th>timestamp</th>\n",
       "      <th>helpful_vote</th>\n",
       "      <th>verified_purchase</th>\n",
       "    </tr>\n",
       "  </thead>\n",
       "  <tbody>\n",
       "    <tr>\n",
       "      <th>0</th>\n",
       "      <td>5</td>\n",
       "      <td>Pretty locket</td>\n",
       "      <td>I think this locket is really pretty. The insi...</td>\n",
       "      <td>[]</td>\n",
       "      <td>B00LOPVX74</td>\n",
       "      <td>B00LOPVX74</td>\n",
       "      <td>AGBFYI2DDIKXC5Y4FARTYDTQBMFQ</td>\n",
       "      <td>2020-01-09 00:06:34.489</td>\n",
       "      <td>3</td>\n",
       "      <td>True</td>\n",
       "    </tr>\n",
       "    <tr>\n",
       "      <th>1</th>\n",
       "      <td>5</td>\n",
       "      <td>A</td>\n",
       "      <td>Great</td>\n",
       "      <td>[]</td>\n",
       "      <td>B07B4JXK8D</td>\n",
       "      <td>B07B4JXK8D</td>\n",
       "      <td>AFQLNQNQYFWQZPJQZS6V3NZU4QBQ</td>\n",
       "      <td>2020-12-20 01:04:06.701</td>\n",
       "      <td>0</td>\n",
       "      <td>True</td>\n",
       "    </tr>\n",
       "    <tr>\n",
       "      <th>2</th>\n",
       "      <td>2</td>\n",
       "      <td>Two Stars</td>\n",
       "      <td>One of the stones fell out within the first 2 ...</td>\n",
       "      <td>[]</td>\n",
       "      <td>B007ZSEQ4Q</td>\n",
       "      <td>B007ZSEQ4Q</td>\n",
       "      <td>AHITBJSS7KYUBVZPX7M2WJCOIVKQ</td>\n",
       "      <td>2015-05-23 01:33:48.000</td>\n",
       "      <td>3</td>\n",
       "      <td>True</td>\n",
       "    </tr>\n",
       "    <tr>\n",
       "      <th>3</th>\n",
       "      <td>1</td>\n",
       "      <td>Won’t buy again</td>\n",
       "      <td>Crappy socks. Money wasted. Bought to wear wit...</td>\n",
       "      <td>[]</td>\n",
       "      <td>B07F2BTFS9</td>\n",
       "      <td>B07F2BTFS9</td>\n",
       "      <td>AFVNEEPDEIH5SPUN5BWC6NKL3WNQ</td>\n",
       "      <td>2018-12-31 20:57:27.095</td>\n",
       "      <td>2</td>\n",
       "      <td>True</td>\n",
       "    </tr>\n",
       "    <tr>\n",
       "      <th>4</th>\n",
       "      <td>5</td>\n",
       "      <td>I LOVE these glasses</td>\n",
       "      <td>I LOVE these glasses!  They fit perfectly over...</td>\n",
       "      <td>[]</td>\n",
       "      <td>B00PKRFU4O</td>\n",
       "      <td>B00XESJTDE</td>\n",
       "      <td>AHSPLDNW5OOUK2PLH7GXLACFBZNQ</td>\n",
       "      <td>2015-08-13 14:29:26.000</td>\n",
       "      <td>0</td>\n",
       "      <td>True</td>\n",
       "    </tr>\n",
       "  </tbody>\n",
       "</table>\n",
       "</div>"
      ],
      "text/plain": [
       "   rating                 title  \\\n",
       "0       5         Pretty locket   \n",
       "1       5                     A   \n",
       "2       2             Two Stars   \n",
       "3       1       Won’t buy again   \n",
       "4       5  I LOVE these glasses   \n",
       "\n",
       "                                                text images        asin  \\\n",
       "0  I think this locket is really pretty. The insi...     []  B00LOPVX74   \n",
       "1                                              Great     []  B07B4JXK8D   \n",
       "2  One of the stones fell out within the first 2 ...     []  B007ZSEQ4Q   \n",
       "3  Crappy socks. Money wasted. Bought to wear wit...     []  B07F2BTFS9   \n",
       "4  I LOVE these glasses!  They fit perfectly over...     []  B00PKRFU4O   \n",
       "\n",
       "  parent_asin                       user_id               timestamp  \\\n",
       "0  B00LOPVX74  AGBFYI2DDIKXC5Y4FARTYDTQBMFQ 2020-01-09 00:06:34.489   \n",
       "1  B07B4JXK8D  AFQLNQNQYFWQZPJQZS6V3NZU4QBQ 2020-12-20 01:04:06.701   \n",
       "2  B007ZSEQ4Q  AHITBJSS7KYUBVZPX7M2WJCOIVKQ 2015-05-23 01:33:48.000   \n",
       "3  B07F2BTFS9  AFVNEEPDEIH5SPUN5BWC6NKL3WNQ 2018-12-31 20:57:27.095   \n",
       "4  B00XESJTDE  AHSPLDNW5OOUK2PLH7GXLACFBZNQ 2015-08-13 14:29:26.000   \n",
       "\n",
       "   helpful_vote  verified_purchase  \n",
       "0             3               True  \n",
       "1             0               True  \n",
       "2             3               True  \n",
       "3             2               True  \n",
       "4             0               True  "
      ]
     },
     "execution_count": 51,
     "metadata": {},
     "output_type": "execute_result"
    }
   ],
   "source": [
    "# Data Exploration \n",
    "\n",
    "data.head()"
   ]
  },
  {
   "cell_type": "code",
   "execution_count": 52,
   "id": "e6fcd80e",
   "metadata": {
    "execution": {
     "iopub.execute_input": "2025-01-08T21:12:30.072787Z",
     "iopub.status.busy": "2025-01-08T21:12:30.072361Z",
     "iopub.status.idle": "2025-01-08T21:12:30.100398Z",
     "shell.execute_reply": "2025-01-08T21:12:30.099086Z"
    },
    "papermill": {
     "duration": 0.044532,
     "end_time": "2025-01-08T21:12:30.102355",
     "exception": false,
     "start_time": "2025-01-08T21:12:30.057823",
     "status": "completed"
    },
    "tags": []
   },
   "outputs": [
    {
     "name": "stdout",
     "output_type": "stream",
     "text": [
      "<class 'pandas.core.frame.DataFrame'>\n",
      "RangeIndex: 2500939 entries, 0 to 2500938\n",
      "Data columns (total 10 columns):\n",
      " #   Column             Dtype         \n",
      "---  ------             -----         \n",
      " 0   rating             int64         \n",
      " 1   title              object        \n",
      " 2   text               object        \n",
      " 3   images             object        \n",
      " 4   asin               object        \n",
      " 5   parent_asin        object        \n",
      " 6   user_id            object        \n",
      " 7   timestamp          datetime64[ns]\n",
      " 8   helpful_vote       int64         \n",
      " 9   verified_purchase  bool          \n",
      "dtypes: bool(1), datetime64[ns](1), int64(2), object(6)\n",
      "memory usage: 174.1+ MB\n"
     ]
    }
   ],
   "source": [
    "data.info()"
   ]
  },
  {
   "cell_type": "code",
   "execution_count": 53,
   "id": "e91bd01d",
   "metadata": {
    "execution": {
     "iopub.execute_input": "2025-01-08T21:12:30.133825Z",
     "iopub.status.busy": "2025-01-08T21:12:30.133403Z",
     "iopub.status.idle": "2025-01-08T21:12:30.140317Z",
     "shell.execute_reply": "2025-01-08T21:12:30.139207Z"
    },
    "papermill": {
     "duration": 0.025208,
     "end_time": "2025-01-08T21:12:30.142174",
     "exception": false,
     "start_time": "2025-01-08T21:12:30.116966",
     "status": "completed"
    },
    "tags": []
   },
   "outputs": [
    {
     "data": {
      "text/plain": [
       "Index(['rating', 'title', 'text', 'images', 'asin', 'parent_asin', 'user_id',\n",
       "       'timestamp', 'helpful_vote', 'verified_purchase'],\n",
       "      dtype='object')"
      ]
     },
     "execution_count": 53,
     "metadata": {},
     "output_type": "execute_result"
    }
   ],
   "source": [
    "data.columns"
   ]
  },
  {
   "cell_type": "code",
   "execution_count": 54,
   "id": "c970bfe8",
   "metadata": {
    "execution": {
     "iopub.execute_input": "2025-01-08T21:12:30.172004Z",
     "iopub.status.busy": "2025-01-08T21:12:30.171589Z",
     "iopub.status.idle": "2025-01-08T21:12:31.962251Z",
     "shell.execute_reply": "2025-01-08T21:12:31.960866Z"
    },
    "papermill": {
     "duration": 1.807292,
     "end_time": "2025-01-08T21:12:31.964236",
     "exception": false,
     "start_time": "2025-01-08T21:12:30.156944",
     "status": "completed"
    },
    "tags": []
   },
   "outputs": [
    {
     "data": {
      "text/html": [
       "<div>\n",
       "<style scoped>\n",
       "    .dataframe tbody tr th:only-of-type {\n",
       "        vertical-align: middle;\n",
       "    }\n",
       "\n",
       "    .dataframe tbody tr th {\n",
       "        vertical-align: top;\n",
       "    }\n",
       "\n",
       "    .dataframe thead th {\n",
       "        text-align: right;\n",
       "    }\n",
       "</style>\n",
       "<table border=\"1\" class=\"dataframe\">\n",
       "  <thead>\n",
       "    <tr style=\"text-align: right;\">\n",
       "      <th></th>\n",
       "      <th>rating</th>\n",
       "      <th>title</th>\n",
       "      <th>text</th>\n",
       "      <th>asin</th>\n",
       "      <th>parent_asin</th>\n",
       "      <th>user_id</th>\n",
       "      <th>date</th>\n",
       "      <th>time</th>\n",
       "    </tr>\n",
       "  </thead>\n",
       "  <tbody>\n",
       "    <tr>\n",
       "      <th>0</th>\n",
       "      <td>5</td>\n",
       "      <td>Pretty locket</td>\n",
       "      <td>I think this locket is really pretty. The insi...</td>\n",
       "      <td>B00LOPVX74</td>\n",
       "      <td>B00LOPVX74</td>\n",
       "      <td>AGBFYI2DDIKXC5Y4FARTYDTQBMFQ</td>\n",
       "      <td>2020-01-09</td>\n",
       "      <td>00:06:34.489000</td>\n",
       "    </tr>\n",
       "    <tr>\n",
       "      <th>1</th>\n",
       "      <td>5</td>\n",
       "      <td>A</td>\n",
       "      <td>Great</td>\n",
       "      <td>B07B4JXK8D</td>\n",
       "      <td>B07B4JXK8D</td>\n",
       "      <td>AFQLNQNQYFWQZPJQZS6V3NZU4QBQ</td>\n",
       "      <td>2020-12-20</td>\n",
       "      <td>01:04:06.701000</td>\n",
       "    </tr>\n",
       "    <tr>\n",
       "      <th>2</th>\n",
       "      <td>2</td>\n",
       "      <td>Two Stars</td>\n",
       "      <td>One of the stones fell out within the first 2 ...</td>\n",
       "      <td>B007ZSEQ4Q</td>\n",
       "      <td>B007ZSEQ4Q</td>\n",
       "      <td>AHITBJSS7KYUBVZPX7M2WJCOIVKQ</td>\n",
       "      <td>2015-05-23</td>\n",
       "      <td>01:33:48</td>\n",
       "    </tr>\n",
       "    <tr>\n",
       "      <th>3</th>\n",
       "      <td>1</td>\n",
       "      <td>Won’t buy again</td>\n",
       "      <td>Crappy socks. Money wasted. Bought to wear wit...</td>\n",
       "      <td>B07F2BTFS9</td>\n",
       "      <td>B07F2BTFS9</td>\n",
       "      <td>AFVNEEPDEIH5SPUN5BWC6NKL3WNQ</td>\n",
       "      <td>2018-12-31</td>\n",
       "      <td>20:57:27.095000</td>\n",
       "    </tr>\n",
       "    <tr>\n",
       "      <th>4</th>\n",
       "      <td>5</td>\n",
       "      <td>I LOVE these glasses</td>\n",
       "      <td>I LOVE these glasses!  They fit perfectly over...</td>\n",
       "      <td>B00PKRFU4O</td>\n",
       "      <td>B00XESJTDE</td>\n",
       "      <td>AHSPLDNW5OOUK2PLH7GXLACFBZNQ</td>\n",
       "      <td>2015-08-13</td>\n",
       "      <td>14:29:26</td>\n",
       "    </tr>\n",
       "  </tbody>\n",
       "</table>\n",
       "</div>"
      ],
      "text/plain": [
       "   rating                 title  \\\n",
       "0       5         Pretty locket   \n",
       "1       5                     A   \n",
       "2       2             Two Stars   \n",
       "3       1       Won’t buy again   \n",
       "4       5  I LOVE these glasses   \n",
       "\n",
       "                                                text        asin parent_asin  \\\n",
       "0  I think this locket is really pretty. The insi...  B00LOPVX74  B00LOPVX74   \n",
       "1                                              Great  B07B4JXK8D  B07B4JXK8D   \n",
       "2  One of the stones fell out within the first 2 ...  B007ZSEQ4Q  B007ZSEQ4Q   \n",
       "3  Crappy socks. Money wasted. Bought to wear wit...  B07F2BTFS9  B07F2BTFS9   \n",
       "4  I LOVE these glasses!  They fit perfectly over...  B00PKRFU4O  B00XESJTDE   \n",
       "\n",
       "                        user_id        date             time  \n",
       "0  AGBFYI2DDIKXC5Y4FARTYDTQBMFQ  2020-01-09  00:06:34.489000  \n",
       "1  AFQLNQNQYFWQZPJQZS6V3NZU4QBQ  2020-12-20  01:04:06.701000  \n",
       "2  AHITBJSS7KYUBVZPX7M2WJCOIVKQ  2015-05-23         01:33:48  \n",
       "3  AFVNEEPDEIH5SPUN5BWC6NKL3WNQ  2018-12-31  20:57:27.095000  \n",
       "4  AHSPLDNW5OOUK2PLH7GXLACFBZNQ  2015-08-13         14:29:26  "
      ]
     },
     "execution_count": 54,
     "metadata": {},
     "output_type": "execute_result"
    }
   ],
   "source": [
    "# Converting datetime \n",
    "\n",
    "data['timestamp'] = pd.to_datetime(data['timestamp'])\n",
    "\n",
    "data['date'] = data['timestamp'].dt.date\n",
    "data['time'] = data['timestamp'].dt.time\n",
    "\n",
    "# Filtering columns that are necessary for the sentiment analysis. \n",
    "selected_columns = ['rating', 'title', 'text', 'asin', 'parent_asin', 'user_id', 'date','time']\n",
    "filt_data = data[selected_columns]\n",
    "\n",
    "filt_data.head()"
   ]
  },
  {
   "cell_type": "code",
   "execution_count": 55,
   "id": "544d77f1",
   "metadata": {
    "execution": {
     "iopub.execute_input": "2025-01-08T21:12:32.437588Z",
     "iopub.status.busy": "2025-01-08T21:12:32.437255Z",
     "iopub.status.idle": "2025-01-08T21:12:32.460087Z",
     "shell.execute_reply": "2025-01-08T21:12:32.458797Z"
    },
    "papermill": {
     "duration": 0.040212,
     "end_time": "2025-01-08T21:12:32.462327",
     "exception": false,
     "start_time": "2025-01-08T21:12:32.422115",
     "status": "completed"
    },
    "tags": []
   },
   "outputs": [
    {
     "name": "stdout",
     "output_type": "stream",
     "text": [
      "rating\n",
      "5    1426268\n",
      "4     352327\n",
      "1     303411\n",
      "3     245471\n",
      "2     173462\n",
      "Name: count, dtype: int64\n"
     ]
    }
   ],
   "source": [
    "# Exploring the data\n",
    "\n",
    "print(filt_data['rating'].value_counts())"
   ]
  },
  {
   "cell_type": "code",
   "execution_count": 56,
   "id": "d024062e",
   "metadata": {
    "execution": {
     "iopub.execute_input": "2025-01-08T21:12:32.492017Z",
     "iopub.status.busy": "2025-01-08T21:12:32.491657Z",
     "iopub.status.idle": "2025-01-08T21:12:32.829823Z",
     "shell.execute_reply": "2025-01-08T21:12:32.828502Z"
    },
    "papermill": {
     "duration": 0.355686,
     "end_time": "2025-01-08T21:12:32.831584",
     "exception": false,
     "start_time": "2025-01-08T21:12:32.475898",
     "status": "completed"
    },
    "tags": []
   },
   "outputs": [
    {
     "data": {
      "image/png": "[encoded data removed]",
      "text/plain": [
       "<Figure size 1000x500 with 1 Axes>"
      ]
     },
     "metadata": {},
     "output_type": "display_data"
    }
   ],
   "source": [
    "# Visualising this data\n",
    "\n",
    "plt.figure(figsize = (10,5))\n",
    "sns.barplot(x = filt_data['rating'].value_counts().index, y = filt_data['rating'].value_counts().values)\n",
    "plt.xlabel(\"Rating\")\n",
    "plt.ylabel(\"Count\")\n",
    "plt.title(\"Review count by Stars\")\n",
    "plt.show()"
   ]
  },
  {
   "cell_type": "code",
   "execution_count": 57,
   "id": "1fc9a0cd",
   "metadata": {
    "execution": {
     "iopub.execute_input": "2025-01-08T21:12:32.888986Z",
     "iopub.status.busy": "2025-01-08T21:12:32.888514Z",
     "iopub.status.idle": "2025-01-08T21:12:34.579819Z",
     "shell.execute_reply": "2025-01-08T21:12:34.578394Z"
    },
    "papermill": {
     "duration": 1.708015,
     "end_time": "2025-01-08T21:12:34.581646",
     "exception": false,
     "start_time": "2025-01-08T21:12:32.873631",
     "status": "completed"
    },
    "tags": []
   },
   "outputs": [
    {
     "name": "stdout",
     "output_type": "stream",
     "text": [
      "rating         0\n",
      "title          0\n",
      "text           0\n",
      "asin           0\n",
      "parent_asin    0\n",
      "user_id        0\n",
      "date           0\n",
      "time           0\n",
      "dtype: int64\n"
     ]
    }
   ],
   "source": [
    "# Checking for null values\n",
    "\n",
    "print(filt_data.isnull().sum())"
   ]
  },
  {
   "cell_type": "markdown",
   "id": "5e52513d",
   "metadata": {
    "papermill": {
     "duration": 0.013711,
     "end_time": "2025-01-08T21:12:32.859458",
     "exception": false,
     "start_time": "2025-01-08T21:12:32.845747",
     "status": "completed"
    },
    "tags": []
   },
   "source": [
    "**VADER Analysis** \n",
    "\n",
    "VADER stands for Valence Aware Dictionary and sEntiment Reasoner, it uses Bag of word approach, where the text to be analysed is broken down to its original components."
   ]
  },
  {
   "cell_type": "code",
   "execution_count": 58,
   "id": "3770fe0e",
   "metadata": {
    "execution": {
     "iopub.execute_input": "2025-01-08T21:12:34.612401Z",
     "iopub.status.busy": "2025-01-08T21:12:34.612017Z",
     "iopub.status.idle": "2025-01-08T21:12:34.645880Z",
     "shell.execute_reply": "2025-01-08T21:12:34.644687Z"
    },
    "papermill": {
     "duration": 0.05208,
     "end_time": "2025-01-08T21:12:34.647845",
     "exception": false,
     "start_time": "2025-01-08T21:12:34.595765",
     "status": "completed"
    },
    "tags": []
   },
   "outputs": [],
   "source": [
    "from tqdm import tqdm\n",
    "from nltk.sentiment import SentimentIntensityAnalyzer\n",
    "\n",
    "sscore = SentimentIntensityAnalyzer()"
   ]
  },
  {
   "cell_type": "code",
   "execution_count": 59,
   "id": "31ab8672",
   "metadata": {
    "execution": {
     "iopub.execute_input": "2025-01-08T21:12:35.152817Z",
     "iopub.status.busy": "2025-01-08T21:12:35.152387Z",
     "iopub.status.idle": "2025-01-08T21:27:21.769108Z",
     "shell.execute_reply": "2025-01-08T21:27:21.766695Z"
    },
    "papermill": {
     "duration": 886.635021,
     "end_time": "2025-01-08T21:27:21.772230",
     "exception": false,
     "start_time": "2025-01-08T21:12:35.137209",
     "status": "completed"
    },
    "tags": []
   },
   "outputs": [
    {
     "name": "stderr",
     "output_type": "stream",
     "text": [
      "Processing Sentiment: 100%|██████████| 2500939/2500939 [11:20<00:00, 3675.62it/s]\n"
     ]
    }
   ],
   "source": [
    "# Applying sentiment analysis to the entire dataset\n",
    "\n",
    "sentiment_scores_vader = [sscore.polarity_scores(text) for text in tqdm(filt_data['text'], desc = \"Processing Sentiment\")]\n",
    "vader_df = pd.DataFrame(sentiment_scores_vader)\n",
    "filt_data = pd.concat([filt_data,vader_df], axis = 1)\n"
   ]
  },
  {
   "cell_type": "code",
   "execution_count": 60,
   "id": "2e1297a6",
   "metadata": {
    "execution": {
     "iopub.execute_input": "2025-01-08T21:27:29.646091Z",
     "iopub.status.busy": "2025-01-08T21:27:29.645699Z",
     "iopub.status.idle": "2025-01-08T21:27:29.838094Z",
     "shell.execute_reply": "2025-01-08T21:27:29.836709Z"
    },
    "papermill": {
     "duration": 0.700234,
     "end_time": "2025-01-08T21:27:29.840262",
     "exception": false,
     "start_time": "2025-01-08T21:27:29.140028",
     "status": "completed"
    },
    "tags": []
   },
   "outputs": [
    {
     "name": "stdout",
     "output_type": "stream",
     "text": [
      "                                                text  rating    neg    neu  \\\n",
      "0  I think this locket is really pretty. The insi...       5  0.039  0.750   \n",
      "1                                              Great       5  0.000  0.000   \n",
      "2  One of the stones fell out within the first 2 ...       2  0.000  1.000   \n",
      "3  Crappy socks. Money wasted. Bought to wear wit...       1  0.325  0.574   \n",
      "4  I LOVE these glasses!  They fit perfectly over...       5  0.000  0.684   \n",
      "\n",
      "     pos  compound  \n",
      "0  0.211    0.8532  \n",
      "1  1.000    0.6249  \n",
      "2  0.000    0.0000  \n",
      "3  0.100   -0.6908  \n",
      "4  0.316    0.9675  \n"
     ]
    }
   ],
   "source": [
    "print(filt_data [['text','rating','neg','neu','pos','compound']].head())"
   ]
  },
  {
   "cell_type": "code",
   "execution_count": 61,
   "id": "84cab93e",
   "metadata": {
    "execution": {
     "iopub.execute_input": "2025-01-08T21:27:30.910835Z",
     "iopub.status.busy": "2025-01-08T21:27:30.910303Z",
     "iopub.status.idle": "2025-01-08T21:27:31.355045Z",
     "shell.execute_reply": "2025-01-08T21:27:31.353653Z"
    },
    "papermill": {
     "duration": 1.031088,
     "end_time": "2025-01-08T21:27:31.357440",
     "exception": false,
     "start_time": "2025-01-08T21:27:30.326352",
     "status": "completed"
    },
    "tags": []
   },
   "outputs": [],
   "source": [
    "# Before visuliasing the sentiment distribution,\n",
    "# we add a new column \"sentiment_label\" based on the compund scores from VADER analysis\n",
    "\n",
    "def classify_sentiment (scores):\n",
    "    conditions = [ scores >= 0.05, scores <= -0.05 #Positive and Negative respectively\n",
    "    ]\n",
    "    choices = [\"positive\",\"negative\"]\n",
    "    return np.select(conditions, choices, default = \"neutral\")\n",
    "\n",
    "# Applying the classification function to the dataset\n",
    "filt_data['vader_sentiment'] = classify_sentiment(filt_data['compound'].values)\n"
   ]
  },
  {
   "cell_type": "code",
   "execution_count": 62,
   "id": "4d3ef5e8",
   "metadata": {
    "execution": {
     "iopub.execute_input": "2025-01-08T21:27:32.410755Z",
     "iopub.status.busy": "2025-01-08T21:27:32.410324Z",
     "iopub.status.idle": "2025-01-08T21:27:32.428255Z",
     "shell.execute_reply": "2025-01-08T21:27:32.426259Z"
    },
    "papermill": {
     "duration": 0.53951,
     "end_time": "2025-01-08T21:27:32.430967",
     "exception": false,
     "start_time": "2025-01-08T21:27:31.891457",
     "status": "completed"
    },
    "tags": []
   },
   "outputs": [
    {
     "data": {
      "text/html": [
       "<div>\n",
       "<style scoped>\n",
       "    .dataframe tbody tr th:only-of-type {\n",
       "        vertical-align: middle;\n",
       "    }\n",
       "\n",
       "    .dataframe tbody tr th {\n",
       "        vertical-align: top;\n",
       "    }\n",
       "\n",
       "    .dataframe thead th {\n",
       "        text-align: right;\n",
       "    }\n",
       "</style>\n",
       "<table border=\"1\" class=\"dataframe\">\n",
       "  <thead>\n",
       "    <tr style=\"text-align: right;\">\n",
       "      <th></th>\n",
       "      <th>rating</th>\n",
       "      <th>title</th>\n",
       "      <th>text</th>\n",
       "      <th>asin</th>\n",
       "      <th>parent_asin</th>\n",
       "      <th>user_id</th>\n",
       "      <th>date</th>\n",
       "      <th>time</th>\n",
       "      <th>neg</th>\n",
       "      <th>neu</th>\n",
       "      <th>pos</th>\n",
       "      <th>compound</th>\n",
       "      <th>vader_sentiment</th>\n",
       "    </tr>\n",
       "  </thead>\n",
       "  <tbody>\n",
       "    <tr>\n",
       "      <th>0</th>\n",
       "      <td>5</td>\n",
       "      <td>Pretty locket</td>\n",
       "      <td>I think this locket is really pretty. The insi...</td>\n",
       "      <td>B00LOPVX74</td>\n",
       "      <td>B00LOPVX74</td>\n",
       "      <td>AGBFYI2DDIKXC5Y4FARTYDTQBMFQ</td>\n",
       "      <td>2020-01-09</td>\n",
       "      <td>00:06:34.489000</td>\n",
       "      <td>0.039</td>\n",
       "      <td>0.750</td>\n",
       "      <td>0.211</td>\n",
       "      <td>0.8532</td>\n",
       "      <td>positive</td>\n",
       "    </tr>\n",
       "    <tr>\n",
       "      <th>1</th>\n",
       "      <td>5</td>\n",
       "      <td>A</td>\n",
       "      <td>Great</td>\n",
       "      <td>B07B4JXK8D</td>\n",
       "      <td>B07B4JXK8D</td>\n",
       "      <td>AFQLNQNQYFWQZPJQZS6V3NZU4QBQ</td>\n",
       "      <td>2020-12-20</td>\n",
       "      <td>01:04:06.701000</td>\n",
       "      <td>0.000</td>\n",
       "      <td>0.000</td>\n",
       "      <td>1.000</td>\n",
       "      <td>0.6249</td>\n",
       "      <td>positive</td>\n",
       "    </tr>\n",
       "    <tr>\n",
       "      <th>2</th>\n",
       "      <td>2</td>\n",
       "      <td>Two Stars</td>\n",
       "      <td>One of the stones fell out within the first 2 ...</td>\n",
       "      <td>B007ZSEQ4Q</td>\n",
       "      <td>B007ZSEQ4Q</td>\n",
       "      <td>AHITBJSS7KYUBVZPX7M2WJCOIVKQ</td>\n",
       "      <td>2015-05-23</td>\n",
       "      <td>01:33:48</td>\n",
       "      <td>0.000</td>\n",
       "      <td>1.000</td>\n",
       "      <td>0.000</td>\n",
       "      <td>0.0000</td>\n",
       "      <td>neutral</td>\n",
       "    </tr>\n",
       "    <tr>\n",
       "      <th>3</th>\n",
       "      <td>1</td>\n",
       "      <td>Won’t buy again</td>\n",
       "      <td>Crappy socks. Money wasted. Bought to wear wit...</td>\n",
       "      <td>B07F2BTFS9</td>\n",
       "      <td>B07F2BTFS9</td>\n",
       "      <td>AFVNEEPDEIH5SPUN5BWC6NKL3WNQ</td>\n",
       "      <td>2018-12-31</td>\n",
       "      <td>20:57:27.095000</td>\n",
       "      <td>0.325</td>\n",
       "      <td>0.574</td>\n",
       "      <td>0.100</td>\n",
       "      <td>-0.6908</td>\n",
       "      <td>negative</td>\n",
       "    </tr>\n",
       "    <tr>\n",
       "      <th>4</th>\n",
       "      <td>5</td>\n",
       "      <td>I LOVE these glasses</td>\n",
       "      <td>I LOVE these glasses!  They fit perfectly over...</td>\n",
       "      <td>B00PKRFU4O</td>\n",
       "      <td>B00XESJTDE</td>\n",
       "      <td>AHSPLDNW5OOUK2PLH7GXLACFBZNQ</td>\n",
       "      <td>2015-08-13</td>\n",
       "      <td>14:29:26</td>\n",
       "      <td>0.000</td>\n",
       "      <td>0.684</td>\n",
       "      <td>0.316</td>\n",
       "      <td>0.9675</td>\n",
       "      <td>positive</td>\n",
       "    </tr>\n",
       "  </tbody>\n",
       "</table>\n",
       "</div>"
      ],
      "text/plain": [
       "   rating                 title  \\\n",
       "0       5         Pretty locket   \n",
       "1       5                     A   \n",
       "2       2             Two Stars   \n",
       "3       1       Won’t buy again   \n",
       "4       5  I LOVE these glasses   \n",
       "\n",
       "                                                text        asin parent_asin  \\\n",
       "0  I think this locket is really pretty. The insi...  B00LOPVX74  B00LOPVX74   \n",
       "1                                              Great  B07B4JXK8D  B07B4JXK8D   \n",
       "2  One of the stones fell out within the first 2 ...  B007ZSEQ4Q  B007ZSEQ4Q   \n",
       "3  Crappy socks. Money wasted. Bought to wear wit...  B07F2BTFS9  B07F2BTFS9   \n",
       "4  I LOVE these glasses!  They fit perfectly over...  B00PKRFU4O  B00XESJTDE   \n",
       "\n",
       "                        user_id        date             time    neg    neu  \\\n",
       "0  AGBFYI2DDIKXC5Y4FARTYDTQBMFQ  2020-01-09  00:06:34.489000  0.039  0.750   \n",
       "1  AFQLNQNQYFWQZPJQZS6V3NZU4QBQ  2020-12-20  01:04:06.701000  0.000  0.000   \n",
       "2  AHITBJSS7KYUBVZPX7M2WJCOIVKQ  2015-05-23         01:33:48  0.000  1.000   \n",
       "3  AFVNEEPDEIH5SPUN5BWC6NKL3WNQ  2018-12-31  20:57:27.095000  0.325  0.574   \n",
       "4  AHSPLDNW5OOUK2PLH7GXLACFBZNQ  2015-08-13         14:29:26  0.000  0.684   \n",
       "\n",
       "     pos  compound vader_sentiment  \n",
       "0  0.211    0.8532        positive  \n",
       "1  1.000    0.6249        positive  \n",
       "2  0.000    0.0000         neutral  \n",
       "3  0.100   -0.6908        negative  \n",
       "4  0.316    0.9675        positive  "
      ]
     },
     "execution_count": 62,
     "metadata": {},
     "output_type": "execute_result"
    }
   ],
   "source": [
    "filt_data.head()"
   ]
  },
  {
   "cell_type": "code",
   "execution_count": 63,
   "id": "0e4d3286",
   "metadata": {
    "execution": {
     "iopub.execute_input": "2025-01-08T21:27:33.504557Z",
     "iopub.status.busy": "2025-01-08T21:27:33.504162Z",
     "iopub.status.idle": "2025-01-08T21:27:35.625821Z",
     "shell.execute_reply": "2025-01-08T21:27:35.623981Z"
    },
    "papermill": {
     "duration": 2.702264,
     "end_time": "2025-01-08T21:27:35.627717",
     "exception": false,
     "start_time": "2025-01-08T21:27:32.925453",
     "status": "completed"
    },
    "tags": []
   },
   "outputs": [
    {
     "name": "stderr",
     "output_type": "stream",
     "text": [
      "/var/folders/kh/vgkjbf310bq1psy3lk09mqkr0000gn/T/ipykernel_8019/2054409573.py:4: FutureWarning: \n",
      "\n",
      "Passing `palette` without assigning `hue` is deprecated and will be removed in v0.14.0. Assign the `x` variable to `hue` and set `legend=False` for the same effect.\n",
      "\n",
      "  sns.countplot(x = filt_data['vader_sentiment'], palette = 'viridis')\n"
     ]
    },
    {
     "data": {
      "image/png": "[encoded data removed]",
      "text/plain": [
       "<Figure size 1000x600 with 1 Axes>"
      ]
     },
     "metadata": {},
     "output_type": "display_data"
    }
   ],
   "source": [
    "# Visualising the sentiment distribution \n",
    "\n",
    "plt.figure(figsize = (10,6))\n",
    "sns.countplot(x = filt_data['vader_sentiment'], palette = 'viridis')\n",
    "\n",
    "plt.xlabel(\"Sentiment\")\n",
    "plt.ylabel(\"Count\")\n",
    "plt.title(\"Sentiment Analysis - VADER\")\n",
    "plt.show()"
   ]
  },
  {
   "cell_type": "code",
   "execution_count": 64,
   "id": "0b2b3f23",
   "metadata": {
    "execution": {
     "iopub.execute_input": "2025-01-08T21:27:36.616762Z",
     "iopub.status.busy": "2025-01-08T21:27:36.616233Z",
     "iopub.status.idle": "2025-01-08T21:28:17.396385Z",
     "shell.execute_reply": "2025-01-08T21:28:17.395178Z"
    },
    "papermill": {
     "duration": 41.821836,
     "end_time": "2025-01-08T21:28:17.941985",
     "exception": false,
     "start_time": "2025-01-08T21:27:36.120149",
     "status": "completed"
    },
    "tags": []
   },
   "outputs": [
    {
     "data": {
      "image/png": "[encoded data removed]",
      "text/plain": [
       "<Figure size 700x500 with 1 Axes>"
      ]
     },
     "metadata": {},
     "output_type": "display_data"
    }
   ],
   "source": [
    "plt.figure(figsize = (7,5))\n",
    "sns.barplot(data = filt_data, x = 'rating', y = 'compound')\n",
    "plt.title(\"Compound score by Amazon ratings\")\n",
    "plt.show()"
   ]
  },
  {
   "cell_type": "code",
   "execution_count": 65,
   "id": "484d09e7",
   "metadata": {
    "execution": {
     "iopub.execute_input": "2025-01-08T21:28:18.906450Z",
     "iopub.status.busy": "2025-01-08T21:28:18.906099Z",
     "iopub.status.idle": "2025-01-08T21:30:17.378648Z",
     "shell.execute_reply": "2025-01-08T21:30:17.377451Z"
    },
    "papermill": {
     "duration": 119.524543,
     "end_time": "2025-01-08T21:30:17.948107",
     "exception": false,
     "start_time": "2025-01-08T21:28:18.423564",
     "status": "completed"
    },
    "tags": []
   },
   "outputs": [
    {
     "data": {
      "image/png": "[encoded data removed]",
      "text/plain": [
       "<Figure size 1200x300 with 3 Axes>"
      ]
     },
     "metadata": {},
     "output_type": "display_data"
    }
   ],
   "source": [
    "fig, axs = plt.subplots(1, 3, figsize=(12, 3))\n",
    "sns.barplot(data= filt_data, x='rating', y='pos', ax=axs[0])\n",
    "sns.barplot(data= filt_data, x='rating', y='neu', ax=axs[1])\n",
    "sns.barplot(data= filt_data, x='rating', y='neg', ax=axs[2])\n",
    "axs[0].set_title('Positive')\n",
    "axs[1].set_title('Neutral')\n",
    "axs[2].set_title('Negative')\n",
    "plt.tight_layout()\n",
    "plt.show()"
   ]
  },
  {
   "cell_type": "code",
   "execution_count": 66,
   "id": "bdc5df27",
   "metadata": {},
   "outputs": [
    {
     "data": {
      "image/png": "[encoded data removed]",
      "text/plain": [
       "<Figure size 640x480 with 1 Axes>"
      ]
     },
     "metadata": {},
     "output_type": "display_data"
    }
   ],
   "source": [
    "# Saving a light scored sample for review \n",
    "cols = [\"text\",\"rating\",\"neg\",\"neu\",\"pos\",\"compound\",\"vader_sentiment\"]\n",
    "filt_data[cols].head(1000).to_csv(REPORTS_DIR / \"vader_scored_sample.csv\", index=False)\n",
    "\n",
    "# Saving distribution chart\n",
    "order = [\"positive\",\"neutral\",\"negative\"]\n",
    "ax = (filt_data[\"vader_sentiment\"].value_counts()\n",
    "      .reindex(order).plot(kind=\"bar\"))\n",
    "ax.set_title(\"Sentiment distribution (VADER)\")\n",
    "ax.set_xlabel(\"label\"); ax.set_ylabel(\"count\")\n",
    "plt.tight_layout()\n",
    "plt.savefig(OUTPUT_DIR / \"sentiment_distribution_vader.png\", dpi=180)\n",
    "plt.show()\n"
   ]
  },
  {
   "cell_type": "markdown",
   "id": "5a43bd59",
   "metadata": {
    "papermill": {
     "duration": 0.658422,
     "end_time": "2025-01-08T21:30:19.118761",
     "exception": false,
     "start_time": "2025-01-08T21:30:18.460339",
     "status": "completed"
    },
    "tags": []
   },
   "source": [
    "Now with Vader analysis done we create and train an ML model to compare the sentiment recognition performance of VADER approcah with that of a process which uses TF-IDF + ML. \n",
    "\n",
    "TF-IDF stands for Term Frequency-Inverse Document Frequency, the methond using NLP converts text to numerical values. "
   ]
  },
  {
   "cell_type": "code",
   "execution_count": 67,
   "id": "e35d231a",
   "metadata": {
    "execution": {
     "iopub.execute_input": "2025-01-08T21:30:20.234858Z",
     "iopub.status.busy": "2025-01-08T21:30:20.234305Z",
     "iopub.status.idle": "2025-01-08T21:30:20.241122Z",
     "shell.execute_reply": "2025-01-08T21:30:20.239275Z"
    },
    "papermill": {
     "duration": 0.598119,
     "end_time": "2025-01-08T21:30:20.243613",
     "exception": false,
     "start_time": "2025-01-08T21:30:19.645494",
     "status": "completed"
    },
    "tags": []
   },
   "outputs": [
    {
     "data": {
      "text/plain": [
       "'from sklearn.feature_extraction.text import TfidfVectorizer  # To convert text to numerical values\\nfrom sklearn.model_selection import train_test_split # To split the data for ML-model trainig \\n\\nfrom sklearn.svm import SVC  # ML-model \\nfrom sklearn.metrics import classification_report, accuracy_score # To evaluate the model performance'"
      ]
     },
     "execution_count": 67,
     "metadata": {},
     "output_type": "execute_result"
    }
   ],
   "source": [
    "'''from sklearn.feature_extraction.text import TfidfVectorizer  # To convert text to numerical values\n",
    "from sklearn.model_selection import train_test_split # To split the data for ML-model trainig \n",
    "\n",
    "from sklearn.svm import SVC  # ML-model \n",
    "from sklearn.metrics import classification_report, accuracy_score # To evaluate the model performance'''"
   ]
  },
  {
   "cell_type": "code",
   "execution_count": 68,
   "id": "7d3ca13b",
   "metadata": {
    "execution": {
     "iopub.execute_input": "2025-01-08T21:30:21.346266Z",
     "iopub.status.busy": "2025-01-08T21:30:21.345879Z",
     "iopub.status.idle": "2025-01-08T21:30:24.161186Z",
     "shell.execute_reply": "2025-01-08T21:30:24.159484Z"
    },
    "papermill": {
     "duration": 3.409184,
     "end_time": "2025-01-08T21:30:24.163413",
     "exception": false,
     "start_time": "2025-01-08T21:30:20.754229",
     "status": "completed"
    },
    "tags": []
   },
   "outputs": [
    {
     "data": {
      "text/html": [
       "<div>\n",
       "<style scoped>\n",
       "    .dataframe tbody tr th:only-of-type {\n",
       "        vertical-align: middle;\n",
       "    }\n",
       "\n",
       "    .dataframe tbody tr th {\n",
       "        vertical-align: top;\n",
       "    }\n",
       "\n",
       "    .dataframe thead th {\n",
       "        text-align: right;\n",
       "    }\n",
       "</style>\n",
       "<table border=\"1\" class=\"dataframe\">\n",
       "  <thead>\n",
       "    <tr style=\"text-align: right;\">\n",
       "      <th></th>\n",
       "      <th>rating</th>\n",
       "      <th>title</th>\n",
       "      <th>text</th>\n",
       "      <th>asin</th>\n",
       "      <th>parent_asin</th>\n",
       "      <th>user_id</th>\n",
       "      <th>date</th>\n",
       "      <th>time</th>\n",
       "      <th>neg</th>\n",
       "      <th>neu</th>\n",
       "      <th>pos</th>\n",
       "      <th>compound</th>\n",
       "      <th>vader_sentiment</th>\n",
       "    </tr>\n",
       "  </thead>\n",
       "  <tbody>\n",
       "    <tr>\n",
       "      <th>0</th>\n",
       "      <td>5</td>\n",
       "      <td>Pretty locket</td>\n",
       "      <td>I think this locket is really pretty. The insi...</td>\n",
       "      <td>B00LOPVX74</td>\n",
       "      <td>B00LOPVX74</td>\n",
       "      <td>AGBFYI2DDIKXC5Y4FARTYDTQBMFQ</td>\n",
       "      <td>2020-01-09</td>\n",
       "      <td>00:06:34.489000</td>\n",
       "      <td>0.039</td>\n",
       "      <td>0.750</td>\n",
       "      <td>0.211</td>\n",
       "      <td>0.8532</td>\n",
       "      <td>positive</td>\n",
       "    </tr>\n",
       "    <tr>\n",
       "      <th>1</th>\n",
       "      <td>5</td>\n",
       "      <td>A</td>\n",
       "      <td>Great</td>\n",
       "      <td>B07B4JXK8D</td>\n",
       "      <td>B07B4JXK8D</td>\n",
       "      <td>AFQLNQNQYFWQZPJQZS6V3NZU4QBQ</td>\n",
       "      <td>2020-12-20</td>\n",
       "      <td>01:04:06.701000</td>\n",
       "      <td>0.000</td>\n",
       "      <td>0.000</td>\n",
       "      <td>1.000</td>\n",
       "      <td>0.6249</td>\n",
       "      <td>positive</td>\n",
       "    </tr>\n",
       "    <tr>\n",
       "      <th>2</th>\n",
       "      <td>2</td>\n",
       "      <td>Two Stars</td>\n",
       "      <td>One of the stones fell out within the first 2 ...</td>\n",
       "      <td>B007ZSEQ4Q</td>\n",
       "      <td>B007ZSEQ4Q</td>\n",
       "      <td>AHITBJSS7KYUBVZPX7M2WJCOIVKQ</td>\n",
       "      <td>2015-05-23</td>\n",
       "      <td>01:33:48</td>\n",
       "      <td>0.000</td>\n",
       "      <td>1.000</td>\n",
       "      <td>0.000</td>\n",
       "      <td>0.0000</td>\n",
       "      <td>neutral</td>\n",
       "    </tr>\n",
       "    <tr>\n",
       "      <th>3</th>\n",
       "      <td>1</td>\n",
       "      <td>Won’t buy again</td>\n",
       "      <td>Crappy socks. Money wasted. Bought to wear wit...</td>\n",
       "      <td>B07F2BTFS9</td>\n",
       "      <td>B07F2BTFS9</td>\n",
       "      <td>AFVNEEPDEIH5SPUN5BWC6NKL3WNQ</td>\n",
       "      <td>2018-12-31</td>\n",
       "      <td>20:57:27.095000</td>\n",
       "      <td>0.325</td>\n",
       "      <td>0.574</td>\n",
       "      <td>0.100</td>\n",
       "      <td>-0.6908</td>\n",
       "      <td>negative</td>\n",
       "    </tr>\n",
       "    <tr>\n",
       "      <th>4</th>\n",
       "      <td>5</td>\n",
       "      <td>I LOVE these glasses</td>\n",
       "      <td>I LOVE these glasses!  They fit perfectly over...</td>\n",
       "      <td>B00PKRFU4O</td>\n",
       "      <td>B00XESJTDE</td>\n",
       "      <td>AHSPLDNW5OOUK2PLH7GXLACFBZNQ</td>\n",
       "      <td>2015-08-13</td>\n",
       "      <td>14:29:26</td>\n",
       "      <td>0.000</td>\n",
       "      <td>0.684</td>\n",
       "      <td>0.316</td>\n",
       "      <td>0.9675</td>\n",
       "      <td>positive</td>\n",
       "    </tr>\n",
       "  </tbody>\n",
       "</table>\n",
       "</div>"
      ],
      "text/plain": [
       "   rating                 title  \\\n",
       "0       5         Pretty locket   \n",
       "1       5                     A   \n",
       "2       2             Two Stars   \n",
       "3       1       Won’t buy again   \n",
       "4       5  I LOVE these glasses   \n",
       "\n",
       "                                                text        asin parent_asin  \\\n",
       "0  I think this locket is really pretty. The insi...  B00LOPVX74  B00LOPVX74   \n",
       "1                                              Great  B07B4JXK8D  B07B4JXK8D   \n",
       "2  One of the stones fell out within the first 2 ...  B007ZSEQ4Q  B007ZSEQ4Q   \n",
       "3  Crappy socks. Money wasted. Bought to wear wit...  B07F2BTFS9  B07F2BTFS9   \n",
       "4  I LOVE these glasses!  They fit perfectly over...  B00PKRFU4O  B00XESJTDE   \n",
       "\n",
       "                        user_id        date             time    neg    neu  \\\n",
       "0  AGBFYI2DDIKXC5Y4FARTYDTQBMFQ  2020-01-09  00:06:34.489000  0.039  0.750   \n",
       "1  AFQLNQNQYFWQZPJQZS6V3NZU4QBQ  2020-12-20  01:04:06.701000  0.000  0.000   \n",
       "2  AHITBJSS7KYUBVZPX7M2WJCOIVKQ  2015-05-23         01:33:48  0.000  1.000   \n",
       "3  AFVNEEPDEIH5SPUN5BWC6NKL3WNQ  2018-12-31  20:57:27.095000  0.325  0.574   \n",
       "4  AHSPLDNW5OOUK2PLH7GXLACFBZNQ  2015-08-13         14:29:26  0.000  0.684   \n",
       "\n",
       "     pos  compound vader_sentiment  \n",
       "0  0.211    0.8532        positive  \n",
       "1  1.000    0.6249        positive  \n",
       "2  0.000    0.0000         neutral  \n",
       "3  0.100   -0.6908        negative  \n",
       "4  0.316    0.9675        positive  "
      ]
     },
     "execution_count": 68,
     "metadata": {},
     "output_type": "execute_result"
    }
   ],
   "source": [
    "ml_data = filt_data.copy() # Creating an independent copy of the dataset for better usability \n",
    "\n",
    "ml_data.head()"
   ]
  },
  {
   "cell_type": "code",
   "execution_count": 69,
   "id": "10f39473",
   "metadata": {
    "execution": {
     "iopub.execute_input": "2025-01-08T21:30:25.231128Z",
     "iopub.status.busy": "2025-01-08T21:30:25.230725Z",
     "iopub.status.idle": "2025-01-08T21:30:25.239720Z",
     "shell.execute_reply": "2025-01-08T21:30:25.237524Z"
    },
    "papermill": {
     "duration": 0.587113,
     "end_time": "2025-01-08T21:30:25.241871",
     "exception": false,
     "start_time": "2025-01-08T21:30:24.654758",
     "status": "completed"
    },
    "tags": []
   },
   "outputs": [
    {
     "data": {
      "text/plain": [
       "Index(['rating', 'title', 'text', 'asin', 'parent_asin', 'user_id', 'date',\n",
       "       'time', 'neg', 'neu', 'pos', 'compound', 'vader_sentiment'],\n",
       "      dtype='object')"
      ]
     },
     "execution_count": 69,
     "metadata": {},
     "output_type": "execute_result"
    }
   ],
   "source": [
    "ml_data.columns"
   ]
  },
  {
   "cell_type": "code",
   "execution_count": 70,
   "id": "f333b2c2",
   "metadata": {
    "execution": {
     "iopub.execute_input": "2025-01-08T21:30:26.251568Z",
     "iopub.status.busy": "2025-01-08T21:30:26.251175Z",
     "iopub.status.idle": "2025-01-08T21:30:26.526928Z",
     "shell.execute_reply": "2025-01-08T21:30:26.525494Z"
    },
    "papermill": {
     "duration": 0.783406,
     "end_time": "2025-01-08T21:30:26.529207",
     "exception": false,
     "start_time": "2025-01-08T21:30:25.745801",
     "status": "completed"
    },
    "tags": []
   },
   "outputs": [
    {
     "name": "stdout",
     "output_type": "stream",
     "text": [
      "vader_sentiment\n",
      "positive    1944921\n",
      "negative     287955\n",
      "neutral      268063\n",
      "Name: count, dtype: int64\n"
     ]
    }
   ],
   "source": [
    "print(ml_data[\"vader_sentiment\"].value_counts())"
   ]
  },
  {
   "cell_type": "code",
   "execution_count": 71,
   "id": "a974afaa",
   "metadata": {
    "execution": {
     "iopub.execute_input": "2025-01-08T21:30:27.615070Z",
     "iopub.status.busy": "2025-01-08T21:30:27.614699Z",
     "iopub.status.idle": "2025-01-08T21:30:27.654308Z",
     "shell.execute_reply": "2025-01-08T21:30:27.653096Z"
    },
    "papermill": {
     "duration": 0.554733,
     "end_time": "2025-01-08T21:30:27.656938",
     "exception": false,
     "start_time": "2025-01-08T21:30:27.102205",
     "status": "completed"
    },
    "tags": []
   },
   "outputs": [
    {
     "data": {
      "text/plain": [
       "Index(['rating', 'title', 'text', 'asin', 'parent_asin', 'user_id', 'date',\n",
       "       'time', 'neg', 'neu', 'pos', 'compound', 'vader_sentiment',\n",
       "       'sentiment'],\n",
       "      dtype='object')"
      ]
     },
     "execution_count": 71,
     "metadata": {},
     "output_type": "execute_result"
    }
   ],
   "source": [
    "ml_data[\"sentiment\"] = ml_data[\"vader_sentiment\"]\n",
    "\n",
    "ml_data.columns"
   ]
  },
  {
   "cell_type": "code",
   "execution_count": 75,
   "id": "20f105d3",
   "metadata": {},
   "outputs": [
    {
     "name": "stdout",
     "output_type": "stream",
     "text": [
      "              precision    recall  f1-score   support\n",
      "\n",
      "    negative       0.71      0.62      0.66     57591\n",
      "     neutral       0.67      0.90      0.76     53613\n",
      "    positive       0.96      0.93      0.94    388984\n",
      "\n",
      "    accuracy                           0.89    500188\n",
      "   macro avg       0.78      0.82      0.79    500188\n",
      "weighted avg       0.90      0.89      0.89    500188\n",
      "\n"
     ]
    },
    {
     "data": {
      "image/png": "[encoded data removed]",
      "text/plain": [
       "<Figure size 640x480 with 2 Axes>"
      ]
     },
     "metadata": {},
     "output_type": "display_data"
    }
   ],
   "source": [
    "# Training and predicting\n",
    "\n",
    "from sklearn.model_selection import train_test_split\n",
    "from sklearn.pipeline import make_pipeline\n",
    "from sklearn.feature_extraction.text import TfidfVectorizer\n",
    "from sklearn.linear_model import SGDClassifier\n",
    "from sklearn.metrics import classification_report, confusion_matrix, ConfusionMatrixDisplay\n",
    "\n",
    "X_train, X_test, y_train, y_test = train_test_split(\n",
    "    ml_data[\"text\"], ml_data[\"vader_sentiment\"],\n",
    "    test_size=0.2, stratify=ml_data[\"vader_sentiment\"], random_state=1\n",
    ")\n",
    "\n",
    "clf = make_pipeline(\n",
    "    TfidfVectorizer(max_features=20000, stop_words=\"english\", min_df=5, ngram_range=(1,2)),\n",
    "    SGDClassifier(loss=\"hinge\", class_weight=\"balanced\", random_state=1)\n",
    ")\n",
    "\n",
    "clf.fit(X_train, y_train)\n",
    "y_pred = clf.predict(X_test)\n",
    "\n",
    "print(classification_report(y_test, y_pred))\n",
    "ConfusionMatrixDisplay.from_predictions(y_test, y_pred)\n",
    "plt.tight_layout()\n",
    "plt.savefig(OUTPUT_DIR / \"confusion_matrix_vader_replication.png\", dpi=180)\n",
    "plt.show()\n"
   ]
  },
  {
   "cell_type": "code",
   "execution_count": 76,
   "id": "b47ccc5f",
   "metadata": {},
   "outputs": [
    {
     "name": "stdout",
     "output_type": "stream",
     "text": [
      "\n",
      "Classification Report (ML replicating VADER):\n",
      "\n",
      "              precision    recall  f1-score   support\n",
      "\n",
      "    negative      0.708     0.621     0.662     57591\n",
      "     neutral      0.665     0.900     0.765     53613\n",
      "    positive      0.957     0.928     0.943    388984\n",
      "\n",
      "    accuracy                          0.890    500188\n",
      "   macro avg      0.777     0.816     0.790    500188\n",
      "weighted avg      0.897     0.890     0.891    500188\n",
      "\n"
     ]
    },
    {
     "data": {
      "image/png": "[encoded data removed]",
      "text/plain": [
       "<Figure size 600x500 with 2 Axes>"
      ]
     },
     "metadata": {},
     "output_type": "display_data"
    },
    {
     "name": "stdout",
     "output_type": "stream",
     "text": [
      "Agreement (ML vs VADER labels, test set): 88.99%\n"
     ]
    }
   ],
   "source": [
    "# from sklearn.metrics import classification_report, confusion_matrix\n",
    "# Evaluattion and confustion matrix\n",
    "print(\"\\nClassification Report (ML replicating VADER):\\n\")\n",
    "print(classification_report(y_test, y_pred, digits=3))\n",
    "\n",
    "# Consistent label order for confusion matrix\n",
    "labels = np.array([\"positive\", \"neutral\", \"negative\"])\n",
    "cm = confusion_matrix(y_test, y_pred, labels=labels)\n",
    "\n",
    "plt.figure(figsize=(6,5))\n",
    "sns.heatmap(cm, annot=True, fmt=\"d\", cmap=\"Blues\",\n",
    "            xticklabels=labels, yticklabels=labels)\n",
    "plt.xlabel(\"Predicted (ML)\"); plt.ylabel(\"True (VADER)\")\n",
    "plt.title(\"Confusion Matrix — ML vs VADER (test set)\")\n",
    "plt.tight_layout()\n",
    "plt.savefig(OUTPUT_DIR / \"confusion_matrix_vader_replication.png\", dpi=180)\n",
    "plt.show()\n",
    "\n",
    "\n",
    "agreement = (y_test == y_pred).mean()\n",
    "print(f\"Agreement (ML vs VADER labels, test set): {agreement:.2%}\")\n"
   ]
  },
  {
   "cell_type": "code",
   "execution_count": 77,
   "id": "bac4a5f4",
   "metadata": {},
   "outputs": [],
   "source": [
    "\n",
    "comparison_df = pd.DataFrame({\n",
    "    \"text\": X_test,                    # X_test is a Series in this pipeline\n",
    "    \"VADER_Sentiment\": y_test,\n",
    "    \"ML_Model_Sentiment\": y_pred\n",
    "})\n",
    "comparison_df.head(1000).to_csv(REPORTS_DIR / \"vader_vs_ml_comparison_sample.csv\", index=False)\n"
   ]
  },
  {
   "cell_type": "code",
   "execution_count": 78,
   "id": "d9c2d47b",
   "metadata": {
    "execution": {
     "iopub.execute_input": "2025-01-08T21:31:29.966943Z",
     "iopub.status.busy": "2025-01-08T21:31:29.966467Z",
     "iopub.status.idle": "2025-01-08T21:31:30.188149Z",
     "shell.execute_reply": "2025-01-08T21:31:30.186637Z"
    },
    "papermill": {
     "duration": 0.78418,
     "end_time": "2025-01-08T21:31:30.190245",
     "exception": false,
     "start_time": "2025-01-08T21:31:29.406065",
     "status": "completed"
    },
    "tags": []
   },
   "outputs": [
    {
     "name": "stdout",
     "output_type": "stream",
     "text": [
      "sentiment\n",
      "positive    1944921\n",
      "negative     287955\n",
      "neutral      268063\n",
      "Name: count, dtype: int64\n"
     ]
    }
   ],
   "source": [
    "sentiment_counts = ml_data['sentiment'].value_counts()\n",
    "print(sentiment_counts)"
   ]
  },
  {
   "cell_type": "markdown",
   "id": "0c3cd42c",
   "metadata": {
    "papermill": {
     "duration": 0.586051,
     "end_time": "2025-01-08T21:43:23.953009",
     "exception": false,
     "start_time": "2025-01-08T21:43:23.366958",
     "status": "completed"
    },
    "tags": []
   },
   "source": [
    "# Comapring the model predictions with VADER"
   ]
  },
  {
   "cell_type": "code",
   "execution_count": 79,
   "id": "25dca456",
   "metadata": {
    "execution": {
     "iopub.execute_input": "2025-01-08T21:43:28.297908Z",
     "iopub.status.busy": "2025-01-08T21:43:28.297499Z",
     "iopub.status.idle": "2025-01-08T21:43:28.385800Z",
     "shell.execute_reply": "2025-01-08T21:43:28.384496Z"
    },
    "papermill": {
     "duration": 0.667923,
     "end_time": "2025-01-08T21:43:28.387750",
     "exception": false,
     "start_time": "2025-01-08T21:43:27.719827",
     "status": "completed"
    },
    "tags": []
   },
   "outputs": [
    {
     "data": {
      "text/plain": [
       "'comparison_df = pd.DataFrame({\\n    \"text\": X_test,                     # Series of raw texts from the split\\n    \"VADER_Sentiment\": y_test,          # test labels (VADER)\\n    \"ML_Model_Sentiment\": y_pred        # pipeline predictions\\n})\\ncomparison_df.head(1000).to_csv(REPORTS_DIR / \"vader_vs_ml_comparison_sample.csv\", index=False)\\ncomparison_df.head()'"
      ]
     },
     "execution_count": 79,
     "metadata": {},
     "output_type": "execute_result"
    }
   ],
   "source": [
    "'''comparison_df = pd.DataFrame({\n",
    "    \"text\": X_test,                     # Series of raw texts from the split\n",
    "    \"VADER_Sentiment\": y_test,          # test labels (VADER)\n",
    "    \"ML_Model_Sentiment\": y_pred        # pipeline predictions\n",
    "})\n",
    "comparison_df.head(1000).to_csv(REPORTS_DIR / \"vader_vs_ml_comparison_sample.csv\", index=False)\n",
    "comparison_df.head()'''"
   ]
  },
  {
   "cell_type": "code",
   "execution_count": 80,
   "id": "984eb9e8",
   "metadata": {
    "execution": {
     "iopub.execute_input": "2025-01-08T21:43:29.413183Z",
     "iopub.status.busy": "2025-01-08T21:43:29.412831Z",
     "iopub.status.idle": "2025-01-08T21:43:29.461840Z",
     "shell.execute_reply": "2025-01-08T21:43:29.460752Z"
    },
    "papermill": {
     "duration": 0.574363,
     "end_time": "2025-01-08T21:43:29.463490",
     "exception": false,
     "start_time": "2025-01-08T21:43:28.889127",
     "status": "completed"
    },
    "tags": []
   },
   "outputs": [
    {
     "name": "stdout",
     "output_type": "stream",
     "text": [
      "Agreement Between VADER and ML Model: 88.99%\n"
     ]
    }
   ],
   "source": [
    "# Calculating the percentage of matching sentiment predictions\n",
    "agreement = (comparison_df[\"VADER_Sentiment\"] == comparison_df[\"ML_Model_Sentiment\"]).mean()\n",
    "print(f\"Agreement Between VADER and ML Model: {agreement:.2%}\")"
   ]
  },
  {
   "cell_type": "code",
   "execution_count": 81,
   "id": "c0761edf",
   "metadata": {
    "execution": {
     "iopub.execute_input": "2025-01-08T21:43:33.188146Z",
     "iopub.status.busy": "2025-01-08T21:43:33.187642Z",
     "iopub.status.idle": "2025-01-08T21:43:33.541653Z",
     "shell.execute_reply": "2025-01-08T21:43:33.540508Z"
    },
    "papermill": {
     "duration": 0.940932,
     "end_time": "2025-01-08T21:43:33.543404",
     "exception": false,
     "start_time": "2025-01-08T21:43:32.602472",
     "status": "completed"
    },
    "tags": []
   },
   "outputs": [
    {
     "data": {
      "image/png": "[encoded data removed]",
      "text/plain": [
       "<Figure size 600x500 with 2 Axes>"
      ]
     },
     "metadata": {},
     "output_type": "display_data"
    }
   ],
   "source": [
    "\n",
    "labels = np.array([\"positive\", \"neutral\", \"negative\"])\n",
    "cm = confusion_matrix(y_test, y_pred, labels=labels)\n",
    "\n",
    "plt.figure(figsize=(6,5))\n",
    "sns.heatmap(cm, annot=True, fmt=\"d\", cmap=\"Blues\",\n",
    "            xticklabels=labels, yticklabels=labels)\n",
    "plt.xlabel(\"Predicted (ML)\"); plt.ylabel(\"True (VADER)\")\n",
    "plt.title(\"Confusion Matrix — ML vs VADER (test set)\")\n",
    "plt.tight_layout()\n",
    "plt.savefig(OUTPUT_DIR / \"confusion_matrix_vader_replication.png\", dpi=180)\n",
    "plt.show()\n"
   ]
  },
  {
   "cell_type": "code",
   "execution_count": 82,
   "id": "7504e57b",
   "metadata": {},
   "outputs": [],
   "source": [
    "# Save Outputs for Repo \n",
    "\n",
    "# Save a sample of the comparison DataFrame (first 1000 rows)\n",
    "comparison_df.head(1000).to_csv(REPORTS_DIR / \"vader_vs_ml_sentiment_comparison.csv\", index=False)\n"
   ]
  },
  {
   "cell_type": "markdown",
   "id": "dada3082",
   "metadata": {
    "papermill": {
     "duration": 0.508766,
     "end_time": "2025-01-08T21:43:56.515630",
     "exception": false,
     "start_time": "2025-01-08T21:43:56.006864",
     "status": "completed"
    },
    "tags": []
   },
   "source": [
    "# Summary & Reflection\n",
    "\n",
    "What I did: Applied VADER (lexicon-based) to ~23k Amazon Fashion reviews to derive positive/neutral/negative labels; explored relationships with star ratings; saved a scored sample and a distribution figure.\n",
    "Quick sanity-check: Trained a minimal TF-IDF + linear model to replicate VADER labels on a held-out set; reported macro metrics and a confusion matrix.\n",
    "\n",
    "What worked:\n",
    "\n",
    "VADER thresholds gave a fast, explainable baseline.\n",
    "\n",
    "Clear charts (sentiment distribution, rating vs compound) tell the story quickly.\n",
    "\n",
    "Saved artifacts (/reports, /outputs/figures) make the project reproducible.\n",
    "\n",
    "Limitations:\n",
    "\n",
    "VADER is heuristic; it misses sarcasm and domain slang.\n",
    "\n",
    "The ML step mirrors VADER rather than human labels, so it validates features—not “true” sentiment.\n",
    "\n",
    "Next steps (DA/BA-friendly):\n",
    "\n",
    "Segment sentiment by product type/brand/time to find where negatives cluster.\n",
    "\n",
    "Extract top n-grams for negatives to surface drivers (fit, quality, delivery).\n",
    "\n",
    "If needed, compare VADER vs a simple rules baseline and report macro-F1.\n",
    "\n",
    "Takeaways: Split-first-transform-later (avoid leakage), prefer macro-F1 + confusion matrix over accuracy for skewed data, and always save artifacts for stakeholders."
   ]
  },
  {
   "cell_type": "markdown",
   "id": "c62ee5d6",
   "metadata": {},
   "source": []
  }
 ],
 "metadata": {
  "kaggle": {
   "accelerator": "none",
   "dataSources": [
    {
     "datasetId": 6423553,
     "sourceId": 10370407,
     "sourceType": "datasetVersion"
    }
   ],
   "isGpuEnabled": false,
   "isInternetEnabled": true,
   "language": "python",
   "sourceType": "notebook"
  },
  "kernelspec": {
   "display_name": "nlp-sentiment",
   "language": "python",
   "name": "python3"
  },
  "language_info": {
   "codemirror_mode": {
    "name": "ipython",
    "version": 3
   },
   "file_extension": ".py",
   "mimetype": "text/x-python",
   "name": "python",
   "nbconvert_exporter": "python",
   "pygments_lexer": "ipython3",
   "version": "3.12.11"
  },
  "papermill": {
   "default_parameters": {},
   "duration": 1952.666641,
   "end_time": "2025-01-08T21:44:03.481832",
   "environment_variables": {},
   "exception": null,
   "input_path": "__notebook__.ipynb",
   "output_path": "__notebook__.ipynb",
   "parameters": {},
   "start_time": "2025-01-08T21:11:30.815191",
   "version": "2.6.0"
  }
 },
 "nbformat": 4,
 "nbformat_minor": 5
}
